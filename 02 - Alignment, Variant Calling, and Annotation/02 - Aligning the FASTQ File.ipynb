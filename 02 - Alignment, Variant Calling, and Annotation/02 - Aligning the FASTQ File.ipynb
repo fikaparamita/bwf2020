{
 "cells": [
  {
   "cell_type": "markdown",
   "metadata": {},
   "source": [
    "# Aligning the query sequence\n",
    "\n",
    "Now that we have built the reference index using BWA, we can align the query sequence (`input.fq`) to this reference.\n",
    "\n",
    "![](images/workflow-alignment.png)\n",
    "\n",
    "Let us take a look again at the files:"
   ]
  },
  {
   "cell_type": "code",
   "execution_count": null,
   "metadata": {
    "collapsed": false,
    "jupyter": {
     "outputs_hidden": false
    }
   },
   "outputs": [],
   "source": [
    "ls -lh"
   ]
  },
  {
   "cell_type": "markdown",
   "metadata": {},
   "source": [
    "### Taking a peek at the input FASTQ file"
   ]
  },
  {
   "cell_type": "code",
   "execution_count": null,
   "metadata": {
    "collapsed": false,
    "jupyter": {
     "outputs_hidden": false
    }
   },
   "outputs": [],
   "source": [
    "head input.fq"
   ]
  },
  {
   "cell_type": "markdown",
   "metadata": {},
   "source": [
    "### Aligning the sequence file using BWA\n",
    "\n",
    "We will run BWA to see the options"
   ]
  },
  {
   "cell_type": "code",
   "execution_count": null,
   "metadata": {
    "collapsed": false,
    "jupyter": {
     "outputs_hidden": false
    }
   },
   "outputs": [],
   "source": [
    "bwa"
   ]
  },
  {
   "cell_type": "markdown",
   "metadata": {},
   "source": [
    "There are several commands for BWA alignment (`mem`, `bwasw`) that are optimized for sequences of different lengths. For most purposes, BWA `mem` will give good results.\n",
    "\n",
    "Let us take a look at the options for alignment using the `mem` command"
   ]
  },
  {
   "cell_type": "code",
   "execution_count": null,
   "metadata": {
    "collapsed": false,
    "jupyter": {
     "outputs_hidden": false
    }
   },
   "outputs": [],
   "source": [
    "bwa mem "
   ]
  },
  {
   "cell_type": "markdown",
   "metadata": {},
   "source": [
    "For a simple alignment, we will just need to specify 2 things:\n",
    "\n",
    "- reference index (we will use the prefix name)\n",
    "- the input query fastq file\n",
    "\n",
    "To speed up the alignment, we can use additional cores in the CPU by specifying the `-t` option.\n",
    "\n",
    "The BWA program will output the alignments in the SAM format (we will look at this shortly). To save the output to a file, we will redirect the output to a file using the `>` operator."
   ]
  },
  {
   "cell_type": "code",
   "execution_count": null,
   "metadata": {
    "collapsed": false,
    "jupyter": {
     "outputs_hidden": false
    }
   },
   "outputs": [],
   "source": [
    "bwa mem -t 4 chr5.fa input.fq > mapped.sam"
   ]
  },
  {
   "cell_type": "markdown",
   "metadata": {},
   "source": [
    "Let us take a look at the SAM output"
   ]
  },
  {
   "cell_type": "code",
   "execution_count": null,
   "metadata": {
    "collapsed": false,
    "jupyter": {
     "outputs_hidden": false
    }
   },
   "outputs": [],
   "source": [
    "head mapped.sam"
   ]
  },
  {
   "cell_type": "markdown",
   "metadata": {},
   "source": [
    "## Looking at the SAM format\n",
    "\n",
    "The SAM format is a tab delimited text file for storing alignments. The file usually starts with a header containing one/several lines marked by the letter `@`. This usually specifies the reference chromosomes used in the alignment, as well the the parameters used for the alignment\n",
    "\n",
    "Following the header, each line of alignment consists of several tab-delimited columns.\n",
    "\n",
    "<pre>QNAME FLAG RNAME POS MAPQ CIGAR MRNM MPOS ISIZE SEQ QUAL [TAG:VTYPE:VALUE[...]]</pre>\n",
    "* The first 11 are mandatory\n",
    "* Additional columns can be added using the format TAG:VTYPE:VALUE\n",
    "\n",
    "From: http://zyxue.github.io/assets/sam_format_example.jpg\n",
    "![](http://zyxue.github.io/assets/sam_format_example.jpg)"
   ]
  },
  {
   "cell_type": "markdown",
   "metadata": {},
   "source": [
    "Let us take a look at one alignment for the SAM output"
   ]
  },
  {
   "cell_type": "code",
   "execution_count": null,
   "metadata": {
    "collapsed": false,
    "jupyter": {
     "outputs_hidden": false
    }
   },
   "outputs": [],
   "source": [
    "head -n 3 mapped.sam"
   ]
  },
  {
   "cell_type": "markdown",
   "metadata": {},
   "source": [
    "We can break down the contents according to the tab-delimited columns:\n",
    "\n",
    "\n",
    "* QNAME = SRRQ866988.19885082 \n",
    "* FLAG = 0 \n",
    "* RNAME = chr5\n",
    "* POS = 148351452\n",
    "* MAPQ = 60\n",
    "* CIGAR = 91M\n",
    "* MRNM = *\n",
    "* MPOS = 0\n",
    "* ISIZE = 0\n",
    "* SEQ = CCAAGTAAGATTGAGCTTGAAGGCTGTTCTCATTTTGTAAAAACATAAGCTCAGGAAGTGTTGAAGATATTTTAACTCTACACTGAGACTT\n",
    "* QUAL = GIIGIIIIIIIIHIIIIIIIIIIIIIIIIIIGIIIIIIIIIIHIIIIIGIIIIEHBGGEGIIHIHIIIFIIIIHIIBHIIGEHIE<EII<G\n",
    "\n",
    "The tags (after column 11) form additional columns:\n",
    "\n",
    "* NM:i:0 = Edit distance, integer type, 0\n"
   ]
  }
 ],
 "metadata": {
  "kernelspec": {
   "display_name": "Bash",
   "language": "bash",
   "name": "bash"
  },
  "language_info": {
   "codemirror_mode": "shell",
   "file_extension": ".sh",
   "mimetype": "text/x-sh",
   "name": "bash"
  }
 },
 "nbformat": 4,
 "nbformat_minor": 4
}
