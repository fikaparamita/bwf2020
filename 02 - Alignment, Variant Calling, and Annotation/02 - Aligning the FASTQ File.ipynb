{
 "cells": [
  {
   "cell_type": "markdown",
   "metadata": {},
   "source": [
    "# Aligning the query sequence\n",
    "\n",
    "Now that we have built the reference index using BWA, we can align the query sequence (input.fq) to this reference.\n",
    "\n",
    "Let us take a look again at the files:"
   ]
  },
  {
   "cell_type": "code",
   "execution_count": 1,
   "metadata": {
    "collapsed": false,
    "jupyter": {
     "outputs_hidden": false
    }
   },
   "outputs": [
    {
     "name": "stdout",
     "output_type": "stream",
     "text": [
      "total 481M\n",
      "-rw-r--r-- 1 root root  15K Jul 24 00:35 '01 - Preparations for Finding a Disease Mutation.ipynb'\n",
      "-rw-r--r-- 1 root root  16K Jul 24 00:19 '02 - Aligning the FASTQ File.ipynb'\n",
      "-rw-r--r-- 1 root root  61K Jul 24 00:19 '03 - Variant Calling.ipynb'\n",
      "-rw-r--r-- 1 root root  11K Jul 24 00:19 '04 - Annotation of Variants.ipynb'\n",
      "-rw-r--r-- 1 root root 177M Jul 24 00:20  chr5.fa\n",
      "-rw-r--r-- 1 root root  588 Jul 24 00:32  chr5.fa.amb\n",
      "-rw-r--r-- 1 root root   44 Jul 24 00:32  chr5.fa.ann\n",
      "-rw-r--r-- 1 root root 174M Jul 24 00:32  chr5.fa.bwt\n",
      "-rw-r--r-- 1 root root   23 Jul 24 03:13  chr5.fa.fai\n",
      "-rw-r--r-- 1 root root  44M Jul 24 00:32  chr5.fa.pac\n",
      "-rw-r--r-- 1 root root  87M Jul 24 00:33  chr5.fa.sa\n",
      "-rw-r--r-- 1 root root 820K Jul 24 00:19  input.fq\n",
      "-rw-r--r-- 1 root root 225K Jul 24 00:22  input_fastqc.html\n",
      "-rw-r--r-- 1 root root 235K Jul 24 00:22  input_fastqc.zip\n",
      "-rw-r--r-- 1 root root    0 Jul 24 03:13  mapped.bam\n",
      "-rw-r--r-- 1 root root   92 Jul 24 03:13  mapped.sort.bam\n",
      "-rw-r--r-- 1 root root   16 Jul 24 03:13  mapped.sort.bam.bai\n",
      "-rw-r--r-- 1 root root 7.5K Jul 24 03:13  result.vcf\n"
     ]
    }
   ],
   "source": [
    "ls -lh"
   ]
  },
  {
   "cell_type": "markdown",
   "metadata": {},
   "source": [
    "### Taking a peek at the input FASTQ file"
   ]
  },
  {
   "cell_type": "code",
   "execution_count": 2,
   "metadata": {
    "collapsed": false,
    "jupyter": {
     "outputs_hidden": false
    }
   },
   "outputs": [
    {
     "name": "stdout",
     "output_type": "stream",
     "text": [
      "@SRRQ866988.19885082\n",
      "CCAAGTAAGATTGAGCTTGAAGGCTGTTCTCATTTTGTAAAAACATAAGCTCAGGAAGTGTTGAAGATATTTTAACTCTACACTGAGACTT\n",
      "+SRRQ866988.19885082\n",
      "GIIGIIIIIIIIHIIIIIIIIIIIIIIIIIIGIIIIIIIIIIHIIIIIGIIIIEHBGGEGIIHIHIIIFIIIIHIIBHIIGEHIE<EII<G\n",
      "@SRRQ866988.19885085\n",
      "GAATAACCCTGTGCCCTCCAGAACTGGTGCCCTGTGAACACCCAAAAGCAAAGAGAAGTGACTCTTGTTCCTAATGTGGAAAGAGCAGAAC\n",
      "+SRRQ866988.19885085\n",
      "GDGEDBGGDG<DGGGGFGGGDG?G8EDC>FFF>FCDGGG:GEGBGGG>GD==8??66:2:FCECED<CCCGHHHBGEDGEAAB<8ACC8C?\n",
      "@SRRQ866988.19885086\n",
      "GGAGTCTCAGAGAGAGGTGTGACCTGGACCCTGCCTGCCTCTCCAGCTGCACTCACAGCATCCTCACCATCTTCACTCTGCTTGGTCCCAC\n"
     ]
    }
   ],
   "source": [
    "head input.fq"
   ]
  },
  {
   "cell_type": "markdown",
   "metadata": {},
   "source": [
    "### Aligning the sequence file using BWA\n",
    "\n",
    "We will again load the BWA module, and run BWA to see the options"
   ]
  },
  {
   "cell_type": "code",
   "execution_count": 3,
   "metadata": {
    "collapsed": false,
    "jupyter": {
     "outputs_hidden": false
    }
   },
   "outputs": [
    {
     "name": "stdout",
     "output_type": "stream",
     "text": [
      "\n",
      "Program: bwa (alignment via Burrows-Wheeler transformation)\n",
      "Version: 0.7.17-r1188\n",
      "Contact: Heng Li <lh3@sanger.ac.uk>\n",
      "\n",
      "Usage:   bwa <command> [options]\n",
      "\n",
      "Command: index         index sequences in the FASTA format\n",
      "         mem           BWA-MEM algorithm\n",
      "         fastmap       identify super-maximal exact matches\n",
      "         pemerge       merge overlapping paired ends (EXPERIMENTAL)\n",
      "         aln           gapped/ungapped alignment\n",
      "         samse         generate alignment (single ended)\n",
      "         sampe         generate alignment (paired ended)\n",
      "         bwasw         BWA-SW for long queries\n",
      "\n",
      "         shm           manage indices in shared memory\n",
      "         fa2pac        convert FASTA to PAC format\n",
      "         pac2bwt       generate BWT from PAC\n",
      "         pac2bwtgen    alternative algorithm for generating BWT\n",
      "         bwtupdate     update .bwt to the new format\n",
      "         bwt2sa        generate SA from BWT and Occ\n",
      "\n",
      "Note: To use BWA, you need to first index the genome with `bwa index'.\n",
      "      There are three alignment algorithms in BWA: `mem', `bwasw', and\n",
      "      `aln/samse/sampe'. If you are not sure which to use, try `bwa mem'\n",
      "      first. Please `man ./bwa.1' for the manual.\n",
      "\n"
     ]
    },
    {
     "ename": "",
     "evalue": "1",
     "output_type": "error",
     "traceback": []
    }
   ],
   "source": [
    "bwa"
   ]
  },
  {
   "cell_type": "markdown",
   "metadata": {},
   "source": [
    "There are several options for BWA alignment (mem, bwasw) that are optimized for sequences of different lengths. For most purposes, BWA mem will give good results.\n",
    "\n",
    "Let us take a look at the options for alignment using the mem option"
   ]
  },
  {
   "cell_type": "code",
   "execution_count": 4,
   "metadata": {
    "collapsed": false,
    "jupyter": {
     "outputs_hidden": false
    }
   },
   "outputs": [
    {
     "name": "stdout",
     "output_type": "stream",
     "text": [
      "\n",
      "Usage: bwa mem [options] <idxbase> <in1.fq> [in2.fq]\n",
      "\n",
      "Algorithm options:\n",
      "\n",
      "       -t INT        number of threads [1]\n",
      "       -k INT        minimum seed length [19]\n",
      "       -w INT        band width for banded alignment [100]\n",
      "       -d INT        off-diagonal X-dropoff [100]\n",
      "       -r FLOAT      look for internal seeds inside a seed longer than {-k} * FLOAT [1.5]\n",
      "       -y INT        seed occurrence for the 3rd round seeding [20]\n",
      "       -c INT        skip seeds with more than INT occurrences [500]\n",
      "       -D FLOAT      drop chains shorter than FLOAT fraction of the longest overlapping chain [0.50]\n",
      "       -W INT        discard a chain if seeded bases shorter than INT [0]\n",
      "       -m INT        perform at most INT rounds of mate rescues for each read [50]\n",
      "       -S            skip mate rescue\n",
      "       -P            skip pairing; mate rescue performed unless -S also in use\n",
      "\n",
      "Scoring options:\n",
      "\n",
      "       -A INT        score for a sequence match, which scales options -TdBOELU unless overridden [1]\n",
      "       -B INT        penalty for a mismatch [4]\n",
      "       -O INT[,INT]  gap open penalties for deletions and insertions [6,6]\n",
      "       -E INT[,INT]  gap extension penalty; a gap of size k cost '{-O} + {-E}*k' [1,1]\n",
      "       -L INT[,INT]  penalty for 5'- and 3'-end clipping [5,5]\n",
      "       -U INT        penalty for an unpaired read pair [17]\n",
      "\n",
      "       -x STR        read type. Setting -x changes multiple parameters unless overridden [null]\n",
      "                     pacbio: -k17 -W40 -r10 -A1 -B1 -O1 -E1 -L0  (PacBio reads to ref)\n",
      "                     ont2d: -k14 -W20 -r10 -A1 -B1 -O1 -E1 -L0  (Oxford Nanopore 2D-reads to ref)\n",
      "                     intractg: -B9 -O16 -L5  (intra-species contigs to ref)\n",
      "\n",
      "Input/output options:\n",
      "\n",
      "       -p            smart pairing (ignoring in2.fq)\n",
      "       -R STR        read group header line such as '@RG\\tID:foo\\tSM:bar' [null]\n",
      "       -H STR/FILE   insert STR to header if it starts with @; or insert lines in FILE [null]\n",
      "       -o FILE       sam file to output results to [stdout]\n",
      "       -j            treat ALT contigs as part of the primary assembly (i.e. ignore <idxbase>.alt file)\n",
      "       -5            for split alignment, take the alignment with the smallest coordinate as primary\n",
      "       -q            don't modify mapQ of supplementary alignments\n",
      "       -K INT        process INT input bases in each batch regardless of nThreads (for reproducibility) []\n",
      "\n",
      "       -v INT        verbosity level: 1=error, 2=warning, 3=message, 4+=debugging [3]\n",
      "       -T INT        minimum score to output [30]\n",
      "       -h INT[,INT]  if there are <INT hits with score >80% of the max score, output all in XA [5,200]\n",
      "       -a            output all alignments for SE or unpaired PE\n",
      "       -C            append FASTA/FASTQ comment to SAM output\n",
      "       -V            output the reference FASTA header in the XR tag\n",
      "       -Y            use soft clipping for supplementary alignments\n",
      "       -M            mark shorter split hits as secondary\n",
      "\n",
      "       -I FLOAT[,FLOAT[,INT[,INT]]]\n",
      "                     specify the mean, standard deviation (10% of the mean if absent), max\n",
      "                     (4 sigma from the mean if absent) and min of the insert size distribution.\n",
      "                     FR orientation only. [inferred]\n",
      "\n",
      "Note: Please read the man page for detailed description of the command line and options.\n",
      "\n"
     ]
    },
    {
     "ename": "",
     "evalue": "1",
     "output_type": "error",
     "traceback": []
    }
   ],
   "source": [
    "bwa mem "
   ]
  },
  {
   "cell_type": "markdown",
   "metadata": {},
   "source": [
    "For a simple alignment, we will just need to specify 2 things:\n",
    "\n",
    "- reference index (we will use the prefix name)\n",
    "- the input query fastq file\n",
    "\n",
    "The BWA program will output the alignments in the SAM format (we will look at this shortly). To save the output to a file, we will redirect the output to a file using the > operator."
   ]
  },
  {
   "cell_type": "code",
   "execution_count": 5,
   "metadata": {
    "collapsed": false,
    "jupyter": {
     "outputs_hidden": false
    }
   },
   "outputs": [
    {
     "name": "stdout",
     "output_type": "stream",
     "text": [
      "[M::bwa_idx_load_from_disk] read 0 ALT contigs\n",
      "[M::process] read 3714 sequences (337974 bp)...\n",
      "[M::mem_process_seqs] Processed 3714 reads in 0.130 CPU sec, 0.037 real sec\n",
      "[main] Version: 0.7.17-r1188\n",
      "[main] CMD: bwa mem -t 4 chr5.fa input.fq\n",
      "[main] Real time: 0.206 sec; CPU: 0.268 sec\n"
     ]
    }
   ],
   "source": [
    "bwa mem -t 4 chr5.fa input.fq > mapped.sam"
   ]
  },
  {
   "cell_type": "markdown",
   "metadata": {},
   "source": [
    "Let us take a look at the SAM output"
   ]
  },
  {
   "cell_type": "code",
   "execution_count": 6,
   "metadata": {
    "collapsed": false,
    "jupyter": {
     "outputs_hidden": false
    }
   },
   "outputs": [
    {
     "name": "stdout",
     "output_type": "stream",
     "text": [
      "@SQ\tSN:chr5\tLN:181538259\n",
      "@PG\tID:bwa\tPN:bwa\tVN:0.7.17-r1188\tCL:bwa mem -t 4 chr5.fa input.fq\n",
      "SRRQ866988.19885082\t0\tchr5\t148971889\t60\t91M\t*\t0\t0\tCCAAGTAAGATTGAGCTTGAAGGCTGTTCTCATTTTGTAAAAACATAAGCTCAGGAAGTGTTGAAGATATTTTAACTCTACACTGAGACTT\tGIIGIIIIIIIIHIIIIIIIIIIIIIIIIIIGIIIIIIIIIIHIIIIIGIIIIEHBGGEGIIHIHIIIFIIIIHIIBHIIGEHIE<EII<G\tNM:i:0\tMD:Z:91\tAS:i:91\tXS:i:0\n",
      "SRRQ866988.19885085\t0\tchr5\t148973059\t60\t91M\t*\t0\t0\tGAATAACCCTGTGCCCTCCAGAACTGGTGCCCTGTGAACACCCAAAAGCAAAGAGAAGTGACTCTTGTTCCTAATGTGGAAAGAGCAGAAC\tGDGEDBGGDG<DGGGGFGGGDG?G8EDC>FFF>FCDGGG:GEGBGGG>GD==8??66:2:FCECED<CCCGHHHBGEDGEAAB<8ACC8C?\tNM:i:0\tMD:Z:91\tAS:i:91\tXS:i:0\n",
      "SRRQ866988.19885086\t0\tchr5\t148973888\t60\t91M\t*\t0\t0\tGGAGTCTCAGAGAGAGGTGTGACCTGGACCCTGCCTGCCTCTCCAGCTGCACTCACAGCATCCTCACCATCTTCACTCTGCTTGGTCCCAC\tHHHHHHHHHHGBGHHHGEHGHHHH@DGEGGH>HHHCCFCCAGGGDHHEFHEHFFFBB<FDEFCB1BBB=@AA@D=??DBE>:4*8@@9<>A\tNM:i:1\tMD:Z:12C78\tAS:i:86\tXS:i:0\n",
      "SRRQ866988.19885087\t0\tchr5\t148974777\t60\t91M\t*\t0\t0\tCTTACTAAAACTCACCATGTGTCAAGCGCTTCACTGACATCATCTTATTTAATCCTCACAACATCCTTAGAAGAGATCTTATCTTCCCCAT\tIIIIIIIIIIIIIIIIIIIIIIIIIIIIIIIIIHIIIIGIIIIIIIIIIIIIIIIIIHGIIIIIIIIIIIBIIHIIIEIHIFIGHIIHIHD\tNM:i:0\tMD:Z:91\tAS:i:91\tXS:i:20\n",
      "SRRQ866988.19885089\t0\tchr5\t148979710\t60\t91M\t*\t0\t0\tAATGCCCTGTGCCGTCTGCCTTCTGGCCTAATCCCACCTCTACAGTCTACAGCCTCCTCTCATTGCCCCCTTGGTTCTTCCCACCCAGGCA\tIIIIIIIHFIIIIIIIIIIIIIIDIIIIIHIIIIIIIIHIHFIHIFIHGIHGIIGHHHIGHDGGEGIEDHCDDD@GGEEGEEDGAAA;@B#\tNM:i:0\tMD:Z:91\tAS:i:91\tXS:i:0\n",
      "SRRQ866988.19885090\t0\tchr5\t148980338\t60\t91M\t*\t0\t0\tCCAGCCATTGTGTTGCACAGGGAAGATACAGGAGTGACACATGCACGGAAGGTCTCTGCCCTTTGAGGAGCTCACATTGTATTGGGGGTAA\tHHHHHHHHGHFDDBGHHHFHHHH@HHDHHHF@FHCGDEEGHHEHGHHF8FDB<DBE@CEBE@DCB9@=>@EAE@EAAAE>AAA>A@:?<?>\tNM:i:1\tMD:Z:12C78\tAS:i:86\tXS:i:0\n",
      "SRRQ866988.19885091\t0\tchr5\t148981644\t60\t91M\t*\t0\t0\tGGTCTTAATGGTGATCTTAAAGTTCCGTCTACATAATACCAAAGCTACAGGTCAGTTCAGGCCAAAAATAATAAATAAAAATCACTACTAT\tGD8GGIIHIHE8DBGGDGDGIIIIIIGIHIFGFHIHGHIFIIGIBBIIEIDE@BDCBC8BBBBEEIGEHIIDIBDDI>IDDHI@IHGIIDH\tNM:i:0\tMD:Z:91\tAS:i:91\tXS:i:0\n",
      "SRRQ866988.19885092\t0\tchr5\t148981966\t60\t91M\t*\t0\t0\tGGGAGTGTGTCTTTCTTGGGTAGGGCTTTATCTCCAGTGCCTAAAATCTGATAAATGCTCAGGAAATAGATATTGTATGTGCTGAATGATG\tGGGGEGGBGGIIGIIIGDIGEGGGGHIIIDIG<IIII<FIGHIII;27;<8?AA;;<8??7C:>??A>C256>49447706459933?8:?\tNM:i:0\tMD:Z:91\tAS:i:91\tXS:i:19\n"
     ]
    }
   ],
   "source": [
    "head mapped.sam"
   ]
  },
  {
   "cell_type": "markdown",
   "metadata": {},
   "source": [
    "## Looking at the SAM format\n",
    "\n",
    "The SAM format is a tab delimited text file for storing alignments. The file usually starts with a header containing one/several lines marked by the letter @. This usually specifies the reference chromosomes used in the alignment, as well the the parameters used for the alignment\n",
    "\n",
    "Following the header, each line of alignment consists of several tab-delimited columns.\n",
    "\n",
    "\n",
    "<pre>QNAME FLAG RNAME POS MAPQ CIGAR MRNM MPOS ISIZE SEQ QUAL [TAG:VTYPE:VALUE[...]]</pre>\n",
    "* The first 11 are mandatory\n",
    "* Additional columns can be added using the format TAG:VTYPE:VALUE"
   ]
  },
  {
   "cell_type": "markdown",
   "metadata": {},
   "source": [
    "Let us take a look at one alignment for the SAM output"
   ]
  },
  {
   "cell_type": "code",
   "execution_count": 7,
   "metadata": {
    "collapsed": false,
    "jupyter": {
     "outputs_hidden": false
    }
   },
   "outputs": [
    {
     "name": "stdout",
     "output_type": "stream",
     "text": [
      "@SQ\tSN:chr5\tLN:181538259\n",
      "@PG\tID:bwa\tPN:bwa\tVN:0.7.17-r1188\tCL:bwa mem -t 4 chr5.fa input.fq\n",
      "SRRQ866988.19885082\t0\tchr5\t148971889\t60\t91M\t*\t0\t0\tCCAAGTAAGATTGAGCTTGAAGGCTGTTCTCATTTTGTAAAAACATAAGCTCAGGAAGTGTTGAAGATATTTTAACTCTACACTGAGACTT\tGIIGIIIIIIIIHIIIIIIIIIIIIIIIIIIGIIIIIIIIIIHIIIIIGIIIIEHBGGEGIIHIHIIIFIIIIHIIBHIIGEHIE<EII<G\tNM:i:0\tMD:Z:91\tAS:i:91\tXS:i:0\n"
     ]
    }
   ],
   "source": [
    "head -n 3 mapped.sam"
   ]
  },
  {
   "cell_type": "markdown",
   "metadata": {},
   "source": [
    "We can break down the contents according to the tab-delimited columns:\n",
    "\n",
    "\n",
    "* QNAME = SRRQ866988.19885082 \n",
    "* FLAG = 0 \n",
    "* RNAME = chr5\n",
    "* POS = 148351452\n",
    "* MAPQ = 60\n",
    "* CIGAR = 91M\n",
    "* MRNM = *\n",
    "* MPOS = 0\n",
    "* ISIZE = 0\n",
    "* SEQ = CCAAGTAAGATTGAGCTTGAAGGCTGTTCTCATTTTGTAAAAACATAAGCTCAGGAAGTGTTGAAGATATTTTAACTCTACACTGAGACTT\n",
    "* QUAL = GIIGIIIIIIIIHIIIIIIIIIIIIIIIIIIGIIIIIIIIIIHIIIIIGIIIIEHBGGEGIIHIHIIIFIIIIHIIBHIIGEHIE<EII<G\n",
    "\n",
    "The tags (after column 11) form additional columns:\n",
    "\n",
    "* NM:i:0 = Edit distance, integer type, 0\n"
   ]
  },
  {
   "cell_type": "code",
   "execution_count": null,
   "metadata": {},
   "outputs": [],
   "source": []
  }
 ],
 "metadata": {
  "kernelspec": {
   "display_name": "Bash",
   "language": "bash",
   "name": "bash"
  },
  "language_info": {
   "codemirror_mode": "shell",
   "file_extension": ".sh",
   "mimetype": "text/x-sh",
   "name": "bash"
  }
 },
 "nbformat": 4,
 "nbformat_minor": 4
}
