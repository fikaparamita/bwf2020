{
 "cells": [
  {
   "cell_type": "markdown",
   "metadata": {},
   "source": [
    "# Annotation of Variants\n",
    "\n",
    "We have uncovered variants that differ from the reference genome, but we do not know if the variants affect genes/regions in the genome that may explain a disease or a phenotype.\n",
    "\n",
    "To do this, we will annotate the VCF file by using a tool called `SnpEff/SnpSift`\n",
    "\n",
    "http://snpeff.sourceforge.net\n",
    "\n",
    "We will first take a look at the list of files again:"
   ]
  },
  {
   "cell_type": "code",
   "execution_count": 1,
   "metadata": {
    "collapsed": false,
    "jupyter": {
     "outputs_hidden": false
    }
   },
   "outputs": [
    {
     "name": "stdout",
     "output_type": "stream",
     "text": [
      "total 483M\n",
      "-rw-r--r-- 1 root root  15K Jul 24 09:02 '01 - Preparations for Finding a Disease Mutation.ipynb'\n",
      "-rw-r--r-- 1 root root  17K Jul 24 11:07 '02 - Aligning the FASTQ File.ipynb'\n",
      "-rw-r--r-- 1 root root  62K Jul 24 11:56 '03 - Variant Calling.ipynb'\n",
      "-rw-r--r-- 1 root root  11K Jul 24 11:56 '04 - Annotation of Variants.ipynb'\n",
      "-rw-r--r-- 1 root root 177M Jul 24 08:53  chr5.fa\n",
      "-rw-r--r-- 1 root root  588 Jul 24 08:59  chr5.fa.amb\n",
      "-rw-r--r-- 1 root root   44 Jul 24 08:59  chr5.fa.ann\n",
      "-rw-r--r-- 1 root root 174M Jul 24 08:59  chr5.fa.bwt\n",
      "-rw-r--r-- 1 root root   23 Jul 24 11:42  chr5.fa.fai\n",
      "-rw-r--r-- 1 root root  44M Jul 24 08:59  chr5.fa.pac\n",
      "-rw-r--r-- 1 root root  87M Jul 24 09:00  chr5.fa.sa\n",
      "-rw-r--r-- 1 root root 820K Jul 24 08:52  input.fq\n",
      "-rw-r--r-- 1 root root 225K Jul 24 08:54  input_fastqc.html\n",
      "-rw-r--r-- 1 root root 235K Jul 24 08:54  input_fastqc.zip\n",
      "-rw-r--r-- 1 root root 212K Jul 24 11:38  mapped.bam\n",
      "-rw-r--r-- 1 root root 214K Jul 24 11:42  mapped.dedup.bam\n",
      "-rw-r--r-- 1 root root 214K Jul 24 11:42  mapped.dedup.sort.bam\n",
      "-rw-r--r-- 1 root root  72K Jul 24 11:42  mapped.dedup.sort.bam.bai\n",
      "-rw-r--r-- 1 root root 963K Jul 24 11:06  mapped.sam\n",
      "-rw-r--r-- 1 root root  24K Jul 24 11:44  result.vcf\n"
     ]
    }
   ],
   "source": [
    "ls -lh"
   ]
  },
  {
   "cell_type": "markdown",
   "metadata": {},
   "source": [
    "We will annotate the VCF file against ClinVar\n",
    "\n",
    "https://www.ncbi.nlm.nih.gov/pmc/articles/PMC5753237/\n",
    "\n",
    "This resource aggregates data from various laboratories and expert panels about the interpretation of variants\n",
    "\n",
    "We will download the GRCh38 version https://www.ncbi.nlm.nih.gov/variation/docs/ClinVar_vcf_files/\n"
   ]
  },
  {
   "cell_type": "code",
   "execution_count": 2,
   "metadata": {},
   "outputs": [
    {
     "name": "stdout",
     "output_type": "stream",
     "text": [
      "--2020-07-24 11:57:48--  https://ftp.ncbi.nlm.nih.gov/pub/clinvar/vcf_GRCh38/clinvar_20200720.vcf.gz\n",
      "Resolving ftp.ncbi.nlm.nih.gov (ftp.ncbi.nlm.nih.gov)... 130.14.250.12, 2607:f220:41e:250::7, 2607:f220:41e:250::10, ...\n",
      "Connecting to ftp.ncbi.nlm.nih.gov (ftp.ncbi.nlm.nih.gov)|130.14.250.12|:443... connected.\n",
      "HTTP request sent, awaiting response... 200 OK\n",
      "Length: 32772597 (31M) [application/x-gzip]\n",
      "Saving to: ‘clinvar_20200720.vcf.gz’\n",
      "\n",
      "clinvar_20200720.vc 100%[===================>]  31.25M  3.96MB/s    in 9.7s    \n",
      "\n",
      "2020-07-24 11:58:00 (3.23 MB/s) - ‘clinvar_20200720.vcf.gz’ saved [32772597/32772597]\n",
      "\n",
      "--2020-07-24 11:58:01--  https://ftp.ncbi.nlm.nih.gov/pub/clinvar/vcf_GRCh38/clinvar_20200720.vcf.gz.tbi\n",
      "Resolving ftp.ncbi.nlm.nih.gov (ftp.ncbi.nlm.nih.gov)... 130.14.250.12, 2607:f220:41e:250::7, 2607:f220:41e:250::10, ...\n",
      "Connecting to ftp.ncbi.nlm.nih.gov (ftp.ncbi.nlm.nih.gov)|130.14.250.12|:443... connected.\n",
      "HTTP request sent, awaiting response... 200 OK\n",
      "Length: 290018 (283K) [application/x-gzip]\n",
      "Saving to: ‘clinvar_20200720.vcf.gz.tbi’\n",
      "\n",
      "clinvar_20200720.vc 100%[===================>] 283.22K   281KB/s    in 1.0s    \n",
      "\n",
      "2020-07-24 11:58:03 (281 KB/s) - ‘clinvar_20200720.vcf.gz.tbi’ saved [290018/290018]\n",
      "\n"
     ]
    }
   ],
   "source": [
    "wget https://ftp.ncbi.nlm.nih.gov/pub/clinvar/vcf_GRCh38/clinvar_20200720.vcf.gz\n",
    "wget https://ftp.ncbi.nlm.nih.gov/pub/clinvar/vcf_GRCh38/clinvar_20200720.vcf.gz.tbi"
   ]
  },
  {
   "cell_type": "code",
   "execution_count": 4,
   "metadata": {},
   "outputs": [
    {
     "name": "stdout",
     "output_type": "stream",
     "text": [
      "00:00:00\tSnpSift version 4.3t (build 2017-11-24 10:18), by Pablo Cingolani\n",
      "00:00:00\tCommand: 'annotate'\n",
      "00:00:00\tReading configuration file 'snpEff.config'\n",
      "00:00:00\tdone\n",
      "00:00:00\tAnnotating entries from: 'result.vcf'\n",
      "00:00:00\tOpening VCF input 'result.vcf'\n",
      "00:00:01\tAnnotating:\tInput file    : 'result.vcf'\tDatabase file : 'clinvar_20200720.vcf.gz'\n",
      "00:00:01\tAnnotating method: TABIX\n",
      "00:00:01\tDone.\n",
      "\tTotal annotated entries : 12\n",
      "\tTotal entries           : 39\n",
      "\tPercent                 : 30.77%\n",
      "\tErrors (bad references) : 0\n"
     ]
    }
   ],
   "source": [
    "SnpSift annotate -v clinvar_20200720.vcf.gz result.vcf > result.annotate.vcf"
   ]
  },
  {
   "cell_type": "markdown",
   "metadata": {},
   "source": [
    "# Taking a look at the annotated variant file\n",
    "\n",
    "![](images/clinvar.png)"
   ]
  },
  {
   "cell_type": "code",
   "execution_count": 7,
   "metadata": {},
   "outputs": [
    {
     "name": "stdout",
     "output_type": "stream",
     "text": [
      "chr5\t149028538\t130296\tA\tG\t6.51745\t.\tAB=0.214286;ABP=12.937;AC=1;AF=0.5;AN=2;AO=3;CIGAR=1X;DP=14;DPB=14;DPRA=0;EPP=3.73412;EPPR=4.78696;GTI=0;LEN=1;MEANALT=1;MQM=60;MQMR=60;NS=1;NUMALT=1;ODDS=1.24842;PAIRED=0;PAIREDR=0;PAO=0;PQA=0;PQR=0;PRO=0;QA=109;QR=368;RO=11;RPL=1;RPP=3.73412;RPPR=4.78696;RPR=2;RUN=1;SAF=3;SAP=9.52472;SAR=0;SRF=11;SRP=26.8965;SRR=0;TYPE=snp;AF_ESP=0.48470;AF_EXAC=0.44561;AF_TGP=0.43710;ALLELEID=135743;CLNDISDB=MONDO:MONDO:0011113,MedGen:C1866636,OMIM:601596,Orphanet:ORPHA99949|MONDO:MONDO:0013237,MedGen:C3150596,OMIM:613353|MONDO:MONDO:0015626,MedGen:C0007959,Orphanet:ORPHA166,SNOMED_CT:50548001|MONDO:MONDO:0018995,MedGen:C4082197,Orphanet:ORPHA64749,SNOMED_CT:715795005|MedGen:CN169374;CLNDN=Charcot-Marie-Tooth_disease,_type_4C|Mononeuropathy_of_the_median_nerve,_mild|Charcot-Marie-Tooth_disease|Charcot-Marie-Tooth_disease_type_4|not_specified;CLNHGVS=NC_000005.10:g.149028538A>G;CLNREVSTAT=criteria_provided,_multiple_submitters,_no_conflicts;CLNSIG=Benign;CLNVC=single_nucleotide_variant;CLNVCSO=SO:0001483;CLNVI=Illumina_Clinical_Services_Laboratory,Illumina:38424;GENEINFO=SH3TC2:79628;MC=SO:0001819|synonymous_variant;ORIGIN=1;RS=1432793\tGT:DP:AD:RO:QR:AO:QA:GL\t0/1:14:11,3:11:368:3:109:-5.95053,0,-29.2129\n",
      "chr5\t149040507\t.\tA\tG\t2.33808E-10\t.\tAB=0;ABP=0;AC=0;AF=0;AN=2;AO=2;CIGAR=1X;DP=27;DPB=27;DPRA=0;EPP=3.0103;EPPR=7.26639;GTI=0;LEN=1;MEANALT=1;MQM=60;MQMR=60;NS=1;NUMALT=1;ODDS=23.6451;PAIRED=0;PAIREDR=0;PAO=0;PQA=0;PQR=0;PRO=0;QA=70;QR=966;RO=25;RPL=1;RPP=3.0103;RPPR=7.26639;RPR=1;RUN=1;SAF=2;SAP=7.35324;SAR=0;SRF=25;SRP=57.2971;SRR=0;TYPE=snp\tGT:DP:AD:RO:QR:AO:QA:GL\t0/0:27:25,2:25:966:2:70:0,-1.48233,-80.6003\n",
      "chr5\t149041410\t.\tA\tG\t6.32863E-15\t.\tAB=0;ABP=0;AC=0;AF=0;AN=2;AO=2;CIGAR=1X;DP=38;DPB=38;DPRA=0;EPP=3.0103;EPPR=6.8707;GTI=0;LEN=1;MEANALT=1;MQM=60;MQMR=60;NS=1;NUMALT=1;ODDS=43.4453;PAIRED=0;PAIREDR=0;PAO=0;PQA=0;PQR=0;PRO=0;QA=46;QR=1275;RO=36;RPL=1;RPP=3.0103;RPPR=6.8707;RPR=1;RUN=1;SAF=2;SAP=7.35324;SAR=0;SRF=36;SRP=81.1833;SRR=0;TYPE=snp\tGT:DP:AD:RO:QR:AO:QA:GL\t0/0:38:36,2:36:1275:2:46:0,-7.07174,-110.645\n",
      "chr5\t149041580\t.\tT\tG\t0.0\t.\tAB=0;ABP=0;AC=0;AF=0;AN=2;AO=8;CIGAR=1X;DP=52;DPB=52;DPRA=0;EPP=7.35324;EPPR=14.3727;GTI=0;LEN=1;MEANALT=2;MQM=60;MQMR=60;NS=1;NUMALT=1;ODDS=41.1053;PAIRED=0;PAIREDR=0;PAO=0;PQA=0;PQR=0;PRO=0;QA=115;QR=1101;RO=43;RPL=6;RPP=7.35324;RPPR=14.3727;RPR=2;RUN=1;SAF=8;SAP=20.3821;SAR=0;SRF=43;SRP=96.3836;SRR=0;TYPE=snp\tGT:DP:AD:RO:QR:AO:QA:GL\t0/0:52:43,8:43:1101:8:115:0,-4.97285,-88.8342\n",
      "chr5\t149041583\t.\tA\tG\t1.11547E-15\t.\tAB=0;ABP=0;AC=0;AF=0;AN=2;AO=4;CIGAR=1X;DP=51;DPB=51;DPRA=0;EPP=3.0103;EPPR=20.4303;GTI=0;LEN=1;MEANALT=2;MQM=60;MQMR=60;NS=1;NUMALT=1;ODDS=53.7066;PAIRED=0;PAIREDR=0;PAO=0;PQA=0;PQR=0;PRO=0;QA=54;QR=1165;RO=45;RPL=2;RPP=3.0103;RPPR=20.4303;RPR=2;RUN=1;SAF=4;SAP=11.6962;SAR=0;SRF=45;SRP=100.727;SRR=0;TYPE=snp\tGT:DP:AD:RO:QR:AO:QA:GL\t0/0:51:45,4:45:1165:4:54:0,-9.84402,-100.112\n",
      "chr5\t149041619\t2480\tT\tC\t0.0\t.\tAB=0;ABP=0;AC=0;AF=0;AN=2;AO=2;CIGAR=1X;DP=30;DPB=30;DPRA=0;EPP=7.35324;EPPR=10.7656;GTI=0;LEN=1;MEANALT=1;MQM=60;MQMR=60;NS=1;NUMALT=1;ODDS=43.4026;PAIRED=0;PAIREDR=0;PAO=0;PQA=0;PQR=0;PRO=0;QA=4;QR=883;RO=28;RPL=2;RPP=7.35324;RPPR=10.7656;RPR=0;RUN=1;SAF=2;SAP=7.35324;SAR=0;SRF=28;SRP=63.8115;SRR=0;TYPE=snp;ALLELEID=17519;CLNDISDB=MONDO:MONDO:0011113,MedGen:C1866636,OMIM:601596,Orphanet:ORPHA99949|MONDO:MONDO:0015626,MedGen:C0007959,Orphanet:ORPHA166,SNOMED_CT:50548001;CLNDN=Charcot-Marie-Tooth_disease,_type_4C|Charcot-Marie-Tooth_disease;CLNHGVS=NC_000005.10:g.149041619T>C;CLNREVSTAT=no_assertion_criteria_provided;CLNSIG=Conflicting_interpretations_of_pathogenicity;CLNSIGCONF=Pathogenic(2),Uncertain_significance(1);CLNVC=single_nucleotide_variant;CLNVCSO=SO:0001483;CLNVI=OMIM_Allelic_Variant:608206.0003;GENEINFO=SH3TC2:79628;ORIGIN=1;RS=80338920\tGT:DP:AD:RO:QR:AO:QA:GL\t0/0:30:28,2:28:883:2:4:0,-8.6509,-79.3642\n",
      "chr5\t149042718\t2485\tA\tG\t681.474\t.\tAB=0.491525;ABP=3.0471;AC=1;AF=0.5;AN=2;AO=29;CIGAR=1X;DP=59;DPB=59;DPRA=0;EPP=6.67934;EPPR=4.16842;GTI=0;LEN=1;MEANALT=1;MQM=60;MQMR=60;NS=1;NUMALT=1;ODDS=156.915;PAIRED=0;PAIREDR=0;PAO=0;PQA=0;PQR=0;PRO=0;QA=1108;QR=1133;RO=30;RPL=18;RPP=6.67934;RPPR=4.16842;RPR=11;RUN=1;SAF=29;SAP=65.983;SAR=0;SRF=30;SRP=68.1545;SRR=0;TYPE=snp;AF_EXAC=0.00151;AF_TGP=0.00020;ALLELEID=17524;CLNDISDB=Human_Phenotype_Ontology:HP:0001528,MedGen:C0332890|Human_Phenotype_Ontology:HP:0002650,MONDO:MONDO:0005392,MedGen:C0036439|Human_Phenotype_Ontology:HP:0002803,MedGen:C0332878|Human_Phenotype_Ontology:HP:0002804,MeSH:D001176,MedGen:C0003886,Orphanet:ORPHA1037|Human_Phenotype_Ontology:HP:0003199,MedGen:C1837108|Human_Phenotype_Ontology:HP:0003634,MedGen:C0432185|Human_Phenotype_Ontology:HP:0006385,MedGen:C0426901|Human_Phenotype_Ontology:HP:0006659,MedGen:C1862491|Human_Phenotype_Ontology:HP:0009824,MedGen:C1837406|MONDO:MONDO:0011113,MedGen:C1866636,OMIM:601596,Orphanet:ORPHA99949|MONDO:MONDO:0013237,MedGen:C3150596,OMIM:613353|MONDO:MONDO:0015626,MedGen:C0007959,Orphanet:ORPHA166,SNOMED_CT:50548001|MONDO:MONDO:0018995,MedGen:C4082197,Orphanet:ORPHA64749,SNOMED_CT:715795005|MedGen:CN517202;CLNDN=Hemihypertrophy|Scoliosis|Congenital_contracture|Arthrogryposis_multiplex_congenita|Decreased_muscle_mass|Amyoplasia|Short_lower_limbs|Internally_rotated_shoulders|Upper_limb_undergrowth|Charcot-Marie-Tooth_disease,_type_4C|Mononeuropathy_of_the_median_nerve,_mild|Charcot-Marie-Tooth_disease|Charcot-Marie-Tooth_disease_type_4|not_provided;CLNHGVS=NC_000005.10:g.149042718A>G;CLNREVSTAT=criteria_provided,_conflicting_interpretations;CLNSIG=Conflicting_interpretations_of_pathogenicity;CLNSIGCONF=Likely_benign(2),Uncertain_significance(6);CLNVC=single_nucleotide_variant;CLNVCSO=SO:0001483;CLNVI=Centre_for_Mendelian_Genomics,University_Medical_Centre_Ljubljana:CMGVARID00445|Illumina_Clinical_Services_Laboratory,Illumina:82217|OMIM_Allelic_Variant:608206.0008|UniProtKB_(protein):Q8TF17#VAR_064421;GENEINFO=SH3TC2:79628;MC=SO:0001583|missense_variant;ORIGIN=1;RS=80359890\tGT:DP:AD:RO:QR:AO:QA:GL\t0/1:59:30,29:30:1133:29:1108:-82.2479,0,-84.5084\n",
      "chr5\t149063022\t218918\tT\tC\t132.755\t.\tAB=0.392857;ABP=5.80219;AC=1;AF=0.5;AN=2;AO=11;CIGAR=1X;DP=28;DPB=28;DPRA=0;EPP=12.6832;EPPR=6.20364;GTI=0;LEN=1;MEANALT=1;MQM=60;MQMR=60;NS=1;NUMALT=1;ODDS=30.568;PAIRED=0;PAIREDR=0;PAO=0;PQA=0;PQR=0;PRO=0;QA=344;QR=558;RO=17;RPL=9;RPP=12.6832;RPPR=6.20364;RPR=2;RUN=1;SAF=11;SAP=26.8965;SAR=0;SRF=17;SRP=39.9253;SRR=0;TYPE=snp;ALLELEID=215727;CLNDISDB=MONDO:MONDO:0011113,MedGen:C1866636,OMIM:601596,Orphanet:ORPHA99949|MONDO:MONDO:0018995,MedGen:C4082197,Orphanet:ORPHA64749,SNOMED_CT:715795005;CLNDN=Charcot-Marie-Tooth_disease,_type_4C|Charcot-Marie-Tooth_disease_type_4;CLNHGVS=NC_000005.10:g.149063022T>C;CLNREVSTAT=criteria_provided,_multiple_submitters,_no_conflicts;CLNSIG=Pathogenic/Likely_pathogenic;CLNVC=single_nucleotide_variant;CLNVCSO=SO:0001483;GENEINFO=SH3TC2:79628;MC=SO:0001583|missense_variant;ORIGIN=33;RS=864309709\tGT:DP:AD:RO:QR:AO:QA:GL\t0/1:28:17,11:17:558:11:344:-22.8257,0,-42.0909\n",
      "chr5\t149099303\t.\tT\tC\t57.8588\t.\tAB=0;ABP=0;AC=2;AF=1;AN=2;AO=2;CIGAR=1X;DP=2;DPB=2;DPRA=0;EPP=7.35324;EPPR=0;GTI=0;LEN=1;MEANALT=1;MQM=60;MQMR=0;NS=1;NUMALT=1;ODDS=7.37776;PAIRED=0;PAIREDR=0;PAO=0;PQA=0;PQR=0;PRO=0;QA=80;QR=0;RO=0;RPL=0;RPP=7.35324;RPPR=0;RPR=2;RUN=1;SAF=2;SAP=7.35324;SAR=0;SRF=0;SRP=0;SRR=0;TYPE=snp\tGT:DP:AD:RO:QR:AO:QA:GL\t1/1:2:0,2:0:0:2:80:-7.59179,-0.60206,0\n",
      "chr5\t149142161\t.\tT\tG\t8.54694E-10\t.\tAB=0;ABP=0;AC=0;AF=0;AN=2;AO=2;CIGAR=1X;DP=14;DPB=14;DPRA=0;EPP=7.35324;EPPR=21.1059;GTI=0;LEN=1;MEANALT=1;MQM=60;MQMR=60;NS=1;NUMALT=1;ODDS=22.3488;PAIRED=0;PAIREDR=0;PAO=0;PQA=0;PQR=0;PRO=0;QA=6;QR=285;RO=12;RPL=2;RPP=7.35324;RPPR=21.1059;RPR=0;RUN=1;SAF=2;SAP=7.35324;SAR=0;SRF=12;SRP=29.068;SRR=0;TYPE=snp\tGT:DP:AD:RO:QR:AO:QA:GL\t0/0:14:12,2:12:285:2:6:0,-3.64442,-25.3149\n"
     ]
    }
   ],
   "source": [
    "tail result.annotate.vcf"
   ]
  },
  {
   "cell_type": "markdown",
   "metadata": {},
   "source": [
    "We can look for annotations where the keyword `Pathogenic` is present"
   ]
  },
  {
   "cell_type": "code",
   "execution_count": 11,
   "metadata": {},
   "outputs": [
    {
     "name": "stdout",
     "output_type": "stream",
     "text": [
      "chr5\t149026872\t2482\tG\tA\t358.298\t.\tAB=0.377778;ABP=8.84915;AC=1;AF=0.5;AN=2;AO=17;CIGAR=1X;DP=45;DPB=45;DPRA=0;EPP=3.13803;EPPR=10.7656;GTI=0;LEN=1;MEANALT=1;MQM=60;MQMR=60;NS=1;NUMALT=1;ODDS=82.5012;PAIRED=0;PAIREDR=0;PAO=0;PQA=0;PQR=0;PRO=0;QA=657;QR=1065;RO=28;RPL=8;RPP=3.13803;RPPR=10.7656;RPR=9;RUN=1;SAF=17;SAP=39.9253;SAR=0;SRF=28;SRP=63.8115;SRR=0;TYPE=snp;AF_EXAC=0.00088;ALLELEID=17521;CLNDISDB=MONDO:MONDO:0011113,MedGen:C1866636,OMIM:601596,Orphanet:ORPHA99949|MONDO:MONDO:0013237,MedGen:C3150596,OMIM:613353|MONDO:MONDO:0015626,MedGen:C0007959,Orphanet:ORPHA166,SNOMED_CT:50548001|MONDO:MONDO:0018995,MedGen:C4082197,Orphanet:ORPHA64749,SNOMED_CT:715795005|MeSH:D030342,MedGen:C0950123|MedGen:CN169374|MedGen:CN239303|MedGen:CN517202;CLNDN=Charcot-Marie-Tooth_disease,_type_4C|Mononeuropathy_of_the_median_nerve,_mild|Charcot-Marie-Tooth_disease|Charcot-Marie-Tooth_disease_type_4|Inborn_genetic_diseases|not_specified|SH3TC2-Related_Disorders|not_provided;CLNHGVS=NC_000005.10:g.149026872G>A;CLNREVSTAT=criteria_provided,_multiple_submitters,_no_conflicts;CLNSIG=Pathogenic/Likely_pathogenic;CLNVC=single_nucleotide_variant;CLNVCSO=SO:0001483;CLNVI=ARUP_Laboratories,_Molecular_Genetics_and_Genomics,_ARUP_Laboratories:180405|Illumina_Clinical_Services_Laboratory,Illumina:56729|NeuroMeGen,Hospital_Clinico_Universitario_de_Santiago_de_Compostela:635_1|OMIM_Allelic_Variant:608206.0005;GENEINFO=SH3TC2:79628;MC=SO:0001587|nonsense;ORIGIN=81;RS=80338933\tGT:DP:AD:RO:QR:AO:QA:GL\t0/1:45:28,17:28:1065:17:657:-45.9145,0,-82.6057\n",
      "chr5\t149041619\t2480\tT\tC\t0.0\t.\tAB=0;ABP=0;AC=0;AF=0;AN=2;AO=2;CIGAR=1X;DP=30;DPB=30;DPRA=0;EPP=7.35324;EPPR=10.7656;GTI=0;LEN=1;MEANALT=1;MQM=60;MQMR=60;NS=1;NUMALT=1;ODDS=43.4026;PAIRED=0;PAIREDR=0;PAO=0;PQA=0;PQR=0;PRO=0;QA=4;QR=883;RO=28;RPL=2;RPP=7.35324;RPPR=10.7656;RPR=0;RUN=1;SAF=2;SAP=7.35324;SAR=0;SRF=28;SRP=63.8115;SRR=0;TYPE=snp;ALLELEID=17519;CLNDISDB=MONDO:MONDO:0011113,MedGen:C1866636,OMIM:601596,Orphanet:ORPHA99949|MONDO:MONDO:0015626,MedGen:C0007959,Orphanet:ORPHA166,SNOMED_CT:50548001;CLNDN=Charcot-Marie-Tooth_disease,_type_4C|Charcot-Marie-Tooth_disease;CLNHGVS=NC_000005.10:g.149041619T>C;CLNREVSTAT=no_assertion_criteria_provided;CLNSIG=Conflicting_interpretations_of_pathogenicity;CLNSIGCONF=Pathogenic(2),Uncertain_significance(1);CLNVC=single_nucleotide_variant;CLNVCSO=SO:0001483;CLNVI=OMIM_Allelic_Variant:608206.0003;GENEINFO=SH3TC2:79628;ORIGIN=1;RS=80338920\tGT:DP:AD:RO:QR:AO:QA:GL\t0/0:30:28,2:28:883:2:4:0,-8.6509,-79.3642\n",
      "chr5\t149063022\t218918\tT\tC\t132.755\t.\tAB=0.392857;ABP=5.80219;AC=1;AF=0.5;AN=2;AO=11;CIGAR=1X;DP=28;DPB=28;DPRA=0;EPP=12.6832;EPPR=6.20364;GTI=0;LEN=1;MEANALT=1;MQM=60;MQMR=60;NS=1;NUMALT=1;ODDS=30.568;PAIRED=0;PAIREDR=0;PAO=0;PQA=0;PQR=0;PRO=0;QA=344;QR=558;RO=17;RPL=9;RPP=12.6832;RPPR=6.20364;RPR=2;RUN=1;SAF=11;SAP=26.8965;SAR=0;SRF=17;SRP=39.9253;SRR=0;TYPE=snp;ALLELEID=215727;CLNDISDB=MONDO:MONDO:0011113,MedGen:C1866636,OMIM:601596,Orphanet:ORPHA99949|MONDO:MONDO:0018995,MedGen:C4082197,Orphanet:ORPHA64749,SNOMED_CT:715795005;CLNDN=Charcot-Marie-Tooth_disease,_type_4C|Charcot-Marie-Tooth_disease_type_4;CLNHGVS=NC_000005.10:g.149063022T>C;CLNREVSTAT=criteria_provided,_multiple_submitters,_no_conflicts;CLNSIG=Pathogenic/Likely_pathogenic;CLNVC=single_nucleotide_variant;CLNVCSO=SO:0001483;GENEINFO=SH3TC2:79628;MC=SO:0001583|missense_variant;ORIGIN=33;RS=864309709\tGT:DP:AD:RO:QR:AO:QA:GL\t0/1:28:17,11:17:558:11:344:-22.8257,0,-42.0909\n"
     ]
    }
   ],
   "source": [
    "grep Pathogenic result.annotate.vcf"
   ]
  },
  {
   "cell_type": "markdown",
   "metadata": {},
   "source": [
    "# Preparing the VCF file for visualization\n",
    "\n",
    "We can compress and index the VCF file so that it can be visualized using the IGV browser"
   ]
  },
  {
   "cell_type": "code",
   "execution_count": 9,
   "metadata": {
    "collapsed": false,
    "jupyter": {
     "outputs_hidden": false
    }
   },
   "outputs": [],
   "source": [
    "bgzip -c result.annotate.vcf > result.annotate.vcf.gz\n",
    "tabix -p vcf result.annotate.vcf.gz"
   ]
  },
  {
   "cell_type": "code",
   "execution_count": 10,
   "metadata": {},
   "outputs": [
    {
     "name": "stdout",
     "output_type": "stream",
     "text": [
      "total 515M\n",
      "-rw-r--r-- 1 root root  15K Jul 24 09:02 '01 - Preparations for Finding a Disease Mutation.ipynb'\n",
      "-rw-r--r-- 1 root root  17K Jul 24 11:07 '02 - Aligning the FASTQ File.ipynb'\n",
      "-rw-r--r-- 1 root root  62K Jul 24 11:56 '03 - Variant Calling.ipynb'\n",
      "-rw-r--r-- 1 root root  21K Jul 24 13:21 '04 - Annotation of Variants.ipynb'\n",
      "-rw-r--r-- 1 root root 177M Jul 24 08:53  chr5.fa\n",
      "-rw-r--r-- 1 root root  588 Jul 24 08:59  chr5.fa.amb\n",
      "-rw-r--r-- 1 root root   44 Jul 24 08:59  chr5.fa.ann\n",
      "-rw-r--r-- 1 root root 174M Jul 24 08:59  chr5.fa.bwt\n",
      "-rw-r--r-- 1 root root   23 Jul 24 11:42  chr5.fa.fai\n",
      "-rw-r--r-- 1 root root  44M Jul 24 08:59  chr5.fa.pac\n",
      "-rw-r--r-- 1 root root  87M Jul 24 09:00  chr5.fa.sa\n",
      "-rw-r--r-- 1 root root  32M Jul 21 03:06  clinvar_20200720.vcf.gz\n",
      "-rw-r--r-- 1 root root 284K Jul 21 03:06  clinvar_20200720.vcf.gz.tbi\n",
      "-rw-r--r-- 1 root root 820K Jul 24 08:52  input.fq\n",
      "-rw-r--r-- 1 root root 225K Jul 24 08:54  input_fastqc.html\n",
      "-rw-r--r-- 1 root root 235K Jul 24 08:54  input_fastqc.zip\n",
      "-rw-r--r-- 1 root root 212K Jul 24 11:38  mapped.bam\n",
      "-rw-r--r-- 1 root root 214K Jul 24 11:42  mapped.dedup.bam\n",
      "-rw-r--r-- 1 root root 214K Jul 24 11:42  mapped.dedup.sort.bam\n",
      "-rw-r--r-- 1 root root  72K Jul 24 11:42  mapped.dedup.sort.bam.bai\n",
      "-rw-r--r-- 1 root root 963K Jul 24 11:06  mapped.sam\n",
      "-rw-r--r-- 1 root root  35K Jul 24 11:59  result.annotate.vcf\n",
      "-rw-r--r-- 1 root root 8.1K Jul 24 13:22  result.annotate.vcf.gz\n",
      "-rw-r--r-- 1 root root  368 Jul 24 13:22  result.annotate.vcf.gz.tbi\n",
      "-rw-r--r-- 1 root root  24K Jul 24 11:44  result.vcf\n"
     ]
    }
   ],
   "source": [
    "ls -lh"
   ]
  },
  {
   "cell_type": "markdown",
   "metadata": {},
   "source": [
    "To visualize the aligned reads with the variants, we will need to download 4 files\n",
    "- mapped.dedup.sort.bam\n",
    "- mapped.dedup.sort.bam.bai\n",
    "- result.annotate.vcf.gz\n",
    "- result.annotate.vcf.gz.tbi\n",
    "\n",
    "We will import these into the IGV browser (GRCh38 human genome)"
   ]
  },
  {
   "cell_type": "markdown",
   "metadata": {},
   "source": [
    "# Using a web tool (VarMap)\n",
    "\n",
    "https://academic.oup.com/bioinformatics/article/35/22/4854/5514476\n",
    "https://www.ebi.ac.uk/thornton-srv/databases/cgi-bin/DisaStr/GetPage.pl?varmap=TRUE"
   ]
  },
  {
   "cell_type": "code",
   "execution_count": null,
   "metadata": {},
   "outputs": [],
   "source": []
  }
 ],
 "metadata": {
  "kernelspec": {
   "display_name": "Bash",
   "language": "bash",
   "name": "bash"
  },
  "language_info": {
   "codemirror_mode": "shell",
   "file_extension": ".sh",
   "mimetype": "text/x-sh",
   "name": "bash"
  }
 },
 "nbformat": 4,
 "nbformat_minor": 4
}
