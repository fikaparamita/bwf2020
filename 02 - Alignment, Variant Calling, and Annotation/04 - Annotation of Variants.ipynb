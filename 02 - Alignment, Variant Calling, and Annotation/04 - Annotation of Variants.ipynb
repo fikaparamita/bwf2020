{
 "cells": [
  {
   "cell_type": "markdown",
   "metadata": {},
   "source": [
    "# Annotation of Variants\n",
    "\n",
    "We have uncovered variants that differ from the reference genome, but we do not know if the variants affect genes/regions in the genome that may explain a disease or a phenotype.\n",
    "\n",
    "To do this, we will annotate the VCF file by using a tool called ANNOVAR that cross references the variants with databases of gene regions, population variants, functional mutations and others.\n",
    "\n",
    "We will first take a look at the list of files again:"
   ]
  },
  {
   "cell_type": "code",
   "execution_count": 9,
   "metadata": {
    "collapsed": false,
    "jupyter": {
     "outputs_hidden": false
    }
   },
   "outputs": [
    {
     "name": "stdout",
     "output_type": "stream",
     "text": [
      "total 534M\n",
      "-rw-r--r-- 1 root root  17K Jul 23 08:58 '01 - Preparations for Finding a Disease Mutation.ipynb'\n",
      "-rw-r--r-- 1 root root  17K Jul 23 09:00 '02 - Aligning the FASTQ File.ipynb'\n",
      "-rw-r--r-- 1 root root  62K Jul 23 06:26 '03 - Variant Calling.ipynb'\n",
      "-rw-r--r-- 1 root root  41K Jul 23 08:44 '04 - Annotation of Variants.ipynb'\n",
      "-rw-r--r-- 1 root root 177M Jul 23 08:49  chr5.fa\n",
      "-rw-r--r-- 1 root root  588 Jul 23 08:51  chr5.fa.amb\n",
      "-rw-r--r-- 1 root root   44 Jul 23 08:51  chr5.fa.ann\n",
      "-rw-r--r-- 1 root root 174M Jul 23 08:51  chr5.fa.bwt\n",
      "-rw-r--r-- 1 root root   23 Jul 23 09:01  chr5.fa.fai\n",
      "-rw-r--r-- 1 root root  44M Jul 23 08:51  chr5.fa.pac\n",
      "-rw-r--r-- 1 root root  87M Jul 23 08:52  chr5.fa.sa\n",
      "-rw-r--r-- 1 root root  32M Jul 21 03:06  clinvar_20200720.vcf.gz\n",
      "-rw-r--r-- 1 root root 284K Jul 21 03:06  clinvar_20200720.vcf.gz.tbi\n",
      "-rw-r--r-- 1 root root 820K Jul 22 21:34  input.fq\n",
      "-rw-r--r-- 1 root root 225K Jul 23 08:49  input_fastqc.html\n",
      "-rw-r--r-- 1 root root 235K Jul 23 08:49  input_fastqc.zip\n",
      "-rw-r--r-- 1 root root 212K Jul 23 09:00  mapped.bam\n",
      "-rw-r--r-- 1 root root 963K Jul 23 08:58  mapped.sam\n",
      "-rw-r--r-- 1 root root 212K Jul 23 06:15  mapped.sort\n",
      "-rw-r--r-- 1 root root 212K Jul 23 09:01  mapped.sort.bam\n",
      "-rw-r--r-- 1 root root  72K Jul 23 09:01  mapped.sort.bam.bai\n",
      "-rw-r--r-- 1 root root  24K Jul 23 09:01  result.vcf\n",
      "-rw-r--r-- 1 root root  27K Jul 23 08:47  test.vcf\n"
     ]
    }
   ],
   "source": [
    "ls -lh"
   ]
  },
  {
   "cell_type": "markdown",
   "metadata": {},
   "source": [
    "We will use the corrected VCF file for annotation using ANNOVAR. To do this, we need to first convert the VCF file to the proper internal format .avinput using the 'convert2annovar.pl' program.\n",
    "\n",
    "After creating the .avinput file, we use it to created an annotated table using the 'table_annovar.pl' program. For the annotation, we need to provide several important parameters:\n",
    "\n",
    "- buildver - the genome version (typically hg19)\n",
    "- annovar database - this is the directory for all the indexes\n",
    "- protocol - this is to specify the databases for annotation\n",
    "\n",
    "In this example, we will use 3 databases in the protocol specification:\n",
    "- refGene - this tells us if the mutations occur in a gene\n",
    "- snp138 - this is the catalog of variants (dbSNP version 138)\n",
    "- clinvar_20150629 - this is a catalog of clinically important disease mutations\n",
    "\n",
    "For each database, we need to specify the operation type. In this case:\n",
    "\n",
    "- refGene - gene-based (g)\n",
    "- snp138 - filtered (f)\n",
    "- clinvar_20150629 - filtered (f)"
   ]
  },
  {
   "cell_type": "code",
   "execution_count": 10,
   "metadata": {
    "collapsed": false,
    "jupyter": {
     "outputs_hidden": false
    }
   },
   "outputs": [
    {
     "name": "stdout",
     "output_type": "stream",
     "text": [
      "total 534M\n",
      "-rw-r--r-- 1 root root  17K Jul 23 08:58 '01 - Preparations for Finding a Disease Mutation.ipynb'\n",
      "-rw-r--r-- 1 root root  17K Jul 23 09:00 '02 - Aligning the FASTQ File.ipynb'\n",
      "-rw-r--r-- 1 root root  62K Jul 23 06:26 '03 - Variant Calling.ipynb'\n",
      "-rw-r--r-- 1 root root  41K Jul 23 08:44 '04 - Annotation of Variants.ipynb'\n",
      "-rw-r--r-- 1 root root 177M Jul 23 08:49  chr5.fa\n",
      "-rw-r--r-- 1 root root  588 Jul 23 08:51  chr5.fa.amb\n",
      "-rw-r--r-- 1 root root   44 Jul 23 08:51  chr5.fa.ann\n",
      "-rw-r--r-- 1 root root 174M Jul 23 08:51  chr5.fa.bwt\n",
      "-rw-r--r-- 1 root root   23 Jul 23 09:01  chr5.fa.fai\n",
      "-rw-r--r-- 1 root root  44M Jul 23 08:51  chr5.fa.pac\n",
      "-rw-r--r-- 1 root root  87M Jul 23 08:52  chr5.fa.sa\n",
      "-rw-r--r-- 1 root root  32M Jul 21 03:06  clinvar_20200720.vcf.gz\n",
      "-rw-r--r-- 1 root root 284K Jul 21 03:06  clinvar_20200720.vcf.gz.tbi\n",
      "-rw-r--r-- 1 root root 820K Jul 22 21:34  input.fq\n",
      "-rw-r--r-- 1 root root 225K Jul 23 08:49  input_fastqc.html\n",
      "-rw-r--r-- 1 root root 235K Jul 23 08:49  input_fastqc.zip\n",
      "-rw-r--r-- 1 root root 212K Jul 23 09:00  mapped.bam\n",
      "-rw-r--r-- 1 root root 963K Jul 23 08:58  mapped.sam\n",
      "-rw-r--r-- 1 root root 212K Jul 23 06:15  mapped.sort\n",
      "-rw-r--r-- 1 root root 212K Jul 23 09:01  mapped.sort.bam\n",
      "-rw-r--r-- 1 root root  72K Jul 23 09:01  mapped.sort.bam.bai\n",
      "-rw-r--r-- 1 root root  24K Jul 23 09:01  result.vcf\n",
      "-rw-r--r-- 1 root root  27K Jul 23 08:47  test.vcf\n"
     ]
    }
   ],
   "source": [
    "ls -lh"
   ]
  },
  {
   "cell_type": "code",
   "execution_count": 11,
   "metadata": {},
   "outputs": [
    {
     "name": "stdout",
     "output_type": "stream",
     "text": [
      "--2020-07-23 09:02:40--  https://ftp.ncbi.nlm.nih.gov/pub/clinvar/vcf_GRCh38/clinvar_20200720.vcf.gz\n",
      "Resolving ftp.ncbi.nlm.nih.gov (ftp.ncbi.nlm.nih.gov)... 130.14.250.13, 2607:f220:41e:250::7, 2607:f220:41e:250::10, ...\n",
      "Connecting to ftp.ncbi.nlm.nih.gov (ftp.ncbi.nlm.nih.gov)|130.14.250.13|:443... connected.\n",
      "HTTP request sent, awaiting response... 200 OK\n",
      "Length: 32772597 (31M) [application/x-gzip]\n",
      "Saving to: ‘clinvar_20200720.vcf.gz.1’\n",
      "\n",
      "clinvar_20200720.vc 100%[===================>]  31.25M  2.53MB/s    in 12s     \n",
      "\n",
      "2020-07-23 09:02:54 (2.58 MB/s) - ‘clinvar_20200720.vcf.gz.1’ saved [32772597/32772597]\n",
      "\n",
      "--2020-07-23 09:02:54--  https://ftp.ncbi.nlm.nih.gov/pub/clinvar/vcf_GRCh38/clinvar_20200720.vcf.gz.tbi\n",
      "Resolving ftp.ncbi.nlm.nih.gov (ftp.ncbi.nlm.nih.gov)... 130.14.250.13, 2607:f220:41e:250::7, 2607:f220:41e:250::10, ...\n",
      "Connecting to ftp.ncbi.nlm.nih.gov (ftp.ncbi.nlm.nih.gov)|130.14.250.13|:443... connected.\n",
      "HTTP request sent, awaiting response... 200 OK\n",
      "Length: 290018 (283K) [application/x-gzip]\n",
      "Saving to: ‘clinvar_20200720.vcf.gz.tbi.1’\n",
      "\n",
      "clinvar_20200720.vc 100%[===================>] 283.22K   267KB/s    in 1.1s    \n",
      "\n",
      "2020-07-23 09:02:56 (267 KB/s) - ‘clinvar_20200720.vcf.gz.tbi.1’ saved [290018/290018]\n",
      "\n"
     ]
    }
   ],
   "source": [
    "wget https://ftp.ncbi.nlm.nih.gov/pub/clinvar/vcf_GRCh38/clinvar_20200720.vcf.gz\n",
    "wget https://ftp.ncbi.nlm.nih.gov/pub/clinvar/vcf_GRCh38/clinvar_20200720.vcf.gz.tbi"
   ]
  },
  {
   "cell_type": "code",
   "execution_count": 12,
   "metadata": {},
   "outputs": [
    {
     "name": "stdout",
     "output_type": "stream",
     "text": [
      "00:00:00\tSnpSift version 4.3t (build 2017-11-24 10:18), by Pablo Cingolani\n",
      "00:00:00\tCommand: 'annotate'\n",
      "00:00:00\tReading configuration file 'snpEff.config'\n",
      "00:00:00\tdone\n",
      "00:00:00\tAnnotating entries from: 'result.vcf'\n",
      "00:00:00\tOpening VCF input 'result.vcf'\n",
      "00:00:00\tAnnotating:\tInput file    : 'result.vcf'\tDatabase file : 'clinvar_20200720.vcf.gz'\n",
      "00:00:00\tAnnotating method: TABIX\n",
      "##fileformat=VCFv4.2\n",
      "##fileDate=20200723\n",
      "##source=freeBayes v1.3.2-dirty\n",
      "##reference=chr5.fa\n",
      "##contig=<ID=chr5,length=181538259>\n",
      "##phasing=none\n",
      "##commandline=\"freebayes -f chr5.fa mapped.sort.bam\"\n",
      "##INFO=<ID=NS,Number=1,Type=Integer,Description=\"Number of samples with data\">\n",
      "##INFO=<ID=DP,Number=1,Type=Integer,Description=\"Total read depth at the locus\">\n",
      "##INFO=<ID=DPB,Number=1,Type=Float,Description=\"Total read depth per bp at the locus; bases in reads overlapping / bases in haplotype\">\n",
      "##INFO=<ID=AC,Number=A,Type=Integer,Description=\"Total number of alternate alleles in called genotypes\">\n",
      "##INFO=<ID=AN,Number=1,Type=Integer,Description=\"Total number of alleles in called genotypes\">\n",
      "##INFO=<ID=AF,Number=A,Type=Float,Description=\"Estimated allele frequency in the range (0,1]\">\n",
      "##INFO=<ID=RO,Number=1,Type=Integer,Description=\"Count of full observations of the reference haplotype.\">\n",
      "##INFO=<ID=AO,Number=A,Type=Integer,Description=\"Count of full observations of this alternate haplotype.\">\n",
      "##INFO=<ID=PRO,Number=1,Type=Float,Description=\"Reference allele observation count, with partial observations recorded fractionally\">\n",
      "##INFO=<ID=PAO,Number=A,Type=Float,Description=\"Alternate allele observations, with partial observations recorded fractionally\">\n",
      "##INFO=<ID=QR,Number=1,Type=Integer,Description=\"Reference allele quality sum in phred\">\n",
      "##INFO=<ID=QA,Number=A,Type=Integer,Description=\"Alternate allele quality sum in phred\">\n",
      "##INFO=<ID=PQR,Number=1,Type=Float,Description=\"Reference allele quality sum in phred for partial observations\">\n",
      "##INFO=<ID=PQA,Number=A,Type=Float,Description=\"Alternate allele quality sum in phred for partial observations\">\n",
      "##INFO=<ID=SRF,Number=1,Type=Integer,Description=\"Number of reference observations on the forward strand\">\n",
      "##INFO=<ID=SRR,Number=1,Type=Integer,Description=\"Number of reference observations on the reverse strand\">\n",
      "##INFO=<ID=SAF,Number=A,Type=Integer,Description=\"Number of alternate observations on the forward strand\">\n",
      "##INFO=<ID=SAR,Number=A,Type=Integer,Description=\"Number of alternate observations on the reverse strand\">\n",
      "##INFO=<ID=SRP,Number=1,Type=Float,Description=\"Strand balance probability for the reference allele: Phred-scaled upper-bounds estimate of the probability of observing the deviation between SRF and SRR given E(SRF/SRR) ~ 0.5, derived using Hoeffding's inequality\">\n",
      "##INFO=<ID=SAP,Number=A,Type=Float,Description=\"Strand balance probability for the alternate allele: Phred-scaled upper-bounds estimate of the probability of observing the deviation between SAF and SAR given E(SAF/SAR) ~ 0.5, derived using Hoeffding's inequality\">\n",
      "##INFO=<ID=AB,Number=A,Type=Float,Description=\"Allele balance at heterozygous sites: a number between 0 and 1 representing the ratio of reads showing the reference allele to all reads, considering only reads from individuals called as heterozygous\">\n",
      "##INFO=<ID=ABP,Number=A,Type=Float,Description=\"Allele balance probability at heterozygous sites: Phred-scaled upper-bounds estimate of the probability of observing the deviation between ABR and ABA given E(ABR/ABA) ~ 0.5, derived using Hoeffding's inequality\">\n",
      "##INFO=<ID=RUN,Number=A,Type=Integer,Description=\"Run length: the number of consecutive repeats of the alternate allele in the reference genome\">\n",
      "##INFO=<ID=RPP,Number=A,Type=Float,Description=\"Read Placement Probability: Phred-scaled upper-bounds estimate of the probability of observing the deviation between RPL and RPR given E(RPL/RPR) ~ 0.5, derived using Hoeffding's inequality\">\n",
      "##INFO=<ID=RPPR,Number=1,Type=Float,Description=\"Read Placement Probability for reference observations: Phred-scaled upper-bounds estimate of the probability of observing the deviation between RPL and RPR given E(RPL/RPR) ~ 0.5, derived using Hoeffding's inequality\">\n",
      "##INFO=<ID=RPL,Number=A,Type=Float,Description=\"Reads Placed Left: number of reads supporting the alternate balanced to the left (5') of the alternate allele\">\n",
      "##INFO=<ID=RPR,Number=A,Type=Float,Description=\"Reads Placed Right: number of reads supporting the alternate balanced to the right (3') of the alternate allele\">\n",
      "##INFO=<ID=EPP,Number=A,Type=Float,Description=\"End Placement Probability: Phred-scaled upper-bounds estimate of the probability of observing the deviation between EL and ER given E(EL/ER) ~ 0.5, derived using Hoeffding's inequality\">\n",
      "##INFO=<ID=EPPR,Number=1,Type=Float,Description=\"End Placement Probability for reference observations: Phred-scaled upper-bounds estimate of the probability of observing the deviation between EL and ER given E(EL/ER) ~ 0.5, derived using Hoeffding's inequality\">\n",
      "##INFO=<ID=DPRA,Number=A,Type=Float,Description=\"Alternate allele depth ratio.  Ratio between depth in samples with each called alternate allele and those without.\">\n",
      "##INFO=<ID=ODDS,Number=1,Type=Float,Description=\"The log odds ratio of the best genotype combination to the second-best.\">\n",
      "##INFO=<ID=GTI,Number=1,Type=Integer,Description=\"Number of genotyping iterations required to reach convergence or bailout.\">\n",
      "##INFO=<ID=TYPE,Number=A,Type=String,Description=\"The type of allele, either snp, mnp, ins, del, or complex.\">\n",
      "##INFO=<ID=CIGAR,Number=A,Type=String,Description=\"The extended CIGAR representation of each alternate allele, with the exception that '=' is replaced by 'M' to ease VCF parsing.  Note that INDEL alleles do not have the first matched base (which is provided by default, per the spec) referred to by the CIGAR.\">\n",
      "##INFO=<ID=NUMALT,Number=1,Type=Integer,Description=\"Number of unique non-reference alleles in called genotypes at this position.\">\n",
      "##INFO=<ID=MEANALT,Number=A,Type=Float,Description=\"Mean number of unique non-reference allele observations per sample with the corresponding alternate alleles.\">\n",
      "##INFO=<ID=LEN,Number=A,Type=Integer,Description=\"allele length\">\n",
      "##INFO=<ID=MQM,Number=A,Type=Float,Description=\"Mean mapping quality of observed alternate alleles\">\n",
      "##INFO=<ID=MQMR,Number=1,Type=Float,Description=\"Mean mapping quality of observed reference alleles\">\n",
      "##INFO=<ID=PAIRED,Number=A,Type=Float,Description=\"Proportion of observed alternate alleles which are supported by properly paired read fragments\">\n",
      "##INFO=<ID=PAIREDR,Number=1,Type=Float,Description=\"Proportion of observed reference alleles which are supported by properly paired read fragments\">\n",
      "##INFO=<ID=MIN_DP,Number=1,Type=Integer,Description=\"Minimum depth in gVCF output block.\">\n",
      "##INFO=<ID=END,Number=1,Type=Integer,Description=\"Last position (inclusive) in gVCF output record.\">\n",
      "##FORMAT=<ID=GT,Number=1,Type=String,Description=\"Genotype\">\n",
      "##FORMAT=<ID=GQ,Number=1,Type=Float,Description=\"Genotype Quality, the Phred-scaled marginal (or unconditional) probability of the called genotype\">\n",
      "##FORMAT=<ID=GL,Number=G,Type=Float,Description=\"Genotype Likelihood, log10-scaled likelihoods of the data given the called genotype for each possible genotype generated from the reference and alternate alleles given the sample ploidy\">\n",
      "##FORMAT=<ID=DP,Number=1,Type=Integer,Description=\"Read Depth\">\n",
      "##FORMAT=<ID=AD,Number=R,Type=Integer,Description=\"Number of observation for each allele\">\n",
      "##FORMAT=<ID=RO,Number=1,Type=Integer,Description=\"Reference allele observation count\">\n",
      "##FORMAT=<ID=QR,Number=1,Type=Integer,Description=\"Sum of quality of the reference observations\">\n",
      "##FORMAT=<ID=AO,Number=A,Type=Integer,Description=\"Alternate allele observation count\">\n",
      "##FORMAT=<ID=QA,Number=A,Type=Integer,Description=\"Sum of quality of the alternate observations\">\n",
      "##FORMAT=<ID=MIN_DP,Number=1,Type=Integer,Description=\"Minimum depth in gVCF output block.\">\n",
      "##SnpSiftVersion=\"SnpSift 4.3t (build 2017-11-24 10:18), by Pablo Cingolani\"\n",
      "##SnpSiftCmd=\"SnpSift Annotate clinvar_20200720.vcf.gz result.vcf\"\n",
      "##INFO=<ID=DBVARID,Number=.,Type=String,Description=\"nsv accessions from dbVar for the variant\">\n",
      "##INFO=<ID=ALLELEID,Number=1,Type=Integer,Description=\"the ClinVar Allele ID\">\n",
      "##INFO=<ID=CLNSIG,Number=.,Type=String,Description=\"Clinical significance for this single variant\">\n",
      "##INFO=<ID=CLNVCSO,Number=1,Type=String,Description=\"Sequence Ontology id for variant type\">\n",
      "##INFO=<ID=CLNREVSTAT,Number=.,Type=String,Description=\"ClinVar review status for the Variation ID\">\n",
      "##INFO=<ID=RS,Number=.,Type=String,Description=\"dbSNP ID (i.e. rs number)\">\n",
      "##INFO=<ID=CLNDNINCL,Number=.,Type=String,Description=\"For included Variant : ClinVar's preferred disease name for the concept specified by disease identifiers in CLNDISDB\">\n",
      "##INFO=<ID=ORIGIN,Number=.,Type=String,Description=\"Allele origin. One or more of the following values may be added: 0 - unknown; 1 - germline; 2 - somatic; 4 - inherited; 8 - paternal; 16 - maternal; 32 - de-novo; 64 - biparental; 128 - uniparental; 256 - not-tested; 512 - tested-inconclusive; 1073741824 - other\">\n",
      "##INFO=<ID=MC,Number=.,Type=String,Description=\"comma separated list of molecular consequence in the form of Sequence Ontology ID|molecular_consequence\">\n",
      "##INFO=<ID=CLNDN,Number=.,Type=String,Description=\"ClinVar's preferred disease name for the concept specified by disease identifiers in CLNDISDB\">\n",
      "##INFO=<ID=CLNVC,Number=1,Type=String,Description=\"Variant type\">\n",
      "##INFO=<ID=CLNVI,Number=.,Type=String,Description=\"the variant's clinical sources reported as tag-value pairs of database and variant identifier\">\n",
      "##INFO=<ID=AF_EXAC,Number=1,Type=Float,Description=\"allele frequencies from ExAC\">\n",
      "##INFO=<ID=AF_ESP,Number=1,Type=Float,Description=\"allele frequencies from GO-ESP\">\n",
      "##INFO=<ID=CLNSIGINCL,Number=.,Type=String,Description=\"Clinical significance for a haplotype or genotype that includes this variant. Reported as pairs of VariationID:clinical significance.\">\n",
      "##INFO=<ID=CLNDISDB,Number=.,Type=String,Description=\"Tag-value pairs of disease database name and identifier, e.g. OMIM:NNNNNN\">\n",
      "##INFO=<ID=GENEINFO,Number=1,Type=String,Description=\"Gene(s) for the variant reported as gene symbol:gene id. The gene symbol and id are delimited by a colon (:) and each pair is delimited by a vertical bar (|)\">\n",
      "##INFO=<ID=CLNDISDBINCL,Number=.,Type=String,Description=\"For included Variant: Tag-value pairs of disease database name and identifier, e.g. OMIM:NNNNNN\">\n",
      "##INFO=<ID=AF_TGP,Number=1,Type=Float,Description=\"allele frequencies from TGP\">\n",
      "##INFO=<ID=CLNSIGCONF,Number=.,Type=String,Description=\"Conflicting clinical significance for this single variant\">\n",
      "##INFO=<ID=CLNHGVS,Number=.,Type=String,Description=\"Top-level (primary assembly, alt, or patch) HGVS expression.\">\n",
      "##INFO=<ID=SSR,Number=1,Type=Integer,Description=\"Variant Suspect Reason Codes. One or more of the following values may be added: 0 - unspecified, 1 - Paralog, 2 - byEST, 4 - oldAlign, 8 - Para_EST, 16 - 1kg_failed, 1024 - other\">\n",
      "#CHROM\tPOS\tID\tREF\tALT\tQUAL\tFILTER\tINFO\tFORMAT\tunknown\n",
      "chr5\t149006962\t130299\tT\tG\t538.384\t.\tAB=0.396825;ABP=8.83536;AC=1;AF=0.5;AN=2;AO=25;CIGAR=1X;DP=63;DPB=63;DPRA=0;EPP=10.0459;EPPR=6.66752;GTI=0;LEN=1;MEANALT=1;MQM=60;MQMR=60;NS=1;NUMALT=1;ODDS=123.968;PAIRED=0;PAIREDR=0;PAO=0;PQA=0;PQR=0;PRO=0;QA=962;QR=1357;RO=38;RPL=8;RPP=10.0459;RPPR=6.66752;RPR=17;RUN=1;SAF=25;SAP=57.2971;SAR=0;SRF=38;SRP=85.5263;SRR=0;TYPE=snp;AF_ESP=0.45971;AF_TGP=0.38339;ALLELEID=135746;CLNDISDB=MONDO:MONDO:0011113,MedGen:C1866636,OMIM:601596,Orphanet:ORPHA99949|MONDO:MONDO:0013237,MedGen:C3150596,OMIM:613353|MONDO:MONDO:0015626,MedGen:C0007959,Orphanet:ORPHA166,SNOMED_CT:50548001|MONDO:MONDO:0018995,MedGen:C4082197,Orphanet:ORPHA64749,SNOMED_CT:715795005|MedGen:CN169374;CLNDN=Charcot-Marie-Tooth_disease,_type_4C|Mononeuropathy_of_the_median_nerve,_mild|Charcot-Marie-Tooth_disease|Charcot-Marie-Tooth_disease_type_4|not_specified;CLNHGVS=NC_000005.10:g.149006962T>G;CLNREVSTAT=criteria_provided,_multiple_submitters,_no_conflicts;CLNSIG=Benign;CLNVC=single_nucleotide_variant;CLNVCSO=SO:0001483;CLNVI=Illumina_Clinical_Services_Laboratory,Illumina:38396;GENEINFO=SH3TC2:79628;MC=SO:0001819|synonymous_variant;ORIGIN=1;RS=6871030\tGT:DP:AD:RO:QR:AO:QA:GL\t0/1:63:38,25:38:1357:25:962:-67.9244,0,-103.43\n",
      "chr5\t149006982\t.\tT\tC\t0.0\t.\tAB=0;ABP=0;AC=0;AF=0;AN=2;AO=3;CIGAR=1X;DP=54;DPB=54;DPRA=0;EPP=9.52472;EPPR=5.18177;GTI=0;LEN=1;MEANALT=2;MQM=60;MQMR=60;NS=1;NUMALT=1;ODDS=68.3845;PAIRED=0;PAIREDR=0;PAO=0;PQA=0;PQR=0;PRO=0;QA=22;QR=1612;RO=49;RPL=3;RPP=9.52472;RPPR=5.18177;RPR=0;RUN=1;SAF=3;SAP=9.52472;SAR=0;SRF=49;SRP=109.412;SRR=0;TYPE=snp\tGT:DP:AD:RO:QR:AO:QA:GL\t0/0:54:49,3:49:1612:3:22:0,-13.6806,-143.279\n",
      "chr5\t149007017\t.\tT\tC\t4.39974E-15\t.\tAB=0;ABP=0;AC=0;AF=0;AN=2;AO=2;CIGAR=1X;DP=37;DPB=37;DPRA=0;EPP=3.0103;EPPR=25.4075;GTI=0;LEN=1;MEANALT=1;MQM=60;MQMR=60;NS=1;NUMALT=1;ODDS=48.8882;PAIRED=0;PAIREDR=0;PAO=0;PQA=0;PQR=0;PRO=0;QA=15;QR=1199;RO=35;RPL=1;RPP=3.0103;RPPR=25.4075;RPR=1;RUN=1;SAF=2;SAP=7.35324;SAR=0;SRF=35;SRP=79.0118;SRR=0;TYPE=snp\tGT:DP:AD:RO:QR:AO:QA:GL\t0/0:37:35,2:35:1199:2:15:0,-9.71311,-106.763\n",
      "chr5\t149008881\t.\tT\tC\t5.39444E-15\t.\tAB=0;ABP=0;AC=0;AF=0;AN=2;AO=2;CIGAR=1X;DP=39;DPB=39;DPRA=0;EPP=7.35324;EPPR=5.18177;GTI=0;LEN=1;MEANALT=2;MQM=60;MQMR=60;NS=1;NUMALT=1;ODDS=52.9844;PAIRED=0;PAIREDR=0;PAO=0;PQA=0;PQR=0;PRO=0;QA=9;QR=898;RO=36;RPL=2;RPP=7.35324;RPPR=5.18177;RPR=0;RUN=1;SAF=2;SAP=7.35324;SAR=0;SRF=36;SRP=81.1833;SRR=0;TYPE=snp\tGT:DP:AD:RO:QR:AO:QA:GL\t0/0:39:36,2:36:898:2:9:0,-10.6125,-80.1921\n",
      "chr5\t149010200\t673389\tG\tA\t639.272\t.\tAB=0.571429;ABP=5.18177;AC=1;AF=0.5;AN=2;AO=28;CIGAR=1X;DP=49;DPB=49;DPRA=0;EPP=28.1373;EPPR=3.94093;GTI=0;LEN=1;MEANALT=1;MQM=60;MQMR=60;NS=1;NUMALT=1;ODDS=95.7906;PAIRED=0;PAIREDR=0;PAO=0;PQA=0;PQR=0;PRO=0;QA=1076;QR=747;RO=21;RPL=5;RPP=28.1373;RPPR=3.94093;RPR=23;RUN=1;SAF=28;SAP=63.8115;SAR=0;SRF=21;SRP=48.6112;SRR=0;TYPE=snp;AF_TGP=0.37760;ALLELEID=660956;CLNDISDB=MedGen:CN517202;CLNDN=not_provided;CLNHGVS=NC_000005.10:g.149010200G>A;CLNREVSTAT=criteria_provided,_single_submitter;CLNSIG=Benign;CLNVC=single_nucleotide_variant;CLNVCSO=SO:0001483;GENEINFO=SH3TC2:79628;MC=SO:0001627|intron_variant;ORIGIN=1;RS=1025476\tGT:DP:AD:RO:QR:AO:QA:GL\t0/1:49:21,28:21:747:28:1076:-82.3876,0,-52.7886\n",
      "chr5\t149010305\t694970\tTCCCA\tGCCCC,GCCCA\t1.04715E-4\t.\tAB=0.372093,0.325581;ABP=9.12072,14.3727;AC=0,1;AF=0,0.5;AN=2;AO=16,14;CIGAR=1X3M1X,1X4M;DP=43;DPB=43.6;DPRA=0,0;EPP=29.6108,12.937;EPPR=6.48466;GTI=0;LEN=5,1;MEANALT=5,5;MQM=60,60;MQMR=60;NS=1;NUMALT=2;ODDS=10.6328;PAIRED=0,0;PAIREDR=0;PAO=1.5,1.5;PQA=3,3;PQR=0;PRO=0;QA=134,145;QR=259;RO=10;RPL=15,11;RPP=29.6108,12.937;RPPR=6.48466;RPR=1,3;RUN=1,1;SAF=16,14;SAP=37.7539,33.4109;SAR=0,0;SRF=10;SRP=24.725;SRR=0;TYPE=complex,snp;AF_EXAC=0.00198;ALLELEID=682988;CLNDISDB=MONDO:MONDO:0015626,MedGen:C0007959,Orphanet:ORPHA166,SNOMED_CT:50548001|MONDO:MONDO:0019011,MedGen:C0751036,Orphanet:ORPHA65753,SNOMED_CT:398040009|MONDO:MONDO:0019548,MedGen:CN252644,Orphanet:ORPHA90114;CLNDN=Charcot-Marie-Tooth_disease|Charcot-Marie-Tooth_disease,_type_I|Autosomal_dominant_intermediate_Charcot-Marie-Tooth_disease;CLNHGVS=NC_000005.10:g.149010305T>G;CLNREVSTAT=no_assertion_criteria_provided;CLNSIG=Uncertain_significance;CLNVC=single_nucleotide_variant;CLNVCSO=SO:0001483;GENEINFO=SH3TC2:79628;MC=SO:0001583|missense_variant;ORIGIN=1;RS=77636085\tGT:DP:AD:RO:QR:AO:QA:GL\t0/2:43:10,16,14:10:259:16,14:134,145:-5.83547,-1.60641,-17.1367,0,-13.1729,-16.1334\n",
      "chr5\t149010312\t.\tG\tT\t2.24359E-14\t.\tAB=0;ABP=0;AC=0;AF=0;AN=2;AO=3;CIGAR=1X;DP=45;DPB=45;DPRA=0;EPP=3.73412;EPPR=32.7905;GTI=0;LEN=1;MEANALT=1;MQM=60;MQMR=59.8095;NS=1;NUMALT=1;ODDS=33.8669;PAIRED=0;PAIREDR=0;PAO=0;PQA=0;PQR=0;PRO=0;QA=18;QR=391;RO=42;RPL=2;RPP=3.73412;RPPR=32.7905;RPR=1;RUN=1;SAF=3;SAP=9.52472;SAR=0;SRF=42;SRP=94.2121;SRR=0;TYPE=snp\tGT:DP:AD:RO:QR:AO:QA:GL\t0/0:45:42,3:42:391:3:18:0,-11.8664,-33.5845\n",
      "chr5\t149010318\t.\tC\tA\t2.90829E-15\t.\tAB=0;ABP=0;AC=0;AF=0;AN=2;AO=4;CIGAR=1X;DP=38;DPB=38;DPRA=0;EPP=11.6962;EPPR=9.79615;GTI=0;LEN=1;MEANALT=3;MQM=60;MQMR=60;NS=1;NUMALT=1;ODDS=50.188;PAIRED=0;PAIREDR=0;PAO=0;PQA=0;PQR=0;PRO=0;QA=8;QR=409;RO=32;RPL=4;RPP=11.6962;RPPR=9.79615;RPR=0;RUN=1;SAF=4;SAP=11.6962;SAR=0;SRF=32;SRP=72.4974;SRR=0;TYPE=snp\tGT:DP:AD:RO:QR:AO:QA:GL\t0/0:38:32,4:32:409:4:8:0,-10.1171,-36.1682\n",
      "chr5\t149010320\t.\tC\tA\t0.0\t.\tAB=0;ABP=0;AC=0;AF=0;AN=2;AO=3;CIGAR=1X;DP=37;DPB=37;DPRA=0;EPP=9.52472;EPPR=12.2071;GTI=0;LEN=1;MEANALT=1;MQM=60;MQMR=59.7647;NS=1;NUMALT=1;ODDS=51.8889;PAIRED=0;PAIREDR=0;PAO=0;PQA=0;PQR=0;PRO=0;QA=6;QR=450;RO=34;RPL=3;RPP=9.52472;RPPR=12.2071;RPR=0;RUN=1;SAF=3;SAP=9.52472;SAR=0;SRF=34;SRP=76.8404;SRR=0;TYPE=snp\tGT:DP:AD:RO:QR:AO:QA:GL\t0/0:37:34,3:34:450:3:6:0,-10.5781,-40.0469\n",
      "chr5\t149010321\t.\tA\tC\t0.0\t.\tAB=0;ABP=0;AC=0;AF=0;AN=2;AO=2;CIGAR=1X;DP=37;DPB=37;DPRA=0;EPP=7.35324;EPPR=13.4954;GTI=0;LEN=1;MEANALT=1;MQM=60;MQMR=59.7714;NS=1;NUMALT=1;ODDS=52.6807;PAIRED=0;PAIREDR=0;PAO=0;PQA=0;PQR=0;PRO=0;QA=4;QR=436;RO=35;RPL=2;RPP=7.35324;RPPR=13.4954;RPR=0;RUN=1;SAF=2;SAP=7.35324;SAR=0;SRF=35;SRP=79.0118;SRR=0;TYPE=snp\tGT:DP:AD:RO:QR:AO:QA:GL\t0/0:37:35,2:35:436:2:4:0,-10.7581,-38.9583\n",
      "chr5\t149010322\t.\tT\tA\t0.0\t.\tAB=0;ABP=0;AC=0;AF=0;AN=2;AO=9;CIGAR=1X;DP=36;DPB=36;DPRA=0;EPP=14.8328;EPPR=6.01695;GTI=0;LEN=1;MEANALT=2;MQM=60;MQMR=60;NS=1;NUMALT=1;ODDS=45.6432;PAIRED=0;PAIREDR=0;PAO=0;PQA=0;PQR=0;PRO=0;QA=18;QR=382;RO=26;RPL=8;RPP=14.8328;RPPR=6.01695;RPR=1;RUN=1;SAF=9;SAP=22.5536;SAR=0;SRF=26;SRP=59.4686;SRR=0;TYPE=snp\tGT:DP:AD:RO:QR:AO:QA:GL\t0/0:36:26,9:26:382:9:18:0,-8.91605,-32.8563\n",
      "chr5\t149010324\t.\tA\tC\t3.90275E-15\t.\tAB=0;ABP=0;AC=0;AF=0;AN=2;AO=2;CIGAR=1X;DP=37;DPB=37;DPRA=0;EPP=7.35324;EPPR=13.4954;GTI=0;LEN=1;MEANALT=1;MQM=56;MQMR=60;NS=1;NUMALT=1;ODDS=52.6807;PAIRED=0;PAIREDR=0;PAO=0;PQA=0;PQR=0;PRO=0;QA=4;QR=519;RO=35;RPL=2;RPP=7.35324;RPPR=13.4954;RPR=0;RUN=1;SAF=2;SAP=7.35324;SAR=0;SRF=35;SRP=79.0118;SRR=0;TYPE=snp\tGT:DP:AD:RO:QR:AO:QA:GL\t0/0:37:35,2:35:519:2:4:0,-10.7581,-46.4423\n",
      "chr5\t149010327\t.\tT\tC\t0.0\t.\tAB=0;ABP=0;AC=0;AF=0;AN=2;AO=5;CIGAR=1X;DP=34;DPB=34;DPRA=0;EPP=13.8677;EPPR=6.67934;GTI=0;LEN=1;MEANALT=1;MQM=60;MQMR=59.7241;NS=1;NUMALT=1;ODDS=47.4817;PAIRED=0;PAIREDR=0;PAO=0;PQA=0;PQR=0;PRO=0;QA=10;QR=450;RO=29;RPL=5;RPP=13.8677;RPPR=6.67934;RPR=0;RUN=1;SAF=5;SAP=13.8677;SAR=0;SRF=29;SRP=65.983;SRR=0;TYPE=snp\tGT:DP:AD:RO:QR:AO:QA:GL\t0/0:34:29,5:29:450:5:10:0,-9.31502,-39.706\n",
      "chr5\t149010336\t.\tA\tC\t1.68004E-14\t.\tAB=0;ABP=0;AC=0;AF=0;AN=2;AO=3;CIGAR=1X;DP=29;DPB=29;DPRA=0;EPP=9.52472;EPPR=3.09716;GTI=0;LEN=1;MEANALT=2;MQM=60;MQMR=60;NS=1;NUMALT=1;ODDS=40.322;PAIRED=0;PAIREDR=0;PAO=0;PQA=0;PQR=0;PRO=0;QA=6;QR=479;RO=25;RPL=3;RPP=9.52472;RPPR=3.09716;RPR=0;RUN=1;SAF=3;SAP=9.52472;SAR=0;SRF=25;SRP=57.2971;SRR=0;TYPE=snp\tGT:DP:AD:RO:QR:AO:QA:GL\t0/0:29:25,3:25:479:3:6:0,-7.88884,-42.7043\n",
      "chr5\t149010345\t.\tG\tT\t8.9132E-15\t.\tAB=0;ABP=0;AC=0;AF=0;AN=2;AO=5;CIGAR=1X;DP=24;DPB=24;DPRA=0;EPP=13.8677;EPPR=4.03889;GTI=0;LEN=1;MEANALT=1;MQM=60;MQMR=60;NS=1;NUMALT=1;ODDS=35.4977;PAIRED=0;PAIREDR=0;PAO=0;PQA=0;PQR=0;PRO=0;QA=10;QR=506;RO=19;RPL=5;RPP=13.8677;RPPR=4.03889;RPR=0;RUN=1;SAF=5;SAP=13.8677;SAR=0;SRF=19;SRP=44.2683;SRR=0;TYPE=snp\tGT:DP:AD:RO:QR:AO:QA:GL\t0/0:24:19,5:19:506:5:10:0,-6.30472,-44.8549\n",
      "chr5\t149010358\t.\tG\tA\t1.01088E-12\t.\tAB=0;ABP=0;AC=0;AF=0;AN=2;AO=2;CIGAR=1X;DP=19;DPB=19;DPRA=0;EPP=7.35324;EPPR=3.13803;GTI=0;LEN=1;MEANALT=1;MQM=60;MQMR=60;NS=1;NUMALT=1;ODDS=29.087;PAIRED=0;PAIREDR=0;PAO=0;PQA=0;PQR=0;PRO=0;QA=4;QR=616;RO=17;RPL=2;RPP=7.35324;RPPR=3.13803;RPR=0;RUN=1;SAF=2;SAP=7.35324;SAR=0;SRF=17;SRP=39.9253;SRR=0;TYPE=snp\tGT:DP:AD:RO:QR:AO:QA:GL\t0/0:19:17,2:17:616:2:4:0,-5.33957,-55.3734\n",
      "chr5\t149010364\t.\tT\tC\t1.09014E-12\t.\tAB=0;ABP=0;AC=0;AF=0;AN=2;AO=3;CIGAR=1X;DP=19;DPB=19;DPRA=0;EPP=9.52472;EPPR=3.0103;GTI=0;LEN=1;MEANALT=1;MQM=60;MQMR=60;NS=1;NUMALT=1;ODDS=29.0174;PAIRED=0;PAIREDR=0;PAO=0;PQA=0;PQR=0;PRO=0;QA=6;QR=601;RO=16;RPL=3;RPP=9.52472;RPPR=3.0103;RPR=0;RUN=1;SAF=3;SAP=9.52472;SAR=0;SRF=16;SRP=37.7539;SRR=0;TYPE=snp\tGT:DP:AD:RO:QR:AO:QA:GL\t0/0:19:16,3:16:601:3:6:0,-5.15957,-53.8636\n",
      "chr5\t149026469\t670076\tC\tT\t126.961\t.\tAB=0;ABP=0;AC=2;AF=1;AN=2;AO=5;CIGAR=1X;DP=5;DPB=5;DPRA=0;EPP=6.91895;EPPR=0;GTI=0;LEN=1;MEANALT=1;MQM=60;MQMR=0;NS=1;NUMALT=1;ODDS=11.5366;PAIRED=0;PAIREDR=0;PAO=0;PQA=0;PQR=0;PRO=0;QA=172;QR=0;RO=0;RPL=1;RPP=6.91895;RPPR=0;RPR=4;RUN=1;SAF=5;SAP=13.8677;SAR=0;SRF=0;SRP=0;SRR=0;TYPE=snp;AF_TGP=0.27476;ALLELEID=661147;CLNDISDB=MedGen:CN517202;CLNDN=not_provided;CLNHGVS=NC_000005.10:g.149026469C>T;CLNREVSTAT=criteria_provided,_single_submitter;CLNSIG=Benign;CLNVC=single_nucleotide_variant;CLNVCSO=SO:0001483;GENEINFO=SH3TC2:79628;MC=SO:0001627|intron_variant;ORIGIN=1;RS=10075404\tGT:DP:AD:RO:QR:AO:QA:GL\t1/1:5:0,5:0:0:5:172:-15.8136,-1.50515,0\n",
      "chr5\t149026611\t.\tT\tC\t1.21749E-14\t.\tAB=0;ABP=0;AC=0;AF=0;AN=2;AO=2;CIGAR=1X;DP=40;DPB=40;DPRA=0;EPP=7.35324;EPPR=3.23888;GTI=0;LEN=1;MEANALT=1;MQM=60;MQMR=60;NS=1;NUMALT=1;ODDS=49.248;PAIRED=0;PAIREDR=0;PAO=0;PQA=0;PQR=0;PRO=0;QA=38;QR=1357;RO=38;RPL=2;RPP=7.35324;RPPR=3.23888;RPR=0;RUN=1;SAF=2;SAP=7.35324;SAR=0;SRF=38;SRP=85.5263;SRR=0;TYPE=snp\tGT:DP:AD:RO:QR:AO:QA:GL\t0/0:40:38,2:38:1357:2:38:0,-8.43284,-118.792\n",
      "chr5\t149026671\t246193\tT\tC\t2.31392E-10\t.\tAB=0;ABP=0;AC=0;AF=0;AN=2;AO=3;CIGAR=1X;DP=30;DPB=30;DPRA=0;EPP=3.73412;EPPR=3.34437;GTI=0;LEN=1;MEANALT=2;MQM=60;MQMR=60;NS=1;NUMALT=1;ODDS=23.6557;PAIRED=0;PAIREDR=0;PAO=0;PQA=0;PQR=0;PRO=0;QA=80;QR=874;RO=26;RPL=2;RPP=3.73412;RPPR=3.34437;RPR=1;RUN=1;SAF=3;SAP=9.52472;SAR=0;SRF=26;SRP=59.4686;SRR=0;TYPE=snp;AF_EXAC=0.00030;AF_TGP=0.00040;ALLELEID=244464;CLNDISDB=MONDO:MONDO:0011113,MedGen:C1866636,OMIM:601596,Orphanet:ORPHA99949|MONDO:MONDO:0013237,MedGen:C3150596,OMIM:613353|MONDO:MONDO:0015626,MedGen:C0007959,Orphanet:ORPHA166,SNOMED_CT:50548001|MONDO:MONDO:0018995,MedGen:C4082197,Orphanet:ORPHA64749,SNOMED_CT:715795005|MedGen:CN169374|MedGen:CN517202;CLNDN=Charcot-Marie-Tooth_disease,_type_4C|Mononeuropathy_of_the_median_nerve,_mild|Charcot-Marie-Tooth_disease|Charcot-Marie-Tooth_disease_type_4|not_specified|not_provided;CLNHGVS=NC_000005.10:g.149026671T>C;CLNREVSTAT=criteria_provided,_multiple_submitters,_no_conflicts;CLNSIG=Uncertain_significance;CLNVC=single_nucleotide_variant;CLNVCSO=SO:0001483;CLNVI=ARUP_Laboratories,_Molecular_Genetics_and_Genomics,_ARUP_Laboratories:115434;GENEINFO=SH3TC2:79628;MC=SO:0001583|missense_variant;ORIGIN=1;RS=575937427\tGT:DP:AD:RO:QR:AO:QA:GL\t0/0:30:26,3:26:874:3:80:0,-1.35139,-71.5344\n",
      "chr5\t149026823\t673597\tT\tC\t383.468\t.\tAB=0.548387;ABP=3.64073;AC=1;AF=0.5;AN=2;AO=17;CIGAR=1X;DP=31;DPB=31;DPRA=0;EPP=18.4661;EPPR=8.59409;GTI=0;LEN=1;MEANALT=1;MQM=60;MQMR=60;NS=1;NUMALT=1;ODDS=70.4551;PAIRED=0;PAIREDR=0;PAO=0;PQA=0;PQR=0;PRO=0;QA=666;QR=546;RO=14;RPL=3;RPP=18.4661;RPPR=8.59409;RPR=14;RUN=1;SAF=17;SAP=39.9253;SAR=0;SRF=14;SRP=33.4109;SRR=0;TYPE=snp;AF_ESP=0.15147;AF_EXAC=0.19209;AF_TGP=0.16374;ALLELEID=660970;CLNDISDB=MedGen:CN517202;CLNDN=not_provided;CLNHGVS=NC_000005.10:g.149026823T>C;CLNREVSTAT=criteria_provided,_single_submitter;CLNSIG=Benign;CLNVC=single_nucleotide_variant;CLNVCSO=SO:0001483;GENEINFO=SH3TC2:79628;MC=SO:0001627|intron_variant;ORIGIN=1;RS=17722209\tGT:DP:AD:RO:QR:AO:QA:GL\t0/1:31:14,17:14:546:17:666:-50.9427,0,-40.149\n",
      "chr5\t149026872\t2482\tG\tA\t781.501\t.\tAB=0.441558;ABP=5.29458;AC=1;AF=0.5;AN=2;AO=34;CIGAR=1X;DP=77;DPB=77;DPRA=0;EPP=7.09778;EPPR=29.7245;GTI=0;LEN=1;MEANALT=1;MQM=60;MQMR=60;NS=1;NUMALT=1;ODDS=179.947;PAIRED=0;PAIREDR=0;PAO=0;PQA=0;PQR=0;PRO=0;QA=1301;QR=1620;RO=43;RPL=13;RPP=7.09778;RPPR=29.7245;RPR=21;RUN=1;SAF=34;SAP=76.8404;SAR=0;SRF=43;SRP=96.3836;SRR=0;TYPE=snp;AF_EXAC=0.00088;ALLELEID=17521;CLNDISDB=MONDO:MONDO:0011113,MedGen:C1866636,OMIM:601596,Orphanet:ORPHA99949|MONDO:MONDO:0013237,MedGen:C3150596,OMIM:613353|MONDO:MONDO:0015626,MedGen:C0007959,Orphanet:ORPHA166,SNOMED_CT:50548001|MONDO:MONDO:0018995,MedGen:C4082197,Orphanet:ORPHA64749,SNOMED_CT:715795005|MeSH:D030342,MedGen:C0950123|MedGen:CN169374|MedGen:CN239303|MedGen:CN517202;CLNDN=Charcot-Marie-Tooth_disease,_type_4C|Mononeuropathy_of_the_median_nerve,_mild|Charcot-Marie-Tooth_disease|Charcot-Marie-Tooth_disease_type_4|Inborn_genetic_diseases|not_specified|SH3TC2-Related_Disorders|not_provided;CLNHGVS=NC_000005.10:g.149026872G>A;CLNREVSTAT=criteria_provided,_multiple_submitters,_no_conflicts;CLNSIG=Pathogenic/Likely_pathogenic;CLNVC=single_nucleotide_variant;CLNVCSO=SO:0001483;CLNVI=ARUP_Laboratories,_Molecular_Genetics_and_Genomics,_ARUP_Laboratories:180405|Illumina_Clinical_Services_Laboratory,Illumina:56729|NeuroMeGen,Hospital_Clinico_Universitario_de_Santiago_de_Compostela:635_1|OMIM_Allelic_Variant:608206.0005;GENEINFO=SH3TC2:79628;MC=SO:0001587|nonsense;ORIGIN=81;RS=80338933\tGT:DP:AD:RO:QR:AO:QA:GL\t0/1:77:43,34:43:1620:34:1301:-94.1887,0,-122.878\n",
      "chr5\t149027190\t.\tC\tA\t5.84647E-15\t.\tAB=0;ABP=0;AC=0;AF=0;AN=2;AO=2;CIGAR=1X;DP=37;DPB=37;DPRA=0;EPP=7.35324;EPPR=3.56868;GTI=0;LEN=1;MEANALT=1;MQM=60;MQMR=60;NS=1;NUMALT=1;ODDS=51.8057;PAIRED=0;PAIREDR=0;PAO=0;PQA=0;PQR=0;PRO=0;QA=8;QR=1302;RO=35;RPL=2;RPP=7.35324;RPPR=3.56868;RPR=0;RUN=1;SAF=2;SAP=7.35324;SAR=0;SRF=35;SRP=79.0118;SRR=0;TYPE=snp\tGT:DP:AD:RO:QR:AO:QA:GL\t0/0:37:35,2:35:1302:2:8:0,-10.3781,-116.697\n",
      "chr5\t149027432\t.\tT\tG\t2.12453E-14\t.\tAB=0;ABP=0;AC=0;AF=0;AN=2;AO=3;CIGAR=1X;DP=29;DPB=29;DPRA=0;EPP=3.73412;EPPR=6.01695;GTI=0;LEN=1;MEANALT=1;MQM=60;MQMR=60;NS=1;NUMALT=1;ODDS=33.7683;PAIRED=0;PAIREDR=0;PAO=0;PQA=0;PQR=0;PRO=0;QA=32;QR=794;RO=26;RPL=2;RPP=3.73412;RPPR=6.01695;RPR=1;RUN=1;SAF=3;SAP=9.52472;SAR=0;SRF=26;SRP=59.4686;SRR=0;TYPE=snp\tGT:DP:AD:RO:QR:AO:QA:GL\t0/0:29:26,3:26:794:3:32:0,-5.74326,-68.748\n",
      "chr5\t149027738\t.\tT\tG\t2.53383E-11\t.\tAB=0;ABP=0;AC=0;AF=0;AN=2;AO=3;CIGAR=1X;DP=21;DPB=21;DPRA=0;EPP=3.73412;EPPR=4.1599;GTI=0;LEN=1;MEANALT=2;MQM=60;MQMR=60;NS=1;NUMALT=1;ODDS=25.868;PAIRED=0;PAIREDR=0;PAO=0;PQA=0;PQR=0;PRO=0;QA=17;QR=283;RO=17;RPL=1;RPP=3.73412;RPPR=4.1599;RPR=2;RUN=1;SAF=3;SAP=9.52472;SAR=0;SRF=17;SRP=39.9253;SRR=0;TYPE=snp\tGT:DP:AD:RO:QR:AO:QA:GL\t0/0:21:17,3:17:283:3:17:0,-4.5156,-24.0362\n",
      "chr5\t149027786\t.\tT\tG\t5.24512E-8\t.\tAB=0;ABP=0;AC=0;AF=0;AN=2;AO=2;CIGAR=1X;DP=13;DPB=13;DPRA=0;EPP=7.35324;EPPR=6.48466;GTI=0;LEN=1;MEANALT=2;MQM=60;MQMR=60;NS=1;NUMALT=1;ODDS=18.2319;PAIRED=0;PAIREDR=0;PAO=0;PQA=0;PQR=0;PRO=0;QA=14;QR=211;RO=10;RPL=2;RPP=7.35324;RPPR=6.48466;RPR=0;RUN=1;SAF=2;SAP=7.35324;SAR=0;SRF=10;SRP=24.725;SRR=0;TYPE=snp\tGT:DP:AD:RO:QR:AO:QA:GL\t0/0:13:10,2:10:211:2:14:0,-2.31903,-17.8609\n",
      "chr5\t149028145\t130298\tA\tC\t273.868\t.\tAB=0;ABP=0;AC=2;AF=1;AN=2;AO=10;CIGAR=1X;DP=12;DPB=12;DPRA=0;EPP=6.48466;EPPR=7.35324;GTI=0;LEN=1;MEANALT=1;MQM=60;MQMR=60;NS=1;NUMALT=1;ODDS=20.3349;PAIRED=0;PAIREDR=0;PAO=0;PQA=0;PQR=0;PRO=0;QA=339;QR=4;RO=2;RPL=7;RPP=6.48466;RPPR=7.35324;RPR=3;RUN=1;SAF=10;SAP=24.725;SAR=0;SRF=2;SRP=7.35324;SRR=0;TYPE=snp;AF_ESP=0.97770;AF_EXAC=0.97847;AF_TGP=0.99062;ALLELEID=135745;CLNDISDB=MONDO:MONDO:0011113,MedGen:C1866636,OMIM:601596,Orphanet:ORPHA99949|MONDO:MONDO:0013237,MedGen:C3150596,OMIM:613353|MONDO:MONDO:0015626,MedGen:C0007959,Orphanet:ORPHA166,SNOMED_CT:50548001|MONDO:MONDO:0018995,MedGen:C4082197,Orphanet:ORPHA64749,SNOMED_CT:715795005|MedGen:CN169374;CLNDN=Charcot-Marie-Tooth_disease,_type_4C|Mononeuropathy_of_the_median_nerve,_mild|Charcot-Marie-Tooth_disease|Charcot-Marie-Tooth_disease_type_4|not_specified;CLNHGVS=NC_000005.10:g.149028145A>C;CLNREVSTAT=criteria_provided,_multiple_submitters,_no_conflicts;CLNSIG=Benign;CLNVC=single_nucleotide_variant;CLNVCSO=SO:0001483;CLNVI=Illumina_Clinical_Services_Laboratory,Illumina:38234;GENEINFO=SH3TC2:79628;MC=SO:0001819|synonymous_variant;ORIGIN=1;RS=1432794\tGT:DP:AD:RO:QR:AO:QA:GL\t1/1:12:2,10:2:4:10:339:-30.4531,-3.23236,0\n",
      "chr5\t149028162\t.\tT\tC\t7.37749E-7\t.\tAB=0;ABP=0;AC=0;AF=0;AN=2;AO=2;CIGAR=1X;DP=8;DPB=8;DPRA=0;EPP=7.35324;EPPR=8.80089;GTI=0;LEN=1;MEANALT=1;MQM=60;MQMR=60;NS=1;NUMALT=1;ODDS=15.6472;PAIRED=0;PAIREDR=0;PAO=0;PQA=0;PQR=0;PRO=0;QA=4;QR=114;RO=6;RPL=2;RPP=7.35324;RPPR=8.80089;RPR=0;RUN=1;SAF=2;SAP=7.35324;SAR=0;SRF=6;SRP=16.0391;SRR=0;TYPE=snp\tGT:DP:AD:RO:QR:AO:QA:GL\t0/0:8:6,2:6:114:2:4:0,-2.02824,-10.0678\n",
      "chr5\t149028435\t.\tA\tC\t1.01088E-12\t.\tAB=0;ABP=0;AC=0;AF=0;AN=2;AO=2;CIGAR=1X;DP=19;DPB=19;DPRA=0;EPP=7.35324;EPPR=4.1599;GTI=0;LEN=1;MEANALT=1;MQM=60;MQMR=60;NS=1;NUMALT=1;ODDS=29.087;PAIRED=0;PAIREDR=0;PAO=0;PQA=0;PQR=0;PRO=0;QA=4;QR=534;RO=17;RPL=2;RPP=7.35324;RPPR=4.1599;RPR=0;RUN=1;SAF=2;SAP=7.35324;SAR=0;SRF=17;SRP=39.9253;SRR=0;TYPE=snp\tGT:DP:AD:RO:QR:AO:QA:GL\t0/0:19:17,2:17:534:2:4:0,-5.33957,-47.9754\n",
      "chr5\t149028538\t130296\tA\tG\t14.5681\t.\tAB=0.222222;ABP=15.074;AC=1;AF=0.5;AN=2;AO=4;CIGAR=1X;DP=18;DPB=18;DPRA=0;EPP=3.0103;EPPR=3.63072;GTI=0;LEN=1;MEANALT=1;MQM=60;MQMR=60;NS=1;NUMALT=1;ODDS=3.31888;PAIRED=0;PAIREDR=0;PAO=0;PQA=0;PQR=0;PRO=0;QA=139;QR=459;RO=14;RPL=2;RPP=3.0103;RPPR=3.63072;RPR=2;RUN=1;SAF=4;SAP=11.6962;SAR=0;SRF=14;SRP=33.4109;SRR=0;TYPE=snp;AF_ESP=0.48470;AF_EXAC=0.44561;AF_TGP=0.43710;ALLELEID=135743;CLNDISDB=MONDO:MONDO:0011113,MedGen:C1866636,OMIM:601596,Orphanet:ORPHA99949|MONDO:MONDO:0013237,MedGen:C3150596,OMIM:613353|MONDO:MONDO:0015626,MedGen:C0007959,Orphanet:ORPHA166,SNOMED_CT:50548001|MONDO:MONDO:0018995,MedGen:C4082197,Orphanet:ORPHA64749,SNOMED_CT:715795005|MedGen:CN169374;CLNDN=Charcot-Marie-Tooth_disease,_type_4C|Mononeuropathy_of_the_median_nerve,_mild|Charcot-Marie-Tooth_disease|Charcot-Marie-Tooth_disease_type_4|not_specified;CLNHGVS=NC_000005.10:g.149028538A>G;CLNREVSTAT=criteria_provided,_multiple_submitters,_no_conflicts;CLNSIG=Benign;CLNVC=single_nucleotide_variant;CLNVCSO=SO:0001483;CLNVI=Illumina_Clinical_Services_Laboratory,Illumina:38424;GENEINFO=SH3TC2:79628;MC=SO:0001819|synonymous_variant;ORIGIN=1;RS=1432793\tGT:DP:AD:RO:QR:AO:QA:GL\t0/1:18:14,4:14:459:4:139:-7.43025,0,-36.1901\n",
      "chr5\t149040507\t.\tA\tG\t3.06325E-14\t.\tAB=0;ABP=0;AC=0;AF=0;AN=2;AO=2;CIGAR=1X;DP=38;DPB=38;DPRA=0;EPP=3.0103;EPPR=18.4519;GTI=0;LEN=1;MEANALT=1;MQM=60;MQMR=60;NS=1;NUMALT=1;ODDS=38.1998;PAIRED=0;PAIREDR=0;PAO=0;PQA=0;PQR=0;PRO=0;QA=70;QR=1389;RO=36;RPL=1;RPP=3.0103;RPPR=18.4519;RPR=1;RUN=1;SAF=2;SAP=7.35324;SAR=0;SRF=36;SRP=81.1833;SRR=0;TYPE=snp\tGT:DP:AD:RO:QR:AO:QA:GL\t0/0:38:36,2:36:1389:2:70:0,-4.79366,-118.637\n",
      "chr5\t149041580\t.\tT\tG\t1.1934E-14\t.\tAB=0;ABP=0;AC=0;AF=0;AN=2;AO=14;CIGAR=1X;DP=86;DPB=86;DPRA=0;EPP=8.59409;EPPR=27.3308;GTI=0;LEN=1;MEANALT=2;MQM=60;MQMR=60;NS=1;NUMALT=1;ODDS=65.9385;PAIRED=0;PAIREDR=0;PAO=0;PQA=0;PQR=0;PRO=0;QA=167;QR=1570;RO=70;RPL=10;RPP=8.59409;RPPR=27.3308;RPR=4;RUN=1;SAF=14;SAP=33.4109;SAR=0;SRF=70;SRP=155.013;SRR=0;TYPE=snp\tGT:DP:AD:RO:QR:AO:QA:GL\t0/0:86:70,14:70:1570:14:167:0,-10.2094,-126.354\n",
      "chr5\t149041583\t.\tA\tC,G\t2.1728E-14\t.\tAB=0,0;ABP=0,0;AC=0,0;AF=0,0;AN=2;AO=5,6;CIGAR=1X,1X;DP=86;DPB=86;DPRA=0,0;EPP=13.8677,4.45795;EPPR=30.8341;GTI=0;LEN=1,1;MEANALT=2,2;MQM=60,60;MQMR=60;NS=1;NUMALT=2;ODDS=90.3886;PAIRED=0,0;PAIREDR=0;PAO=0,0;PQA=0,0;PQR=0;PRO=0;QA=22,67;QR=1763;RO=75;RPL=5,4;RPP=13.8677,4.45795;RPPR=30.8341;RPR=0,2;RUN=1,1;SAF=5,6;SAP=13.8677,16.0391;SAR=0,0;SRF=75;SRP=165.871;SRR=0;TYPE=snp,snp\tGT:DP:AD:RO:QR:AO:QA:GL\t0/0:86:75,5,6:75:1763:5,6:22,67:0,-22.1332,-156.807,-18.3167,-154.098,-152.754\n",
      "chr5\t149042718\t2485\tA\tG\t1113.95\t.\tAB=0.5;ABP=3.0103;AC=1;AF=0.5;AN=2;AO=47;CIGAR=1X;DP=94;DPB=94;DPRA=0;EPP=6.75262;EPPR=6.75262;GTI=0;LEN=1;MEANALT=1;MQM=60;MQMR=60;NS=1;NUMALT=1;ODDS=254.877;PAIRED=0;PAIREDR=0;PAO=0;PQA=0;PQR=0;PRO=0;QA=1770;QR=1762;RO=47;RPL=28;RPP=6.75262;RPPR=6.75262;RPR=19;RUN=1;SAF=47;SAP=105.07;SAR=0;SRF=47;SRP=105.07;SRR=0;TYPE=snp;AF_EXAC=0.00151;AF_TGP=0.00020;ALLELEID=17524;CLNDISDB=Human_Phenotype_Ontology:HP:0001528,MedGen:C0332890|Human_Phenotype_Ontology:HP:0002650,MONDO:MONDO:0005392,MedGen:C0036439|Human_Phenotype_Ontology:HP:0002803,MedGen:C0332878|Human_Phenotype_Ontology:HP:0002804,MeSH:D001176,MedGen:C0003886,Orphanet:ORPHA1037|Human_Phenotype_Ontology:HP:0003199,MedGen:C1837108|Human_Phenotype_Ontology:HP:0003634,MedGen:C0432185|Human_Phenotype_Ontology:HP:0006385,MedGen:C0426901|Human_Phenotype_Ontology:HP:0006659,MedGen:C1862491|Human_Phenotype_Ontology:HP:0009824,MedGen:C1837406|MONDO:MONDO:0011113,MedGen:C1866636,OMIM:601596,Orphanet:ORPHA99949|MONDO:MONDO:0013237,MedGen:C3150596,OMIM:613353|MONDO:MONDO:0015626,MedGen:C0007959,Orphanet:ORPHA166,SNOMED_CT:50548001|MONDO:MONDO:0018995,MedGen:C4082197,Orphanet:ORPHA64749,SNOMED_CT:715795005|MedGen:CN517202;CLNDN=Hemihypertrophy|Scoliosis|Congenital_contracture|Arthrogryposis_multiplex_congenita|Decreased_muscle_mass|Amyoplasia|Short_lower_limbs|Internally_rotated_shoulders|Upper_limb_undergrowth|Charcot-Marie-Tooth_disease,_type_4C|Mononeuropathy_of_the_median_nerve,_mild|Charcot-Marie-Tooth_disease|Charcot-Marie-Tooth_disease_type_4|not_provided;CLNHGVS=NC_000005.10:g.149042718A>G;CLNREVSTAT=criteria_provided,_conflicting_interpretations;CLNSIG=Conflicting_interpretations_of_pathogenicity;CLNSIGCONF=Likely_benign(2),Uncertain_significance(6);CLNVC=single_nucleotide_variant;CLNVCSO=SO:0001483;CLNVI=Centre_for_Mendelian_Genomics,University_Medical_Centre_Ljubljana:CMGVARID00445|Illumina_Clinical_Services_Laboratory,Illumina:82217|OMIM_Allelic_Variant:608206.0008|UniProtKB_(protein):Q8TF17#VAR_064421;GENEINFO=SH3TC2:79628;MC=SO:0001583|missense_variant;ORIGIN=1;RS=80359890\tGT:DP:AD:RO:QR:AO:QA:GL\t0/1:94:47,47:47:1762:47:1770:-131.239,0,-130.536\n",
      "chr5\t149047970\t.\tA\tC\t3.85731E-15\t.\tAB=0;ABP=0;AC=0;AF=0;AN=2;AO=3;CIGAR=1X;DP=33;DPB=33;DPRA=0;EPP=9.52472;EPPR=26.4622;GTI=0;LEN=1;MEANALT=1;MQM=60;MQMR=60;NS=1;NUMALT=1;ODDS=46.6973;PAIRED=0;PAIREDR=0;PAO=0;PQA=0;PQR=0;PRO=0;QA=6;QR=1044;RO=30;RPL=3;RPP=9.52472;RPPR=26.4622;RPR=0;RUN=1;SAF=3;SAP=9.52472;SAR=0;SRF=30;SRP=68.1545;SRR=0;TYPE=snp\tGT:DP:AD:RO:QR:AO:QA:GL\t0/0:33:30,3:30:1044:3:6:0,-9.37399,-93.6943\n",
      "chr5\t149062951\t.\tG\tC\t8.46824E-15\t.\tAB=0;ABP=0;AC=0;AF=0;AN=2;AO=3;CIGAR=1X;DP=59;DPB=59;DPRA=0;EPP=9.52472;EPPR=15.5738;GTI=0;LEN=1;MEANALT=1;MQM=60;MQMR=59.9643;NS=1;NUMALT=1;ODDS=78.3773;PAIRED=0;PAIREDR=0;PAO=0;PQA=0;PQR=0;PRO=0;QA=18;QR=1855;RO=56;RPL=3;RPP=9.52472;RPPR=15.5738;RPR=0;RUN=1;SAF=3;SAP=9.52472;SAR=0;SRF=56;SRP=124.613;SRR=0;TYPE=snp\tGT:DP:AD:RO:QR:AO:QA:GL\t0/0:59:56,3:56:1855:3:18:0,-16.0808,-165.503\n",
      "chr5\t149063022\t218918\tT\tC\t245.84\t.\tAB=0.470588;ABP=3.26577;AC=1;AF=0.5;AN=2;AO=16;CIGAR=1X;DP=34;DPB=34;DPRA=0;EPP=22.5536;EPPR=7.35324;GTI=0;LEN=1;MEANALT=1;MQM=60;MQMR=60;NS=1;NUMALT=1;ODDS=56.6067;PAIRED=0;PAIREDR=0;PAO=0;PQA=0;PQR=0;PRO=0;QA=530;QR=587;RO=18;RPL=14;RPP=22.5536;RPPR=7.35324;RPR=2;RUN=1;SAF=16;SAP=37.7539;SAR=0;SRF=18;SRP=42.0968;SRR=0;TYPE=snp;ALLELEID=215727;CLNDISDB=MONDO:MONDO:0011113,MedGen:C1866636,OMIM:601596,Orphanet:ORPHA99949|MONDO:MONDO:0018995,MedGen:C4082197,Orphanet:ORPHA64749,SNOMED_CT:715795005;CLNDN=Charcot-Marie-Tooth_disease,_type_4C|Charcot-Marie-Tooth_disease_type_4;CLNHGVS=NC_000005.10:g.149063022T>C;CLNREVSTAT=criteria_provided,_multiple_submitters,_no_conflicts;CLNSIG=Pathogenic/Likely_pathogenic;CLNVC=single_nucleotide_variant;CLNVCSO=SO:0001483;GENEINFO=SH3TC2:79628;MC=SO:0001583|missense_variant;ORIGIN=33;RS=864309709\tGT:DP:AD:RO:QR:AO:QA:GL\t0/1:34:18,16:18:587:16:530:-37.7669,0,-42.8923\n",
      "chr5\t149063033\t.\tT\tC\t4.22647E-14\t.\tAB=0;ABP=0;AC=0;AF=0;AN=2;AO=2;CIGAR=1X;DP=29;DPB=29;DPRA=0;EPP=7.35324;EPPR=26.2531;GTI=0;LEN=1;MEANALT=1;MQM=60;MQMR=60;NS=1;NUMALT=1;ODDS=34.4301;PAIRED=0;PAIREDR=0;PAO=0;PQA=0;PQR=0;PRO=0;QA=39;QR=871;RO=27;RPL=2;RPP=7.35324;RPPR=26.2531;RPR=0;RUN=1;SAF=2;SAP=7.35324;SAR=0;SRF=27;SRP=61.6401;SRR=0;TYPE=snp\tGT:DP:AD:RO:QR:AO:QA:GL\t0/0:29:27,2:27:871:2:39:0,-5.02528,-74.9671\n",
      "chr5\t149099303\t.\tT\tC\t57.8588\t.\tAB=0;ABP=0;AC=2;AF=1;AN=2;AO=2;CIGAR=1X;DP=2;DPB=2;DPRA=0;EPP=7.35324;EPPR=0;GTI=0;LEN=1;MEANALT=1;MQM=60;MQMR=0;NS=1;NUMALT=1;ODDS=7.37776;PAIRED=0;PAIREDR=0;PAO=0;PQA=0;PQR=0;PRO=0;QA=80;QR=0;RO=0;RPL=0;RPP=7.35324;RPPR=0;RPR=2;RUN=1;SAF=2;SAP=7.35324;SAR=0;SRF=0;SRP=0;SRR=0;TYPE=snp\tGT:DP:AD:RO:QR:AO:QA:GL\t1/1:2:0,2:0:0:2:80:-7.59179,-0.60206,0\n",
      "chr5\t149142161\t.\tT\tG\t2.46539E-10\t.\tAB=0;ABP=0;AC=0;AF=0;AN=2;AO=2;CIGAR=1X;DP=15;DPB=15;DPRA=0;EPP=7.35324;EPPR=23.2217;GTI=0;LEN=1;MEANALT=1;MQM=60;MQMR=60;NS=1;NUMALT=1;ODDS=23.592;PAIRED=0;PAIREDR=0;PAO=0;PQA=0;PQR=0;PRO=0;QA=6;QR=287;RO=13;RPL=2;RPP=7.35324;RPPR=23.2217;RPR=0;RUN=1;SAF=2;SAP=7.35324;SAR=0;SRF=13;SRP=31.2394;SRR=0;TYPE=snp\tGT:DP:AD:RO:QR:AO:QA:GL\t0/0:15:13,2:13:287:2:6:0,-3.94545,-25.4782\n",
      "00:00:00\tDone.\n",
      "\tTotal annotated entries : 11\n",
      "\tTotal entries           : 40\n",
      "\tPercent                 : 27.50%\n",
      "\tErrors (bad references) : 0\n"
     ]
    }
   ],
   "source": [
    "SnpSift annotate -v clinvar_20200720.vcf.gz result.vcf"
   ]
  },
  {
   "cell_type": "markdown",
   "metadata": {},
   "source": [
    "# Taking a look at the annotated variant file"
   ]
  },
  {
   "cell_type": "markdown",
   "metadata": {},
   "source": [
    "We can download the CSV file and open it in Microsoft Excel"
   ]
  },
  {
   "cell_type": "markdown",
   "metadata": {},
   "source": [
    "# Preparing the VCF file for visualization"
   ]
  },
  {
   "cell_type": "code",
   "execution_count": 13,
   "metadata": {
    "collapsed": false,
    "jupyter": {
     "outputs_hidden": false
    }
   },
   "outputs": [],
   "source": [
    "bgzip -c result.vcf > result.vcf.gz"
   ]
  },
  {
   "cell_type": "code",
   "execution_count": 14,
   "metadata": {
    "collapsed": false,
    "jupyter": {
     "outputs_hidden": false
    }
   },
   "outputs": [],
   "source": [
    "tabix -p vcf result.vcf.gz"
   ]
  },
  {
   "cell_type": "code",
   "execution_count": 15,
   "metadata": {
    "collapsed": false,
    "jupyter": {
     "outputs_hidden": false
    }
   },
   "outputs": [
    {
     "name": "stdout",
     "output_type": "stream",
     "text": [
      "total 579612\n",
      "-rw-r--r-- 1 root root     16662 Jul 23 08:58 '01 - Preparations for Finding a Disease Mutation.ipynb'\n",
      "-rw-r--r-- 1 root root     16745 Jul 23 09:00 '02 - Aligning the FASTQ File.ipynb'\n",
      "-rw-r--r-- 1 root root     64157 Jul 23 09:02 '03 - Variant Calling.ipynb'\n",
      "-rw-r--r-- 1 root root     40409 Jul 23 09:02 '04 - Annotation of Variants.ipynb'\n",
      "-rw-r--r-- 1 root root 185169031 Jul 23 08:49  chr5.fa\n",
      "-rw-r--r-- 1 root root       588 Jul 23 08:51  chr5.fa.amb\n",
      "-rw-r--r-- 1 root root        44 Jul 23 08:51  chr5.fa.ann\n",
      "-rw-r--r-- 1 root root 181538356 Jul 23 08:51  chr5.fa.bwt\n",
      "-rw-r--r-- 1 root root        23 Jul 23 09:01  chr5.fa.fai\n",
      "-rw-r--r-- 1 root root  45384566 Jul 23 08:51  chr5.fa.pac\n",
      "-rw-r--r-- 1 root root  90769184 Jul 23 08:52  chr5.fa.sa\n",
      "-rw-r--r-- 1 root root  32772597 Jul 21 03:06  clinvar_20200720.vcf.gz\n",
      "-rw-r--r-- 1 root root  32772597 Jul 21 03:06  clinvar_20200720.vcf.gz.1\n",
      "-rw-r--r-- 1 root root    290018 Jul 21 03:06  clinvar_20200720.vcf.gz.tbi\n",
      "-rw-r--r-- 1 root root    290018 Jul 21 03:06  clinvar_20200720.vcf.gz.tbi.1\n",
      "-rw-r--r-- 1 root root    839362 Jul 22 21:34  input.fq\n",
      "-rw-r--r-- 1 root root    229733 Jul 23 08:49  input_fastqc.html\n",
      "-rw-r--r-- 1 root root    240562 Jul 23 08:49  input_fastqc.zip\n",
      "-rw-r--r-- 1 root root    216864 Jul 23 09:00  mapped.bam\n",
      "-rw-r--r-- 1 root root    985658 Jul 23 08:58  mapped.sam\n",
      "-rw-r--r-- 1 root root    216866 Jul 23 06:15  mapped.sort\n",
      "-rw-r--r-- 1 root root    216851 Jul 23 09:01  mapped.sort.bam\n",
      "-rw-r--r-- 1 root root     73216 Jul 23 09:01  mapped.sort.bam.bai\n",
      "-rw-r--r-- 1 root root     24491 Jul 23 09:01  result.vcf\n",
      "-rw-r--r-- 1 root root      5746 Jul 23 09:03  result.vcf.gz\n",
      "-rw-r--r-- 1 root root       374 Jul 23 09:03  result.vcf.gz.tbi\n",
      "-rw-r--r-- 1 root root     27596 Jul 23 08:47  test.vcf\n"
     ]
    }
   ],
   "source": [
    "ls -l"
   ]
  },
  {
   "cell_type": "markdown",
   "metadata": {},
   "source": [
    "## Linking to web-based genome browser\n",
    "\n",
    "Go to http://chromozoom.org\n",
    "\n",
    "Paste this line under custom track: \n",
    "\n",
    "```track type=vcfTabix name=\"My VCF\" bigDataUrl=http://bchdb.nus.edu.sg/media/notebook/result.vcf.gz```"
   ]
  },
  {
   "cell_type": "code",
   "execution_count": null,
   "metadata": {},
   "outputs": [],
   "source": []
  }
 ],
 "metadata": {
  "kernelspec": {
   "display_name": "Bash",
   "language": "bash",
   "name": "bash"
  },
  "language_info": {
   "codemirror_mode": "shell",
   "file_extension": ".sh",
   "mimetype": "text/x-sh",
   "name": "bash"
  }
 },
 "nbformat": 4,
 "nbformat_minor": 4
}
