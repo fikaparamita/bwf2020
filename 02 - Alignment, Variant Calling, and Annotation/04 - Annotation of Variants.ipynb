{
 "cells": [
  {
   "cell_type": "markdown",
   "metadata": {},
   "source": [
    "# Annotation of Variants\n",
    "\n",
    "We have uncovered variants that differ from the reference genome, but we do not know if the variants affect genes/regions in the genome that may explain a disease or a phenotype.\n",
    "\n",
    "To do this, we will annotate the VCF file by using a tool called ANNOVAR that cross references the variants with databases of gene regions, population variants, functional mutations and others.\n",
    "\n",
    "We will first take a look at the list of files again:"
   ]
  },
  {
   "cell_type": "code",
   "execution_count": 1,
   "metadata": {
    "collapsed": false,
    "jupyter": {
     "outputs_hidden": false
    }
   },
   "outputs": [
    {
     "name": "stdout",
     "output_type": "stream",
     "text": [
      "total 483M\n",
      "-rw-r--r-- 1 root root  15K Jul 23 14:50 '01 - Preparations for Finding a Disease Mutation.ipynb'\n",
      "-rw-r--r-- 1 root root  17K Jul 23 14:44 '02 - Aligning the FASTQ File.ipynb'\n",
      "-rw-r--r-- 1 root root  63K Jul 23 14:44 '03 - Variant Calling.ipynb'\n",
      "-rw-r--r-- 1 root root  50K Jul 23 14:44 '04 - Annotation of Variants.ipynb'\n",
      "-rw-r--r-- 1 root root 177M Jul 23 14:45  chr5.fa\n",
      "-rw-r--r-- 1 root root  588 Jul 23 14:48  chr5.fa.amb\n",
      "-rw-r--r-- 1 root root   44 Jul 23 14:48  chr5.fa.ann\n",
      "-rw-r--r-- 1 root root 174M Jul 23 14:48  chr5.fa.bwt\n",
      "-rw-r--r-- 1 root root   23 Jul 23 14:50  chr5.fa.fai\n",
      "-rw-r--r-- 1 root root  44M Jul 23 14:48  chr5.fa.pac\n",
      "-rw-r--r-- 1 root root  87M Jul 23 14:49  chr5.fa.sa\n",
      "-rw-r--r-- 1 root root 820K Jul 23 14:44  input.fq\n",
      "-rw-r--r-- 1 root root 225K Jul 23 14:46  input_fastqc.html\n",
      "-rw-r--r-- 1 root root 235K Jul 23 14:46  input_fastqc.zip\n",
      "-rw-r--r-- 1 root root 212K Jul 23 14:49  mapped.bam\n",
      "-rw-r--r-- 1 root root 963K Jul 23 14:49  mapped.sam\n",
      "-rw-r--r-- 1 root root 212K Jul 23 14:49  mapped.sort.bam\n",
      "-rw-r--r-- 1 root root  72K Jul 23 14:49  mapped.sort.bam.bai\n",
      "-rw-r--r-- 1 root root  24K Jul 23 14:50  result.vcf\n"
     ]
    }
   ],
   "source": [
    "ls -lh"
   ]
  },
  {
   "cell_type": "markdown",
   "metadata": {},
   "source": [
    "We will use the corrected VCF file for annotation using ANNOVAR. To do this, we need to first convert the VCF file to the proper internal format .avinput using the 'convert2annovar.pl' program.\n",
    "\n",
    "After creating the .avinput file, we use it to created an annotated table using the 'table_annovar.pl' program. For the annotation, we need to provide several important parameters:\n",
    "\n",
    "- buildver - the genome version (typically hg19)\n",
    "- annovar database - this is the directory for all the indexes\n",
    "- protocol - this is to specify the databases for annotation\n",
    "\n",
    "In this example, we will use 3 databases in the protocol specification:\n",
    "- refGene - this tells us if the mutations occur in a gene\n",
    "- snp138 - this is the catalog of variants (dbSNP version 138)\n",
    "- clinvar_20150629 - this is a catalog of clinically important disease mutations\n",
    "\n",
    "For each database, we need to specify the operation type. In this case:\n",
    "\n",
    "- refGene - gene-based (g)\n",
    "- snp138 - filtered (f)\n",
    "- clinvar_20150629 - filtered (f)"
   ]
  },
  {
   "cell_type": "code",
   "execution_count": 2,
   "metadata": {
    "collapsed": false,
    "jupyter": {
     "outputs_hidden": false
    }
   },
   "outputs": [
    {
     "name": "stdout",
     "output_type": "stream",
     "text": [
      "total 483M\n",
      "-rw-r--r-- 1 root root  15K Jul 23 14:50 '01 - Preparations for Finding a Disease Mutation.ipynb'\n",
      "-rw-r--r-- 1 root root  17K Jul 23 14:44 '02 - Aligning the FASTQ File.ipynb'\n",
      "-rw-r--r-- 1 root root  63K Jul 23 14:44 '03 - Variant Calling.ipynb'\n",
      "-rw-r--r-- 1 root root  50K Jul 23 14:44 '04 - Annotation of Variants.ipynb'\n",
      "-rw-r--r-- 1 root root 177M Jul 23 14:45  chr5.fa\n",
      "-rw-r--r-- 1 root root  588 Jul 23 14:48  chr5.fa.amb\n",
      "-rw-r--r-- 1 root root   44 Jul 23 14:48  chr5.fa.ann\n",
      "-rw-r--r-- 1 root root 174M Jul 23 14:48  chr5.fa.bwt\n",
      "-rw-r--r-- 1 root root   23 Jul 23 14:50  chr5.fa.fai\n",
      "-rw-r--r-- 1 root root  44M Jul 23 14:48  chr5.fa.pac\n",
      "-rw-r--r-- 1 root root  87M Jul 23 14:49  chr5.fa.sa\n",
      "-rw-r--r-- 1 root root 820K Jul 23 14:44  input.fq\n",
      "-rw-r--r-- 1 root root 225K Jul 23 14:46  input_fastqc.html\n",
      "-rw-r--r-- 1 root root 235K Jul 23 14:46  input_fastqc.zip\n",
      "-rw-r--r-- 1 root root 212K Jul 23 14:49  mapped.bam\n",
      "-rw-r--r-- 1 root root 963K Jul 23 14:49  mapped.sam\n",
      "-rw-r--r-- 1 root root 212K Jul 23 14:49  mapped.sort.bam\n",
      "-rw-r--r-- 1 root root  72K Jul 23 14:49  mapped.sort.bam.bai\n",
      "-rw-r--r-- 1 root root  24K Jul 23 14:50  result.vcf\n"
     ]
    }
   ],
   "source": [
    "ls -lh"
   ]
  },
  {
   "cell_type": "code",
   "execution_count": 3,
   "metadata": {},
   "outputs": [
    {
     "name": "stdout",
     "output_type": "stream",
     "text": [
      "--2020-07-23 14:50:57--  https://ftp.ncbi.nlm.nih.gov/pub/clinvar/vcf_GRCh38/clinvar_20200720.vcf.gz\n",
      "Resolving ftp.ncbi.nlm.nih.gov (ftp.ncbi.nlm.nih.gov)... 130.14.250.11, 2607:f220:41e:250::7, 2607:f220:41e:250::10, ...\n",
      "Connecting to ftp.ncbi.nlm.nih.gov (ftp.ncbi.nlm.nih.gov)|130.14.250.11|:443... connected.\n",
      "HTTP request sent, awaiting response... 200 OK\n",
      "Length: 32772597 (31M) [application/x-gzip]\n",
      "Saving to: ‘clinvar_20200720.vcf.gz’\n",
      "\n",
      "clinvar_20200720.vc 100%[===================>]  31.25M  2.01MB/s    in 14s     \n",
      "\n",
      "2020-07-23 14:51:13 (2.16 MB/s) - ‘clinvar_20200720.vcf.gz’ saved [32772597/32772597]\n",
      "\n",
      "--2020-07-23 14:51:13--  https://ftp.ncbi.nlm.nih.gov/pub/clinvar/vcf_GRCh38/clinvar_20200720.vcf.gz.tbi\n",
      "Resolving ftp.ncbi.nlm.nih.gov (ftp.ncbi.nlm.nih.gov)... 130.14.250.11, 2607:f220:41e:250::7, 2607:f220:41e:250::10, ...\n",
      "Connecting to ftp.ncbi.nlm.nih.gov (ftp.ncbi.nlm.nih.gov)|130.14.250.11|:443... connected.\n",
      "HTTP request sent, awaiting response... 200 OK\n",
      "Length: 290018 (283K) [application/x-gzip]\n",
      "Saving to: ‘clinvar_20200720.vcf.gz.tbi’\n",
      "\n",
      "clinvar_20200720.vc 100%[===================>] 283.22K   177KB/s    in 1.6s    \n",
      "\n",
      "2020-07-23 14:51:17 (177 KB/s) - ‘clinvar_20200720.vcf.gz.tbi’ saved [290018/290018]\n",
      "\n"
     ]
    }
   ],
   "source": [
    "wget https://ftp.ncbi.nlm.nih.gov/pub/clinvar/vcf_GRCh38/clinvar_20200720.vcf.gz\n",
    "wget https://ftp.ncbi.nlm.nih.gov/pub/clinvar/vcf_GRCh38/clinvar_20200720.vcf.gz.tbi"
   ]
  },
  {
   "cell_type": "code",
   "execution_count": 5,
   "metadata": {},
   "outputs": [
    {
     "name": "stdout",
     "output_type": "stream",
     "text": [
      "00:00:00\tSnpSift version 4.3t (build 2017-11-24 10:18), by Pablo Cingolani\n",
      "00:00:00\tCommand: 'annotate'\n",
      "00:00:00\tReading configuration file 'snpEff.config'\n",
      "00:00:00\tdone\n",
      "00:00:00\tAnnotating entries from: 'result.vcf'\n",
      "00:00:00\tOpening VCF input 'result.vcf'\n",
      "00:00:00\tAnnotating:\tInput file    : 'result.vcf'\tDatabase file : 'clinvar_20200720.vcf.gz'\n",
      "00:00:00\tAnnotating method: TABIX\n",
      "00:00:00\tDone.\n",
      "\tTotal annotated entries : 11\n",
      "\tTotal entries           : 40\n",
      "\tPercent                 : 27.50%\n",
      "\tErrors (bad references) : 0\n"
     ]
    }
   ],
   "source": [
    "SnpSift annotate -v clinvar_20200720.vcf.gz result.vcf > result.annotate.vcf"
   ]
  },
  {
   "cell_type": "markdown",
   "metadata": {},
   "source": [
    "# Taking a look at the annotated variant file"
   ]
  },
  {
   "cell_type": "markdown",
   "metadata": {},
   "source": [
    "We can download the CSV file and open it in Microsoft Excel"
   ]
  },
  {
   "cell_type": "markdown",
   "metadata": {},
   "source": [
    "# Preparing the VCF file for visualization"
   ]
  },
  {
   "cell_type": "code",
   "execution_count": 9,
   "metadata": {
    "collapsed": false,
    "jupyter": {
     "outputs_hidden": false
    }
   },
   "outputs": [],
   "source": [
    "bgzip -c result.annotate.vcf > result.annotate.vcf.gz\n",
    "tabix -p vcf result.annotate.vcf.gz"
   ]
  },
  {
   "cell_type": "code",
   "execution_count": 10,
   "metadata": {},
   "outputs": [
    {
     "name": "stdout",
     "output_type": "stream",
     "text": [
      "total 514M\n",
      "-rw-r--r-- 1 root root  15K Jul 23 14:50 '01 - Preparations for Finding a Disease Mutation.ipynb'\n",
      "-rw-r--r-- 1 root root  16K Jul 23 14:51 '02 - Aligning the FASTQ File.ipynb'\n",
      "-rw-r--r-- 1 root root  61K Jul 23 14:51 '03 - Variant Calling.ipynb'\n",
      "-rw-r--r-- 1 root root  12K Jul 23 14:52 '04 - Annotation of Variants.ipynb'\n",
      "-rw-r--r-- 1 root root 177M Jul 23 14:45  chr5.fa\n",
      "-rw-r--r-- 1 root root  588 Jul 23 14:48  chr5.fa.amb\n",
      "-rw-r--r-- 1 root root   44 Jul 23 14:48  chr5.fa.ann\n",
      "-rw-r--r-- 1 root root 174M Jul 23 14:48  chr5.fa.bwt\n",
      "-rw-r--r-- 1 root root   23 Jul 23 14:50  chr5.fa.fai\n",
      "-rw-r--r-- 1 root root  44M Jul 23 14:48  chr5.fa.pac\n",
      "-rw-r--r-- 1 root root  87M Jul 23 14:49  chr5.fa.sa\n",
      "-rw-r--r-- 1 root root  32M Jul 21 03:06  clinvar_20200720.vcf.gz\n",
      "-rw-r--r-- 1 root root 284K Jul 21 03:06  clinvar_20200720.vcf.gz.tbi\n",
      "-rw-r--r-- 1 root root 820K Jul 23 14:44  input.fq\n",
      "-rw-r--r-- 1 root root 225K Jul 23 14:46  input_fastqc.html\n",
      "-rw-r--r-- 1 root root 235K Jul 23 14:46  input_fastqc.zip\n",
      "-rw-r--r-- 1 root root 212K Jul 23 14:49  mapped.bam\n",
      "-rw-r--r-- 1 root root 963K Jul 23 14:49  mapped.sam\n",
      "-rw-r--r-- 1 root root 212K Jul 23 14:49  mapped.sort.bam\n",
      "-rw-r--r-- 1 root root  72K Jul 23 14:49  mapped.sort.bam.bai\n",
      "-rw-r--r-- 1 root root  35K Jul 23 14:51  result.annotate.vcf\n",
      "-rw-r--r-- 1 root root 8.3K Jul 23 14:53  result.annotate.vcf.gz\n",
      "-rw-r--r-- 1 root root  375 Jul 23 14:53  result.annotate.vcf.gz.tbi\n",
      "-rw-r--r-- 1 root root  24K Jul 23 14:50  result.vcf\n"
     ]
    }
   ],
   "source": [
    "ls -lh"
   ]
  },
  {
   "cell_type": "code",
   "execution_count": null,
   "metadata": {},
   "outputs": [],
   "source": []
  }
 ],
 "metadata": {
  "kernelspec": {
   "display_name": "Bash",
   "language": "bash",
   "name": "bash"
  },
  "language_info": {
   "codemirror_mode": "shell",
   "file_extension": ".sh",
   "mimetype": "text/x-sh",
   "name": "bash"
  }
 },
 "nbformat": 4,
 "nbformat_minor": 4
}
