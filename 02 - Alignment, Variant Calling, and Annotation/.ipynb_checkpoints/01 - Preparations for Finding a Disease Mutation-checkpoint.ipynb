{
 "cells": [
  {
   "cell_type": "markdown",
   "metadata": {},
   "source": [
    "# Finding a disease mutation\n",
    "\n",
    "In this tutorial, we will identify a disease mutation from sequencing data of Dr James Lupski.\n",
    "\n",
    "    \n",
    "<img src=\"https://signature.bcm.edu/images/uploaded/full/1449086752427.jpeg\" width=320>    \n",
    "\n",
    "<center>https://en.wikipedia.org/wiki/James_R._Lupski</center>\n",
    "\n",
    "Overview of workflow:\n",
    "\n",
    "<img src=\"https://bchdb.nus.edu.sg/media/notebook/workflow.png\">\n",
    "\n",
    "For this tutorial, we will use a smaller reference genome (chromosome 5) for quicker processing, and a small subset of the input DNA sequences from Dr Lupski."
   ]
  },
  {
   "cell_type": "markdown",
   "metadata": {},
   "source": [
    "Let's take a look at the contents of the directory"
   ]
  },
  {
   "cell_type": "code",
   "execution_count": 12,
   "metadata": {
    "collapsed": false,
    "jupyter": {
     "outputs_hidden": false
    }
   },
   "outputs": [
    {
     "name": "stdout",
     "output_type": "stream",
     "text": [
      "total 485M\n",
      "-rw-r--r-- 1 root root  15K Jul 23 06:08 '01 - Preparations for Finding a Disease Mutation.ipynb'\n",
      "-rw-r--r-- 1 root root  15K Jul 23 06:03 '02 - Aligning the FASTQ File.ipynb'\n",
      "-rw-r--r-- 1 root root  42K Jul 22 21:34 '03 - Variant Calling.ipynb'\n",
      "-rw-r--r-- 1 root root  20K Jul 23 04:31 '04 - Annotation of Variants.ipynb'\n",
      "-rw-r--r-- 1 root root 176M Jul 22 21:34  chr5.fa\n",
      "-rw-r--r-- 1 root root  131 Jul 23 06:07  chr5.fa.amb\n",
      "-rw-r--r-- 1 root root   43 Jul 23 06:07  chr5.fa.ann\n",
      "-rw-r--r-- 1 root root 173M Jul 23 06:07  chr5.fa.bwt\n",
      "-rw-r--r-- 1 root root  44M Jul 23 06:07  chr5.fa.pac\n",
      "-rw-r--r-- 1 root root  87M Jul 23 06:08  chr5.fa.sa\n",
      "-rw-r--r-- 1 root root 820K Jul 22 21:34  input.fq\n",
      "-rw-r--r-- 1 root root 225K Jul 23 06:04  input_fastqc.html\n",
      "-rw-r--r-- 1 root root 235K Jul 23 06:04  input_fastqc.zip\n"
     ]
    }
   ],
   "source": [
    "ls -lh"
   ]
  },
  {
   "cell_type": "markdown",
   "metadata": {},
   "source": [
    "Let us look at the 2 files that will be using\n",
    "\n",
    "- chr5.fa - the human reference genome (chromosome 5)\n",
    "- input.fq - the query sequences\n",
    "\n",
    "Note: We are using a trimmed down Illumina exome dataset of Dr. James Lupski (SRR866988.sra) which has a disease causing mutation on chromosome 5"
   ]
  },
  {
   "cell_type": "markdown",
   "metadata": {},
   "source": [
    "### Taking a peek at the reference fasta file"
   ]
  },
  {
   "cell_type": "code",
   "execution_count": 3,
   "metadata": {
    "collapsed": false,
    "jupyter": {
     "outputs_hidden": false
    }
   },
   "outputs": [
    {
     "name": "stdout",
     "output_type": "stream",
     "text": [
      ">chr5\n",
      "NNNNNNNNNNNNNNNNNNNNNNNNNNNNNNNNNNNNNNNNNNNNNNNNNN\n",
      "NNNNNNNNNNNNNNNNNNNNNNNNNNNNNNNNNNNNNNNNNNNNNNNNNN\n",
      "NNNNNNNNNNNNNNNNNNNNNNNNNNNNNNNNNNNNNNNNNNNNNNNNNN\n",
      "NNNNNNNNNNNNNNNNNNNNNNNNNNNNNNNNNNNNNNNNNNNNNNNNNN\n",
      "NNNNNNNNNNNNNNNNNNNNNNNNNNNNNNNNNNNNNNNNNNNNNNNNNN\n",
      "NNNNNNNNNNNNNNNNNNNNNNNNNNNNNNNNNNNNNNNNNNNNNNNNNN\n",
      "NNNNNNNNNNNNNNNNNNNNNNNNNNNNNNNNNNNNNNNNNNNNNNNNNN\n",
      "NNNNNNNNNNNNNNNNNNNNNNNNNNNNNNNNNNNNNNNNNNNNNNNNNN\n",
      "NNNNNNNNNNNNNNNNNNNNNNNNNNNNNNNNNNNNNNNNNNNNNNNNNN\n"
     ]
    }
   ],
   "source": [
    "head chr5.fa"
   ]
  },
  {
   "cell_type": "markdown",
   "metadata": {},
   "source": [
    "The fasta format is quite simple. The first line is the identifier which starts with '>'\n",
    "\n",
    "The subsequent lines are DNA sequences. Here we see 'N's which means that the sequences are unknown."
   ]
  },
  {
   "cell_type": "markdown",
   "metadata": {},
   "source": [
    "OPTIONAL: We can also take a look at 10 lines of DNA sequence starting from the 100,000th line in the reference file. Here we use the tail command to list the lines starting from line number 100,0000 then pass it to the head command to show only 10 lines of the output from the tail command."
   ]
  },
  {
   "cell_type": "code",
   "execution_count": 4,
   "metadata": {
    "collapsed": false,
    "jupyter": {
     "outputs_hidden": false
    }
   },
   "outputs": [
    {
     "name": "stdout",
     "output_type": "stream",
     "text": [
      "tctctaagttccctcccctcacccccagcccccaacaggccctggtgtgt\n",
      "gctgtttccctctctgtgtccatgtgttctcagcattcaactcccactta\n",
      "tgagtgagaacatgcgctgtttggttttctgttccttcgttagtttgctg\n",
      "aggatgatggcttccagcttcgttgatgtccctgcaaaatacatgatctt\n",
      "attcctttttatggctgcatggtattccatggtatatatgtaccacatag\n",
      "aaaatgggattttcttttctatcacattgtcaggctgcaaattttctgaa\n",
      "cttttatgctcagtttttccttttaaaactgaatgcctttaacagcatcc\n",
      "acatcacatcttgaatgctttgctgcttacaaattttttccaccagatac\n",
      "cctaaatcatctctctgaagttcaaagtttcacagatctctagggcaggg\n",
      "gcaaaatgcaaccagtccccactaaaacataacaagagtcacctttgttc\n",
      "tail: error writing 'standard output': Broken pipe\n"
     ]
    }
   ],
   "source": [
    "tail -n+100000 chr5.fa | head -n10 "
   ]
  },
  {
   "cell_type": "markdown",
   "metadata": {},
   "source": [
    "### Taking a look at the query sequence file (first 4 lines)"
   ]
  },
  {
   "cell_type": "code",
   "execution_count": 5,
   "metadata": {
    "collapsed": false,
    "jupyter": {
     "outputs_hidden": false
    }
   },
   "outputs": [
    {
     "name": "stdout",
     "output_type": "stream",
     "text": [
      "@SRRQ866988.19885082\n",
      "CCAAGTAAGATTGAGCTTGAAGGCTGTTCTCATTTTGTAAAAACATAAGCTCAGGAAGTGTTGAAGATATTTTAACTCTACACTGAGACTT\n",
      "+SRRQ866988.19885082\n",
      "GIIGIIIIIIIIHIIIIIIIIIIIIIIIIIIGIIIIIIIIIIHIIIIIGIIIIEHBGGEGIIHIHIIIFIIIIHIIBHIIGEHIE<EII<G\n"
     ]
    }
   ],
   "source": [
    "head -n4 input.fq"
   ]
  },
  {
   "cell_type": "markdown",
   "metadata": {},
   "source": [
    "### One sequence in a fastq file consists of 4 lines. \n",
    "\n",
    "- Line 1 - sequence identifier (starts with @)\n",
    "- Line 2 - DNA sequence\n",
    "- Line 3 - sequence identifier (starts with +)\n",
    "- Line 4 - corresponding quality score (Phred score 0-93 + 33)\n",
    "\n",
    "For the quality score, the following characters encode the lowest to highest scores\n",
    "\n",
    "<pre> !\"#$%&'()*+,-./0123456789:;<=>?@ABCDEFGHIJKLMNOPQRSTUVWXYZ[\\]^_`abcdefghijklmnopqrstuvwxyz{|}~ </pre>\n",
    "\n",
    "For more information, see https://en.wikipedia.org/wiki/FASTQ_format\n"
   ]
  },
  {
   "cell_type": "markdown",
   "metadata": {},
   "source": [
    "## Checking the quality of the FASTQ sequences\n",
    "\n",
    "It is a good practice to check the quality of the sequences by plotting the quality (Q) scores by the position. In general, a Q score of > 30 is good.\n",
    "\n",
    "To generate a plot, we will use the FASTX Toolkit (http://hannonlab.cshl.edu/fastx_toolkit/index.html)."
   ]
  },
  {
   "cell_type": "code",
   "execution_count": 7,
   "metadata": {
    "collapsed": false,
    "jupyter": {
     "outputs_hidden": false
    }
   },
   "outputs": [
    {
     "name": "stdout",
     "output_type": "stream",
     "text": [
      "Started analysis of input.fq\n",
      "Approx 25% complete for input.fq\n",
      "Approx 50% complete for input.fq\n",
      "Approx 80% complete for input.fq\n",
      "Analysis complete for input.fq\n"
     ]
    }
   ],
   "source": [
    "fastqc input.fq"
   ]
  },
  {
   "cell_type": "code",
   "execution_count": 8,
   "metadata": {
    "collapsed": false,
    "jupyter": {
     "outputs_hidden": false
    }
   },
   "outputs": [
    {
     "name": "stdout",
     "output_type": "stream",
     "text": [
      "total 179M\n",
      "-rw-r--r-- 1 root root  14K Jul 23 06:03 '01 - Preparations for Finding a Disease Mutation.ipynb'\n",
      "-rw-r--r-- 1 root root  15K Jul 23 06:03 '02 - Aligning the FASTQ File.ipynb'\n",
      "-rw-r--r-- 1 root root  42K Jul 22 21:34 '03 - Variant Calling.ipynb'\n",
      "-rw-r--r-- 1 root root  20K Jul 23 04:31 '04 - Annotation of Variants.ipynb'\n",
      "-rw-r--r-- 1 root root 176M Jul 22 21:34  chr5.fa\n",
      "-rw-r--r-- 1 root root 820K Jul 22 21:34  input.fq\n",
      "-rw-r--r-- 1 root root 225K Jul 23 06:04  input_fastqc.html\n",
      "-rw-r--r-- 1 root root 235K Jul 23 06:04  input_fastqc.zip\n"
     ]
    }
   ],
   "source": [
    "ls -lh"
   ]
  },
  {
   "cell_type": "markdown",
   "metadata": {},
   "source": [
    "We have now generated a plot (input.png) that we can view"
   ]
  },
  {
   "cell_type": "markdown",
   "metadata": {},
   "source": [
    "# Building the index for alignment\n",
    "\n",
    "Before we can align the query sequence, we need to build the index for alignment. In this case, we will be using the chr5.fa file\n",
    "\n",
    "One of the most popular programs for alignment is BWA, written by Heng Li (now at the Broad Institute, MIT). This alignment program makes use of an algorithm called Burrows-Wheeler transform to speed up the alignment process, allowing millions of sequences to be aligned to a reference genome in a reasonable amount of time.\n",
    "\n",
    "To access the program in a shared environment, we will load the BWA module and run BWA to see what the options are when running this program"
   ]
  },
  {
   "cell_type": "code",
   "execution_count": 9,
   "metadata": {},
   "outputs": [
    {
     "name": "stdout",
     "output_type": "stream",
     "text": [
      "\n",
      "Program: bwa (alignment via Burrows-Wheeler transformation)\n",
      "Version: 0.7.17-r1188\n",
      "Contact: Heng Li <lh3@sanger.ac.uk>\n",
      "\n",
      "Usage:   bwa <command> [options]\n",
      "\n",
      "Command: index         index sequences in the FASTA format\n",
      "         mem           BWA-MEM algorithm\n",
      "         fastmap       identify super-maximal exact matches\n",
      "         pemerge       merge overlapping paired ends (EXPERIMENTAL)\n",
      "         aln           gapped/ungapped alignment\n",
      "         samse         generate alignment (single ended)\n",
      "         sampe         generate alignment (paired ended)\n",
      "         bwasw         BWA-SW for long queries\n",
      "\n",
      "         shm           manage indices in shared memory\n",
      "         fa2pac        convert FASTA to PAC format\n",
      "         pac2bwt       generate BWT from PAC\n",
      "         pac2bwtgen    alternative algorithm for generating BWT\n",
      "         bwtupdate     update .bwt to the new format\n",
      "         bwt2sa        generate SA from BWT and Occ\n",
      "\n",
      "Note: To use BWA, you need to first index the genome with `bwa index'.\n",
      "      There are three alignment algorithms in BWA: `mem', `bwasw', and\n",
      "      `aln/samse/sampe'. If you are not sure which to use, try `bwa mem'\n",
      "      first. Please `man ./bwa.1' for the manual.\n",
      "\n"
     ]
    },
    {
     "ename": "",
     "evalue": "1",
     "output_type": "error",
     "traceback": []
    }
   ],
   "source": [
    "bwa"
   ]
  },
  {
   "cell_type": "markdown",
   "metadata": {},
   "source": [
    "Prior to the alignment, the reference genome must be indexed. This process may take several hours if indexing the full human genome (~4 GB), so we will use this smaller file to speed things up. In this case, we index only chromosome 5, as the disease mutation is located on this chromosome"
   ]
  },
  {
   "cell_type": "code",
   "execution_count": 15,
   "metadata": {},
   "outputs": [
    {
     "name": "stdout",
     "output_type": "stream",
     "text": [
      "[bwa_index] Pack FASTA... 1.28 sec\n",
      "[bwa_index] Construct BWT for the packed sequence...\n",
      "[BWTIncCreate] textLength=361830520, availableWord=37459652\n",
      "[BWTIncConstructFromPacked] 10 iterations done. 61791800 characters processed.\n",
      "[BWTIncConstructFromPacked] 20 iterations done. 114156328 characters processed.\n",
      "[BWTIncConstructFromPacked] 30 iterations done. 160694056 characters processed.\n",
      "[BWTIncConstructFromPacked] 40 iterations done. 202052904 characters processed.\n",
      "[BWTIncConstructFromPacked] 50 iterations done. 238808712 characters processed.\n",
      "[BWTIncConstructFromPacked] 60 iterations done. 271473336 characters processed.\n",
      "[BWTIncConstructFromPacked] 70 iterations done. 300501688 characters processed.\n",
      "[BWTIncConstructFromPacked] 80 iterations done. 326298120 characters processed.\n",
      "[BWTIncConstructFromPacked] 90 iterations done. 349222040 characters processed.\n",
      "[bwt_gen] Finished constructing BWT in 97 iterations.\n",
      "[bwa_index] 104.79 seconds elapse.\n",
      "[bwa_index] Update BWT... 0.99 sec\n",
      "[bwa_index] Pack forward-only FASTA... 0.87 sec\n",
      "[bwa_index] Construct SA from BWT and Occ... 57.36 sec\n",
      "[main] Version: 0.7.17-r1188\n",
      "[main] CMD: bwa index chr5.fa\n",
      "[main] Real time: 168.691 sec; CPU: 165.329 sec\n"
     ]
    }
   ],
   "source": [
    "bwa index chr5.fa"
   ]
  },
  {
   "cell_type": "markdown",
   "metadata": {},
   "source": [
    "The indexing process generates several files (.amb, .ann, .bwt, .pac, .sa), prefixed by the name of the input reference file (in this case, chr5.disease.fasta)"
   ]
  },
  {
   "cell_type": "code",
   "execution_count": 11,
   "metadata": {},
   "outputs": [
    {
     "name": "stdout",
     "output_type": "stream",
     "text": [
      "total 485M\n",
      "-rw-r--r-- 1 root root  13K Jul 23 06:07 '01 - Preparations for Finding a Disease Mutation.ipynb'\n",
      "-rw-r--r-- 1 root root  15K Jul 23 06:03 '02 - Aligning the FASTQ File.ipynb'\n",
      "-rw-r--r-- 1 root root  42K Jul 22 21:34 '03 - Variant Calling.ipynb'\n",
      "-rw-r--r-- 1 root root  20K Jul 23 04:31 '04 - Annotation of Variants.ipynb'\n",
      "-rw-r--r-- 1 root root 176M Jul 22 21:34  chr5.fa\n",
      "-rw-r--r-- 1 root root  131 Jul 23 06:07  chr5.fa.amb\n",
      "-rw-r--r-- 1 root root   43 Jul 23 06:07  chr5.fa.ann\n",
      "-rw-r--r-- 1 root root 173M Jul 23 06:07  chr5.fa.bwt\n",
      "-rw-r--r-- 1 root root  44M Jul 23 06:07  chr5.fa.pac\n",
      "-rw-r--r-- 1 root root  87M Jul 23 06:08  chr5.fa.sa\n",
      "-rw-r--r-- 1 root root 820K Jul 22 21:34  input.fq\n",
      "-rw-r--r-- 1 root root 225K Jul 23 06:04  input_fastqc.html\n",
      "-rw-r--r-- 1 root root 235K Jul 23 06:04  input_fastqc.zip\n"
     ]
    }
   ],
   "source": [
    "ls -lh"
   ]
  }
 ],
 "metadata": {
  "kernelspec": {
   "display_name": "Bash",
   "language": "bash",
   "name": "bash"
  },
  "language_info": {
   "codemirror_mode": "shell",
   "file_extension": ".sh",
   "mimetype": "text/x-sh",
   "name": "bash"
  }
 },
 "nbformat": 4,
 "nbformat_minor": 4
}
