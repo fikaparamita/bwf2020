{
 "cells": [
  {
   "cell_type": "markdown",
   "metadata": {},
   "source": [
    "# Annotation of Variants\n",
    "\n",
    "We have uncovered variants that differ from the reference genome, but we do not know if the variants affect genes/regions in the genome that may explain a disease or a phenotype.\n",
    "\n",
    "To do this, we will annotate the VCF file by using a tool called ANNOVAR that cross references the variants with databases of gene regions, population variants, functional mutations and others.\n",
    "\n",
    "We will first take a look at the list of files again:"
   ]
  },
  {
   "cell_type": "code",
   "execution_count": 1,
   "metadata": {
    "collapsed": false
   },
   "outputs": [
    {
     "name": "stdout",
     "output_type": "stream",
     "text": [
      "total 481M\r\n",
      "-rw-rw-r-- 1 jupyter jupyter  14K May 19 16:54 01 - Preparations for Finding a Disease Mutation.ipynb\r\n",
      "-rw-rw-r-- 1 jupyter jupyter  16K May 19 17:04 02 - Aligning the FASTQ File.ipynb\r\n",
      "-rw-rw-r-- 1 jupyter jupyter  61K May 19 17:16 03 - Variant Calling.ipynb\r\n",
      "-rw-rw-r-- 1 jupyter jupyter 4.8K May 19 11:12 04 - Annotation of Variants.ipynb\r\n",
      "-rw-r--r-- 1 jupyter jupyter 176M May 19 11:12 chr5.fa\r\n",
      "-rw-rw-r-- 1 jupyter jupyter  131 May 19 11:12 chr5.fa.amb\r\n",
      "-rw-rw-r-- 1 jupyter jupyter   43 May 19 11:12 chr5.fa.ann\r\n",
      "-rw-rw-r-- 1 jupyter jupyter 173M May 19 11:12 chr5.fa.bwt\r\n",
      "-rw-rw-r-- 1 jupyter jupyter   23 May 19 17:09 chr5.fa.fai\r\n",
      "-rw-rw-r-- 1 jupyter jupyter  44M May 19 11:12 chr5.fa.pac\r\n",
      "-rw-rw-r-- 1 jupyter jupyter  87M May 19 11:12 chr5.fa.sa\r\n",
      "-rw-r--r-- 1 jupyter jupyter 820K May 19 11:12 input.fq\r\n",
      "-rw-rw-r-- 1 jupyter jupyter  25K May 19 16:53 \u001b[0m\u001b[38;5;13minput.png\u001b[0m\r\n",
      "-rw-rw-r-- 1 jupyter jupyter 6.0K May 19 16:53 input.qual\r\n",
      "-rw-rw-r-- 1 jupyter jupyter 651K May 19 17:12 log.txt\r\n",
      "-rw-rw-r-- 1 jupyter jupyter 212K May 19 17:08 mapped.bam\r\n",
      "-rw-rw-r-- 1 jupyter jupyter 963K May 19 17:00 mapped.sam\r\n",
      "-rw-rw-r-- 1 jupyter jupyter 212K May 19 17:09 mapped.sort.bam\r\n",
      "-rw-rw-r-- 1 jupyter jupyter  72K May 19 17:09 mapped.sort.bam.bai\r\n",
      "-rw-rw-r-- 1 jupyter jupyter 9.2K May 19 17:12 result.vcf\r\n"
     ]
    }
   ],
   "source": [
    "ls -lh"
   ]
  },
  {
   "cell_type": "markdown",
   "metadata": {},
   "source": [
    "We will use the corrected VCF file for annotation using ANNOVAR. To do this, we need to first convert the VCF file to the proper internal format .avinput using the 'convert2annovar.pl' program.\n",
    "\n",
    "After creating the .avinput file, we use it to created an annotated table using the 'table_annovar.pl' program. For the annotation, we need to provide several important parameters:\n",
    "\n",
    "- buildver - the genome version (typically hg19)\n",
    "- annovar database - this is the directory for all the indexes\n",
    "- protocol - this is to specify the databases for annotation\n",
    "\n",
    "In this example, we will use 3 databases in the protocol specification:\n",
    "- refGene - this tells us if the mutations occur in a gene\n",
    "- snp138 - this is the catalog of variants (dbSNP version 138)\n",
    "- clinvar_20150629 - this is a catalog of clinically important disease mutations\n",
    "\n",
    "For each database, we need to specify the operation type. In this case:\n",
    "\n",
    "- refGene - gene-based (g)\n",
    "- snp138 - filtered (f)\n",
    "- clinvar_20150629 - filtered (f)"
   ]
  },
  {
   "cell_type": "code",
   "execution_count": 2,
   "metadata": {
    "collapsed": false
   },
   "outputs": [
    {
     "name": "stdout",
     "output_type": "stream",
     "text": [
      "total 59G\r\n",
      "-rw-r--r-- 1 root root  892 Jan  6  2016 annovar_downdb.log\r\n",
      "-rw-r--r-- 1 root root 853M Jan  6  2016 hg19_AFR.sites.2012_04.txt\r\n",
      "-rw-r--r-- 1 root root  84M Jan  6  2016 hg19_AFR.sites.2012_04.txt.idx\r\n",
      "-rw-r--r-- 1 root root 1.4G Jan  6  2016 hg19_AFR.sites.2014_10.txt\r\n",
      "-rw-r--r-- 1 root root  87M Jan  6  2016 hg19_AFR.sites.2014_10.txt.idx\r\n",
      "-rw-r--r-- 1 root root 1.5G Jan  6  2016 hg19_AFR.sites.2015_08.txt\r\n",
      "-rw-r--r-- 1 root root  87M Jan  6  2016 hg19_AFR.sites.2015_08.txt.idx\r\n",
      "-rw-r--r-- 1 root root 1.3G Jan  6  2016 hg19_ALL.sites.2012_04.txt\r\n",
      "-rw-r--r-- 1 root root  86M Jan  6  2016 hg19_ALL.sites.2012_04.txt.idx\r\n",
      "-rw-r--r-- 1 root root 2.8G Jan  6  2016 hg19_ALL.sites.2014_10.txt\r\n",
      "-rw-r--r-- 1 root root  89M Jan  6  2016 hg19_ALL.sites.2014_10.txt.idx\r\n",
      "-rw-r--r-- 1 root root 3.2G Jan  6  2016 hg19_ALL.sites.2015_08.txt\r\n",
      "-rw-r--r-- 1 root root  89M Jan  6  2016 hg19_ALL.sites.2015_08.txt.idx\r\n",
      "-rw-r--r-- 1 root root 660M Jan  6  2016 hg19_AMR.sites.2012_04.txt\r\n",
      "-rw-r--r-- 1 root root  83M Jan  6  2016 hg19_AMR.sites.2012_04.txt.idx\r\n",
      "-rw-r--r-- 1 root root 978M Jan  6  2016 hg19_AMR.sites.2014_10.txt\r\n",
      "-rw-r--r-- 1 root root  85M Jan  6  2016 hg19_AMR.sites.2014_10.txt.idx\r\n",
      "-rw-r--r-- 1 root root 1.1G Jan  6  2016 hg19_AMR.sites.2015_08.txt\r\n",
      "-rw-r--r-- 1 root root  85M Jan  6  2016 hg19_AMR.sites.2015_08.txt.idx\r\n",
      "-rw-r--r-- 1 root root 480M Jan  6  2016 hg19_ASN.sites.2012_04.txt\r\n",
      "-rw-r--r-- 1 root root  82M Jan  6  2016 hg19_ASN.sites.2012_04.txt.idx\r\n",
      "-rw-r--r-- 1 root root 3.2G Jan  6  2016 hg19_caddgt20.txt\r\n",
      "-rw-r--r-- 1 root root  24M Jan  6  2016 hg19_caddgt20.txt.idx\r\n",
      "-rw-r--r-- 1 root root  17M Jan  6  2016 hg19_clinvar_20140929.txt\r\n",
      "-rw-r--r-- 1 root root 1.3M Jan  6  2016 hg19_clinvar_20140929.txt.idx\r\n",
      "-rw-r--r-- 1 root root  29M Jan  6  2016 hg19_clinvar_20150629.txt\r\n",
      "-rw-r--r-- 1 root root 1.4M Jan  6  2016 hg19_clinvar_20150629.txt.idx\r\n",
      "-rw-r--r-- 1 root root  87M Jan  6  2016 hg19_cosmic70.txt\r\n",
      "-rw-r--r-- 1 root root 6.6M Jan  6  2016 hg19_cosmic70.txt.idx\r\n",
      "-rw-r--r-- 1 root root  31K Jan  6  2016 hg19_cytoBand.txt\r\n",
      "-rw-r--r-- 1 root root 767M Jan  6  2016 hg19_EAS.sites.2014_10.txt\r\n",
      "-rw-r--r-- 1 root root  85M Jan  6  2016 hg19_EAS.sites.2014_10.txt.idx\r\n",
      "-rw-r--r-- 1 root root 857M Jan  6  2016 hg19_EAS.sites.2015_08.txt\r\n",
      "-rw-r--r-- 1 root root  85M Jan  6  2016 hg19_EAS.sites.2015_08.txt.idx\r\n",
      "-rw-r--r-- 1 root root 571M Jan  6  2016 hg19_EUR.sites.2012_04.txt\r\n",
      "-rw-r--r-- 1 root root  83M Jan  6  2016 hg19_EUR.sites.2012_04.txt.idx\r\n",
      "-rw-r--r-- 1 root root 803M Jan  6  2016 hg19_EUR.sites.2014_10.txt\r\n",
      "-rw-r--r-- 1 root root  85M Jan  6  2016 hg19_EUR.sites.2014_10.txt.idx\r\n",
      "-rw-r--r-- 1 root root 879M Jan  6  2016 hg19_EUR.sites.2015_08.txt\r\n",
      "-rw-r--r-- 1 root root  85M Jan  6  2016 hg19_EUR.sites.2015_08.txt.idx\r\n",
      "-rw-r--r-- 1 root root 596M Jan  6  2016 hg19_exac01.txt\r\n",
      "-rw-r--r-- 1 root root  23M Jan  6  2016 hg19_exac01.txt.idx\r\n",
      "-rw-r--r-- 1 root root 592M Jan  6  2016 hg19_exac03.txt\r\n",
      "-rw-r--r-- 1 root root  23M Jan  6  2016 hg19_exac03.txt.idx\r\n",
      "-rw-r--r-- 1 root root  11M Jan  6  2016 hg19_genomicSuperDups.txt\r\n",
      "-rw-r--r-- 1 root root  11M Jan  6  2016 hg19_kgXref.txt\r\n",
      "-rw-r--r-- 1 root root 222M Jan  6  2016 hg19_knownGeneMrna.fa\r\n",
      "-rw-r--r-- 1 root root  20M Jan  6  2016 hg19_knownGene.txt\r\n",
      "-rw-r--r-- 1 root root  11G Jan  6  2016 hg19_ljb26_all.txt\r\n",
      "-rw-r--r-- 1 root root  18M Jan  6  2016 hg19_ljb26_all.txt.idx\r\n",
      "-rw-r--r-- 1 root root 152M Jan  6  2016 hg19_refGeneMrna.fa\r\n",
      "-rw-r--r-- 1 root root  14M Jan  6  2016 hg19_refGene.txt\r\n",
      "-rw-r--r-- 1 root root 622K Jan  6  2016 hg19_refGeneVersion.txt\r\n",
      "-rw-r--r-- 1 root root 833M Jan  6  2016 hg19_SAS.sites.2014_10.txt\r\n",
      "-rw-r--r-- 1 root root  85M Jan  6  2016 hg19_SAS.sites.2014_10.txt.idx\r\n",
      "-rw-r--r-- 1 root root 968M Jan  6  2016 hg19_SAS.sites.2015_08.txt\r\n",
      "-rw-r--r-- 1 root root  85M Jan  6  2016 hg19_SAS.sites.2015_08.txt.idx\r\n",
      "-rw-r--r-- 1 root root  12G Jan  6  2016 hg19_snp138NonFlagged.txt\r\n",
      "-rw-r--r-- 1 root root 101M Jan  6  2016 hg19_snp138NonFlagged.txt.idx\r\n",
      "-rw-r--r-- 1 root root  12G Jan  6  2016 hg19_snp138.txt\r\n",
      "-rw-r--r-- 1 root root 102M Jan  6  2016 hg19_snp138.txt.idx\r\n"
     ]
    }
   ],
   "source": [
    "ls -lh /data/reference/human/annovar"
   ]
  },
  {
   "cell_type": "code",
   "execution_count": 3,
   "metadata": {
    "collapsed": false
   },
   "outputs": [
    {
     "name": "stdout",
     "output_type": "stream",
     "text": [
      "NOTICE: Finished reading 60 lines from VCF file\r\n",
      "NOTICE: A total of 12 locus in VCF file passed QC threshold, representing 12 SNPs (9 transitions and 3 transversions) and 0 indels/substitutions\r\n",
      "NOTICE: Finished writing allele frequencies based on 12 SNP genotypes (9 transitions and 3 transversions) and 0 indels/substitutions for 1 samples\r\n",
      "-----------------------------------------------------------------\r\n",
      "NOTICE: Processing operation=g protocol=refGene\r\n",
      "\r\n",
      "NOTICE: Running with system command <annotate_variation.pl -geneanno -buildver hg19 -dbtype refGene -outfile result.refGene -exonsort result.avinput /data/reference/human/annovar>\r\n",
      "NOTICE: Reading gene annotation from /data/reference/human/annovar/hg19_refGene.txt ... Done with 49665 transcripts (including 10886 without coding sequence annotation) for 25936 unique genes\r\n",
      "NOTICE: Reading FASTA sequences from /data/reference/human/annovar/hg19_refGeneMrna.fa ... Done with 1 sequences\r\n",
      "WARNING: A total of 342 sequences will be ignored due to lack of correct ORF annotation\r\n",
      "NOTICE: Finished gene-based annotation on 12 genetic variants in result.avinput\r\n",
      "NOTICE: Output files were written to result.refGene.variant_function, result.refGene.exonic_variant_function\r\n",
      "-----------------------------------------------------------------\r\n",
      "NOTICE: Processing operation=f protocol=snp138\r\n",
      "\r\n",
      "NOTICE: Running system command <annotate_variation.pl -filter -dbtype snp138 -buildver hg19 -outfile result result.avinput /data/reference/human/annovar>\r\n",
      "NOTICE: Variants matching filtering criteria are written to result.hg19_snp138_dropped, other variants are written to result.hg19_snp138_filtered\r\n",
      "NOTICE: Processing next batch with 12 unique variants in 12 input lines\r\n",
      "NOTICE: Database index loaded. Total number of bins is 2894320 and the number of bins to be scanned is 9\r\n",
      "NOTICE: Scanning filter database /data/reference/human/annovar/hg19_snp138.txt...Done\r\n",
      "-----------------------------------------------------------------\r\n",
      "NOTICE: Processing operation=f protocol=clinvar_20150629\r\n",
      "\r\n",
      "NOTICE: Running system command <annotate_variation.pl -filter -dbtype clinvar_20150629 -buildver hg19 -outfile result result.avinput /data/reference/human/annovar>\r\n",
      "NOTICE: the --dbtype clinvar_20150629 is assumed to be in generic ANNOVAR database format\r\n",
      "NOTICE: Variants matching filtering criteria are written to result.hg19_clinvar_20150629_dropped, other variants are written to result.hg19_clinvar_20150629_filtered\r\n",
      "NOTICE: Processing next batch with 12 unique variants in 12 input lines\r\n",
      "NOTICE: Database index loaded. Total number of bins is 49139 and the number of bins to be scanned is 7\r\n",
      "NOTICE: Scanning filter database /data/reference/human/annovar/hg19_clinvar_20150629.txt...Done\r\n",
      "-----------------------------------------------------------------\r\n",
      "NOTICE: Multianno output file is written to result.hg19_multianno.csv\r\n"
     ]
    }
   ],
   "source": [
    "module load bio/annovar\n",
    "\n",
    "# set ANNOVAR path\n",
    "ANNOVAR=/data/reference/human/annovar\n",
    "\n",
    "convert2annovar.pl \\\n",
    "            -format vcf4 result.vcf \\\n",
    "            -allsample \\\n",
    "            -withfreq \\\n",
    "            --includeinfo \\\n",
    "            -outfile result.avinput;\n",
    "\n",
    "table_annovar.pl result.avinput $ANNOVAR \\\n",
    "            -buildver hg19 \\\n",
    "            -out result \\\n",
    "            -remove \\\n",
    "            -protocol refGene,snp138,clinvar_20150629 -operation g,f,f \\\n",
    "            -nastring . \\\n",
    "            -csvout;"
   ]
  },
  {
   "cell_type": "markdown",
   "metadata": {},
   "source": [
    "# Taking a look at the annotated variant file"
   ]
  },
  {
   "cell_type": "code",
   "execution_count": 4,
   "metadata": {
    "collapsed": false
   },
   "outputs": [
    {
     "name": "stdout",
     "output_type": "stream",
     "text": [
      "Chr,Start,End,Ref,Alt,Func.refGene,Gene.refGene,GeneDetail.refGene,ExonicFunc.refGene,AAChange.refGene,snp138,clinvar_20150629\r\n",
      "chr5,148386525,148386525,T,G,\"exonic\",\"SH3TC2\",\".\",\"synonymous SNV\",\"SH3TC2:NM_024577:exon16:c.A3594C:p.P1198P\",\"rs6871030\",\"CLINSIG=non-pathogenic,probable-non-pathogenic;CLNDBN=not_provided,not_specified;CLNREVSTAT=criteria_provided\\x2c_single_submitter,no_assertion_criteria_provided;CLNACC=RCV000128035.1,RCV000118337.2;CLNDSDB=MedGen,MedGen;CLNDSDBID=CN221809,CN169374\"\r\n",
      "chr5,148389763,148389763,G,A,\"intronic\",\"SH3TC2\",\".\",.,.,\"rs1025476\",.\r\n",
      "chr5,148389868,148389868,T,G,\"exonic\",\"SH3TC2\",\".\",\"nonsynonymous SNV\",\"SH3TC2:NM_024577:exon14:c.A3292C:p.T1098P\",\"rs77636085\",.\r\n",
      "chr5,148406032,148406032,C,T,\"intronic\",\"SH3TC2\",\".\",.,.,\"rs10075404\",.\r\n",
      "chr5,148406386,148406386,T,C,\"intronic\",\"SH3TC2\",\".\",.,.,\"rs17722209\",.\r\n",
      "chr5,148406435,148406435,G,A,\"exonic\",\"SH3TC2\",\".\",\"stopgain\",\"SH3TC2:NM_024577:exon11:c.C2860T:p.R954X\",\"rs80338933\",\"CLINSIG=pathogenic|pathogenic|pathogenic|pathogenic;CLNDBN=Charcot-Marie-Tooth_disease\\x2c_type_4C|Mononeuropathy_of_the_median_nerve\\x2c_mild|Charcot-Marie-Tooth_disease|Charcot-Marie-Tooth_disease\\x2c_type_IV;CLNREVSTAT=no_assertion_criteria_provided|no_assertion_criteria_provided|no_assertion_criteria_provided|no_assertion_criteria_provided;CLNACC=RCV000002586.3|RCV000002587.3|RCV000144877.1|RCV000168436.1;CLNDSDB=GeneReviews:GeneReviews:MedGen:OMIM:Orphanet|MedGen:OMIM|GeneReviews:MedGen:Orphanet:SNOMED_CT|GeneReviews:MedGen;CLNDSDBID=NBK1340:NBK1468:C1866636:601596:ORPHA99949|C3150596:613353|NBK1358:C0007959:ORPHA166:50548001|NBK1358:CN043578\"\r\n",
      "chr5,148407708,148407708,A,C,\"exonic\",\"SH3TC2\",\".\",\"synonymous SNV\",\"SH3TC2:NM_024577:exon11:c.T1587G:p.R529R\",\"rs1432794\",.\r\n",
      "chr5,148408101,148408101,A,G,\"exonic\",\"SH3TC2\",\".\",\"synonymous SNV\",\"SH3TC2:NM_024577:exon11:c.T1194C:p.G398G\",\"rs1432793\",\"CLINSIG=probable-non-pathogenic;CLNDBN=not_specified;CLNREVSTAT=no_assertion_criteria_provided;CLNACC=RCV000118334.2;CLNDSDB=MedGen;CLNDSDBID=CN169374\"\r\n",
      "chr5,148422281,148422281,A,G,\"exonic\",\"SH3TC2\",\".\",\"nonsynonymous SNV\",\"SH3TC2:NM_024577:exon5:c.T505C:p.Y169H\",\"rs80359890\",\"CLINSIG=pathogenic|pathogenic;CLNDBN=Charcot-Marie-Tooth_disease\\x2c_type_4C|Mononeuropathy_of_the_median_nerve\\x2c_mild;CLNREVSTAT=no_assertion_criteria_provided|no_assertion_criteria_provided;CLNACC=RCV000002590.2|RCV000002591.2;CLNDSDB=GeneReviews:GeneReviews:MedGen:OMIM:Orphanet|MedGen:OMIM;CLNDSDBID=NBK1340:NBK1468:C1866636:601596:ORPHA99949|C3150596:613353\"\r\n"
     ]
    }
   ],
   "source": [
    "head result.hg19_multianno.csv"
   ]
  },
  {
   "cell_type": "markdown",
   "metadata": {},
   "source": [
    "We can download the CSV file and open it in Microsoft Excel"
   ]
  },
  {
   "cell_type": "markdown",
   "metadata": {},
   "source": [
    "# Preparing the VCF file for visualization"
   ]
  },
  {
   "cell_type": "code",
   "execution_count": 5,
   "metadata": {
    "collapsed": false
   },
   "outputs": [
    {
     "name": "stdout",
     "output_type": "stream",
     "text": []
    }
   ],
   "source": [
    "module load bio/htslib\n",
    "bgzip -c result.vcf > result.vcf.gz"
   ]
  },
  {
   "cell_type": "code",
   "execution_count": 6,
   "metadata": {
    "collapsed": false
   },
   "outputs": [
    {
     "name": "stdout",
     "output_type": "stream",
     "text": []
    }
   ],
   "source": [
    "tabix -p vcf result.vcf.gz"
   ]
  },
  {
   "cell_type": "code",
   "execution_count": 7,
   "metadata": {
    "collapsed": false
   },
   "outputs": [
    {
     "name": "stdout",
     "output_type": "stream",
     "text": [
      "total 492476\r\n",
      "-rw-rw-r-- 1 jupyter jupyter     13805 May 19 16:54 01 - Preparations for Finding a Disease Mutation.ipynb\r\n",
      "-rw-rw-r-- 1 jupyter jupyter     15890 May 19 17:04 02 - Aligning the FASTQ File.ipynb\r\n",
      "-rw-rw-r-- 1 jupyter jupyter     14148 May 19 17:17 03 - Variant Calling.ipynb\r\n",
      "-rw-rw-r-- 1 jupyter jupyter     17722 May 19 17:22 04 - Annotation of Variants.ipynb\r\n",
      "-rw-r--r-- 1 jupyter jupyter 184533572 May 19 11:12 chr5.fa\r\n",
      "-rw-rw-r-- 1 jupyter jupyter       131 May 19 11:12 chr5.fa.amb\r\n",
      "-rw-rw-r-- 1 jupyter jupyter        43 May 19 11:12 chr5.fa.ann\r\n",
      "-rw-rw-r-- 1 jupyter jupyter 180915336 May 19 11:12 chr5.fa.bwt\r\n",
      "-rw-rw-r-- 1 jupyter jupyter        23 May 19 17:09 chr5.fa.fai\r\n",
      "-rw-rw-r-- 1 jupyter jupyter  45228817 May 19 11:12 chr5.fa.pac\r\n",
      "-rw-rw-r-- 1 jupyter jupyter  90457680 May 19 11:12 chr5.fa.sa\r\n",
      "-rw-r--r-- 1 jupyter jupyter    839362 May 19 11:12 input.fq\r\n",
      "-rw-rw-r-- 1 jupyter jupyter     25235 May 19 16:53 \u001b[0m\u001b[38;5;13minput.png\u001b[0m\r\n",
      "-rw-rw-r-- 1 jupyter jupyter      6134 May 19 16:53 input.qual\r\n",
      "-rw-rw-r-- 1 jupyter jupyter    665637 May 19 17:12 log.txt\r\n",
      "-rw-rw-r-- 1 jupyter jupyter    216886 May 19 17:08 mapped.bam\r\n",
      "-rw-rw-r-- 1 jupyter jupyter    985658 May 19 17:00 mapped.sam\r\n",
      "-rw-rw-r-- 1 jupyter jupyter    216866 May 19 17:09 mapped.sort.bam\r\n",
      "-rw-rw-r-- 1 jupyter jupyter     72808 May 19 17:09 mapped.sort.bam.bai\r\n",
      "-rw-rw-r-- 1 jupyter jupyter      3870 May 19 17:20 result.avinput\r\n",
      "-rw-rw-r-- 1 jupyter jupyter      2812 May 19 17:20 result.hg19_multianno.csv\r\n",
      "-rw-rw-r-- 1 jupyter jupyter      9379 May 19 17:12 result.vcf\r\n",
      "-rw-rw-r-- 1 jupyter jupyter      3255 May 19 17:25 \u001b[38;5;9mresult.vcf.gz\u001b[0m\r\n",
      "-rw-rw-r-- 1 jupyter jupyter       361 May 19 17:26 result.vcf.gz.tbi\r\n"
     ]
    }
   ],
   "source": [
    "ls -l"
   ]
  },
  {
   "cell_type": "markdown",
   "metadata": {},
   "source": [
    "## Linking to web-based genome browser\n",
    "\n",
    "Go to http://chromozoom.org\n",
    "\n",
    "Paste this line under custom track: \n",
    "\n",
    "```track type=vcfTabix name=\"My VCF\" bigDataUrl=http://bchdb.nus.edu.sg/media/notebook/result.vcf.gz```"
   ]
  },
  {
   "cell_type": "code",
   "execution_count": null,
   "metadata": {
    "collapsed": true
   },
   "outputs": [],
   "source": []
  }
 ],
 "metadata": {
  "kernelspec": {
   "display_name": "Bash",
   "language": "bash",
   "name": "bash"
  },
  "language_info": {
   "codemirror_mode": "shell",
   "file_extension": ".sh",
   "mimetype": "text/x-sh",
   "name": "bash"
  }
 },
 "nbformat": 4,
 "nbformat_minor": 0
}
