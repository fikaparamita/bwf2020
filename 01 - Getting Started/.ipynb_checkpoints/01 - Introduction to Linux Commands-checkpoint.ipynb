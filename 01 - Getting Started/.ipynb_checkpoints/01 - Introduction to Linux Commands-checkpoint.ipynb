{
 "cells": [
  {
   "cell_type": "markdown",
   "metadata": {},
   "source": [
    "# Basic Introduction to Linux"
   ]
  },
  {
   "cell_type": "markdown",
   "metadata": {},
   "source": [
    "## Listing the contents of a directory\n",
    "\n",
    "We start by looking at the contents of the Linux filesystem. To do this, we list the files contained within a directory by using the command 'ls'.\n",
    "\n",
    "Hooray"
   ]
  },
  {
   "cell_type": "code",
   "execution_count": 1,
   "metadata": {
    "collapsed": false
   },
   "outputs": [
    {
     "name": "stdout",
     "output_type": "stream",
     "text": [
      "01 - Introduction to Linux Commands.ipynb  \u001b[0m\u001b[38;5;34mwelcome.sh\u001b[0m\r\n"
     ]
    }
   ],
   "source": [
    "ls"
   ]
  },
  {
   "cell_type": "markdown",
   "metadata": {},
   "source": [
    "As you can see, the 'ls' command lists the files or directories present in the directory. However, we do not have details about the files/directories.\n",
    "\n",
    "To display more information, we can add options after the 'ls' command:\n",
    "\n",
    "    -l long list format (show more detail)\n",
    "    -a show hidden files also (filenames starting with . in Linux are hidden)\n",
    "    -h show file sizes in human-readable format (e.g. KB, GB, TB)"
   ]
  },
  {
   "cell_type": "code",
   "execution_count": 3,
   "metadata": {
    "collapsed": false
   },
   "outputs": [
    {
     "name": "stdout",
     "output_type": "stream",
     "text": [
      "total 24K\r\n",
      "-rw-rw-r-- 1 jupyter jupyter 18K May 19 16:20 01 - Introduction to Linux Commands.ipynb\r\n",
      "-rwxrwxr-x 1 jupyter jupyter  45 May 19 11:12 \u001b[0m\u001b[38;5;34mwelcome.sh\u001b[0m\r\n"
     ]
    }
   ],
   "source": [
    "ls -lh"
   ]
  },
  {
   "cell_type": "markdown",
   "metadata": {},
   "source": [
    "The long list option provides more information about files and directories. From left to right, the listing provides information about:\n",
    "\n",
    "    permissions  - (whether other can read/write/execute a file)\n",
    "    owner/group  - the name and group of the user of the file/directory\n",
    "    file size    - size of file in bytes\n",
    "    date/time    \n",
    "    filename\n",
    "    \n",
    "    \n",
    "Permissions specify who can read/write/execute a file (owner, group, others) with 3 options r/w/x. In addition, it also tell you if it is a directory    \n",
    "\n",
    "<img src=\"http://linuxcommand.org/images/permissions_diagram.gif\">\n",
    "\n",
    "In this case, all the files have the permission setting or -rw-rw-r--\n",
    "\n",
    "- The first letter is '-' and not 'd' indicating that this is a file and not a directory\n",
    "- The next group of 3 specify the permissions for the owner. In this case 'rw-' mean read/write access\n",
    "- The 2nd group of 3 specify permissions for a group. 'rw-' means read/write access\n",
    "- The 3rd group of 3 specify permissions for all others. 'r--' means only read access"
   ]
  },
  {
   "cell_type": "markdown",
   "metadata": {},
   "source": [
    "## Finding out where we are\n",
    "\n",
    "File and directories are organized in a hierarchical structure, starting with /.\n",
    "\n",
    "For example:\n",
    "\n",
    "<img src=\"https://www.codepuppet.com/wp-content/uploads/2012/06/linux_directory_structure.png\" width=640>\n",
    "\n",
    "Let's find out where are we in the directory structure by using the 'pwd' command\n"
   ]
  },
  {
   "cell_type": "code",
   "execution_count": 4,
   "metadata": {
    "collapsed": false
   },
   "outputs": [
    {
     "name": "stdout",
     "output_type": "stream",
     "text": [
      "/data/jupyter/000/01 - Getting Started\r\n"
     ]
    }
   ],
   "source": [
    "pwd"
   ]
  },
  {
   "cell_type": "markdown",
   "metadata": {},
   "source": [
    "## Creating, changing and deleting directories\n",
    "\n",
    "We can make directories or folders to organize and store our files.\n",
    "\n",
    "Here, let's make a directory called 'mydir' using the command mkdir (short for make directory)"
   ]
  },
  {
   "cell_type": "code",
   "execution_count": 5,
   "metadata": {
    "collapsed": false
   },
   "outputs": [
    {
     "name": "stdout",
     "output_type": "stream",
     "text": []
    }
   ],
   "source": [
    "mkdir mydir"
   ]
  },
  {
   "cell_type": "markdown",
   "metadata": {},
   "source": [
    "Let's see the listing again using 'ls -l'"
   ]
  },
  {
   "cell_type": "code",
   "execution_count": 6,
   "metadata": {
    "collapsed": false
   },
   "outputs": [
    {
     "name": "stdout",
     "output_type": "stream",
     "text": [
      "total 24K\r\n",
      "-rw-rw-r-- 1 jupyter jupyter 18K May 19 16:24 01 - Introduction to Linux Commands.ipynb\r\n",
      "drwxrwxr-x 2 jupyter jupyter  10 May 19 16:24 \u001b[0m\u001b[38;5;27mmydir\u001b[0m\r\n",
      "-rwxrwxr-x 1 jupyter jupyter  45 May 19 11:12 \u001b[38;5;34mwelcome.sh\u001b[0m\r\n"
     ]
    }
   ],
   "source": [
    "ls -lh"
   ]
  },
  {
   "cell_type": "markdown",
   "metadata": {},
   "source": [
    "We can see that now we have a new listing call mydir and the permissions are drwxrwxr-x. The first character in the permissions is 'd' indicating that this is a directory.\n",
    "\n",
    "Having created the directory, we can enter it to look around using the command 'cd' (for change directory)"
   ]
  },
  {
   "cell_type": "code",
   "execution_count": 7,
   "metadata": {
    "collapsed": false
   },
   "outputs": [
    {
     "name": "stdout",
     "output_type": "stream",
     "text": []
    }
   ],
   "source": [
    "cd mydir"
   ]
  },
  {
   "cell_type": "code",
   "execution_count": 8,
   "metadata": {
    "collapsed": false
   },
   "outputs": [
    {
     "name": "stdout",
     "output_type": "stream",
     "text": [
      "total 0\r\n"
     ]
    }
   ],
   "source": [
    "ls -l"
   ]
  },
  {
   "cell_type": "markdown",
   "metadata": {},
   "source": [
    "No surprise we have an empty directory since it's newly created. We can add/delete files inside this directory. For example let us use the command 'touch' to make an empty file."
   ]
  },
  {
   "cell_type": "code",
   "execution_count": 9,
   "metadata": {
    "collapsed": false
   },
   "outputs": [
    {
     "name": "stdout",
     "output_type": "stream",
     "text": []
    }
   ],
   "source": [
    "touch myfile"
   ]
  },
  {
   "cell_type": "code",
   "execution_count": 10,
   "metadata": {
    "collapsed": false
   },
   "outputs": [
    {
     "name": "stdout",
     "output_type": "stream",
     "text": [
      "total 0\r\n",
      "-rw-rw-r-- 1 jupyter jupyter 0 May 19 16:26 myfile\r\n"
     ]
    }
   ],
   "source": [
    "ls -l"
   ]
  },
  {
   "cell_type": "markdown",
   "metadata": {},
   "source": [
    "Let's now get out of the directory by typing 'cd ..'\n",
    "\n",
    "The '..' characters mean to go up one level (like backtracking)."
   ]
  },
  {
   "cell_type": "code",
   "execution_count": 11,
   "metadata": {
    "collapsed": false
   },
   "outputs": [
    {
     "name": "stdout",
     "output_type": "stream",
     "text": []
    }
   ],
   "source": [
    "cd .."
   ]
  },
  {
   "cell_type": "code",
   "execution_count": 13,
   "metadata": {
    "collapsed": false
   },
   "outputs": [
    {
     "name": "stdout",
     "output_type": "stream",
     "text": [
      "total 24K\r\n",
      "-rw-rw-r-- 1 jupyter jupyter 19K May 19 16:28 01 - Introduction to Linux Commands.ipynb\r\n",
      "drwxrwxr-x 2 jupyter jupyter  27 May 19 16:26 \u001b[0m\u001b[38;5;27mmydir\u001b[0m\r\n",
      "-rwxrwxr-x 1 jupyter jupyter  45 May 19 11:12 \u001b[38;5;34mwelcome.sh\u001b[0m\r\n"
     ]
    }
   ],
   "source": [
    "ls -lh"
   ]
  },
  {
   "cell_type": "markdown",
   "metadata": {},
   "source": [
    "We are now back out of 'mydir'.\n",
    "\n",
    "We can also list the contents of a directory by typing 'ls -l (name of directory)'"
   ]
  },
  {
   "cell_type": "code",
   "execution_count": 14,
   "metadata": {
    "collapsed": false
   },
   "outputs": [
    {
     "name": "stdout",
     "output_type": "stream",
     "text": [
      "total 0\r\n",
      "-rw-rw-r-- 1 jupyter jupyter 0 May 19 16:26 myfile\r\n"
     ]
    }
   ],
   "source": [
    "ls -l mydir"
   ]
  },
  {
   "cell_type": "markdown",
   "metadata": {},
   "source": [
    "Let us see how we can delete a directory using the command 'rmdir' (for remove directory)"
   ]
  },
  {
   "cell_type": "code",
   "execution_count": 15,
   "metadata": {
    "collapsed": false
   },
   "outputs": [
    {
     "name": "stdout",
     "output_type": "stream",
     "text": [
      "rmdir: failed to remove ‘mydir’: Directory not empty\r\n"
     ]
    }
   ],
   "source": [
    "rmdir mydir"
   ]
  },
  {
   "cell_type": "markdown",
   "metadata": {},
   "source": [
    "Oops! We cannot remove the directory if it contains file. To delete the directory we need to delete any files within the directory using the command 'rm' (for remove)\n",
    "\n",
    "**Be very careful with the 'rm' command as a delete function in Linux does not have an undo function.**\n",
    "\n",
    "We can remove the file we created in the directory in 2 ways:\n",
    "\n",
    "1. change into mydir, remove the file, move out of mydir\n",
    "2. remove the file within mydir by referring to the path\n",
    "\n",
    "Let us use the 2nd method."
   ]
  },
  {
   "cell_type": "code",
   "execution_count": 16,
   "metadata": {
    "collapsed": false
   },
   "outputs": [
    {
     "name": "stdout",
     "output_type": "stream",
     "text": []
    }
   ],
   "source": [
    "rm mydir/myfile"
   ]
  },
  {
   "cell_type": "code",
   "execution_count": 17,
   "metadata": {
    "collapsed": false
   },
   "outputs": [
    {
     "name": "stdout",
     "output_type": "stream",
     "text": [
      "total 0\r\n"
     ]
    }
   ],
   "source": [
    "ls -l mydir"
   ]
  },
  {
   "cell_type": "markdown",
   "metadata": {},
   "source": [
    "Now that the directory is empty, we can remove it."
   ]
  },
  {
   "cell_type": "code",
   "execution_count": 18,
   "metadata": {
    "collapsed": false
   },
   "outputs": [
    {
     "name": "stdout",
     "output_type": "stream",
     "text": []
    }
   ],
   "source": [
    "rmdir mydir"
   ]
  },
  {
   "cell_type": "code",
   "execution_count": 19,
   "metadata": {
    "collapsed": false
   },
   "outputs": [
    {
     "name": "stdout",
     "output_type": "stream",
     "text": [
      "total 24\r\n",
      "-rw-rw-r-- 1 jupyter jupyter 19535 May 19 16:30 01 - Introduction to Linux Commands.ipynb\r\n",
      "-rwxrwxr-x 1 jupyter jupyter    45 May 19 11:12 \u001b[0m\u001b[38;5;34mwelcome.sh\u001b[0m\r\n"
     ]
    }
   ],
   "source": [
    "ls -l"
   ]
  },
  {
   "cell_type": "markdown",
   "metadata": {},
   "source": [
    "# Input/Output and Redirection/Piping\n",
    "\n",
    "Next, let us look at how input and output is used in Linux and how we can redirect the output to another program or to a file\n",
    "\n",
    "The input from the keyboard or another program is called **stdin** (standard in). This input can be processed by a program and this will generate a **stdout** (standard out) as well as a **stderr** (standard error).\n",
    "\n",
    "NOTE: The **stdout** from a program can either be redirected into a file, or passed on to another program.\n",
    "\n",
    "<img src=\"https://www.vlsci.org.au/documentation/fundamentals/using_unix/img/stdin_stdout.png\">"
   ]
  },
  {
   "cell_type": "markdown",
   "metadata": {},
   "source": [
    "As an example, let us use the command 'echo' to print out a statement to stdout"
   ]
  },
  {
   "cell_type": "code",
   "execution_count": 20,
   "metadata": {
    "collapsed": false
   },
   "outputs": [
    {
     "name": "stdout",
     "output_type": "stream",
     "text": [
      "I love this workshop\r\n"
     ]
    }
   ],
   "source": [
    "echo \"I love this workshop\""
   ]
  },
  {
   "cell_type": "markdown",
   "metadata": {},
   "source": [
    "In this case, there was no error, so no stderr output was generated"
   ]
  },
  {
   "cell_type": "markdown",
   "metadata": {},
   "source": [
    "Now, this stdout can be:\n",
    "\n",
    "1. Redirected to a file to save the output\n",
    "2. Passed on to another program\n",
    "\n",
    "Let us try (1), which is directing the output of the echo command to a file. We do this using the '>' symbol."
   ]
  },
  {
   "cell_type": "code",
   "execution_count": 21,
   "metadata": {
    "collapsed": false
   },
   "outputs": [
    {
     "name": "stdout",
     "output_type": "stream",
     "text": []
    }
   ],
   "source": [
    "echo \"I love this workshop\" > myfile.txt"
   ]
  },
  {
   "cell_type": "code",
   "execution_count": 22,
   "metadata": {
    "collapsed": false
   },
   "outputs": [
    {
     "name": "stdout",
     "output_type": "stream",
     "text": [
      "total 28\r\n",
      "-rw-rw-r-- 1 jupyter jupyter 20286 May 19 16:32 01 - Introduction to Linux Commands.ipynb\r\n",
      "-rw-rw-r-- 1 jupyter jupyter    21 May 19 16:34 myfile.txt\r\n",
      "-rwxrwxr-x 1 jupyter jupyter    45 May 19 11:12 \u001b[0m\u001b[38;5;34mwelcome.sh\u001b[0m\r\n"
     ]
    }
   ],
   "source": [
    "ls -l"
   ]
  },
  {
   "cell_type": "markdown",
   "metadata": {},
   "source": [
    "We can take a look at the contents of a file by using the command 'cat'"
   ]
  },
  {
   "cell_type": "code",
   "execution_count": 23,
   "metadata": {
    "collapsed": false
   },
   "outputs": [
    {
     "name": "stdout",
     "output_type": "stream",
     "text": [
      "I love this workshop\r\n"
     ]
    }
   ],
   "source": [
    "cat myfile.txt"
   ]
  },
  {
   "cell_type": "markdown",
   "metadata": {},
   "source": [
    "Now, let us see (2), which is passing the stdout to another program.\n",
    "\n",
    "We will first use the command 'wc' to count the number of characters in the myfile.txt. We use the option '-c' to display the number of character (instead of lines/words)"
   ]
  },
  {
   "cell_type": "code",
   "execution_count": 24,
   "metadata": {
    "collapsed": false
   },
   "outputs": [
    {
     "name": "stdout",
     "output_type": "stream",
     "text": [
      "21 myfile.txt\r\n"
     ]
    }
   ],
   "source": [
    "wc -c myfile.txt"
   ]
  },
  {
   "cell_type": "markdown",
   "metadata": {},
   "source": [
    "Here, we see that we have 21 characters.\n",
    "\n",
    "We can repeat the same process of counting the number of characters generate from the echo command directly, without first saving it into a file.\n",
    "\n",
    "To do this, we will use the '|' symbol which passes the stdout of a program to the next program."
   ]
  },
  {
   "cell_type": "code",
   "execution_count": 25,
   "metadata": {
    "collapsed": false
   },
   "outputs": [
    {
     "name": "stdout",
     "output_type": "stream",
     "text": [
      "21\r\n"
     ]
    }
   ],
   "source": [
    "echo \"I love this workshop\" | wc -c"
   ]
  },
  {
   "cell_type": "markdown",
   "metadata": {
    "collapsed": true
   },
   "source": [
    "## Paths and Running Programs\n",
    "\n",
    "We used a few commands like 'wc' and 'echo' which refer to programs that provide the word count and echo functions.\n",
    "\n",
    "For Linux to execute a command it needs to know where to find them. Let us take a look at the location of the commands we used by using the command 'which'"
   ]
  },
  {
   "cell_type": "code",
   "execution_count": 26,
   "metadata": {
    "collapsed": false
   },
   "outputs": [
    {
     "name": "stdout",
     "output_type": "stream",
     "text": [
      "/bin/echo\r\n"
     ]
    }
   ],
   "source": [
    "which echo"
   ]
  },
  {
   "cell_type": "code",
   "execution_count": 27,
   "metadata": {
    "collapsed": false
   },
   "outputs": [
    {
     "name": "stdout",
     "output_type": "stream",
     "text": [
      "/bin/wc\r\n"
     ]
    }
   ],
   "source": [
    "which wc"
   ]
  },
  {
   "cell_type": "markdown",
   "metadata": {},
   "source": [
    "We can see that both commands reside in the /bin directory. In Linux, the paths can be set in an environmental variable called PATH.\n",
    "\n",
    "We can talk a look at PATH by using the command 'echo'. Note in this case here, when we refer to a variable, we need to use the $ prefix."
   ]
  },
  {
   "cell_type": "code",
   "execution_count": 28,
   "metadata": {
    "collapsed": false
   },
   "outputs": [
    {
     "name": "stdout",
     "output_type": "stream",
     "text": [
      "/opt/sge/bin:/opt/sge/bin/lx-amd64:/bin:/sbin:/bin:/usr/sbin:/usr/bin\r\n"
     ]
    }
   ],
   "source": [
    "echo $PATH"
   ]
  },
  {
   "cell_type": "markdown",
   "metadata": {},
   "source": [
    "Let's now take a look at a small program 'welcome.sh' in our current directory"
   ]
  },
  {
   "cell_type": "code",
   "execution_count": 29,
   "metadata": {
    "collapsed": false
   },
   "outputs": [
    {
     "name": "stdout",
     "output_type": "stream",
     "text": [
      "total 32\r\n",
      "-rw-rw-r-- 1 jupyter jupyter 21613 May 19 16:38 01 - Introduction to Linux Commands.ipynb\r\n",
      "-rw-rw-r-- 1 jupyter jupyter    21 May 19 16:34 myfile.txt\r\n",
      "-rwxrwxr-x 1 jupyter jupyter    45 May 19 11:12 \u001b[0m\u001b[38;5;34mwelcome.sh\u001b[0m\r\n"
     ]
    }
   ],
   "source": [
    "ls -l"
   ]
  },
  {
   "cell_type": "markdown",
   "metadata": {},
   "source": [
    "Try running the program"
   ]
  },
  {
   "cell_type": "code",
   "execution_count": 30,
   "metadata": {
    "collapsed": false
   },
   "outputs": [
    {
     "name": "stdout",
     "output_type": "stream",
     "text": [
      "bash: welcome.sh: command not found...\r\n"
     ]
    }
   ],
   "source": [
    "welcome.sh"
   ]
  },
  {
   "cell_type": "markdown",
   "metadata": {},
   "source": [
    "The program can't be found because it is not in the PATH variable. We can however, specify the current directory when running the program."
   ]
  },
  {
   "cell_type": "code",
   "execution_count": 31,
   "metadata": {
    "collapsed": false
   },
   "outputs": [
    {
     "name": "stdout",
     "output_type": "stream",
     "text": [
      "Welcome to the Workshop!\r\n"
     ]
    }
   ],
   "source": [
    "./welcome.sh"
   ]
  },
  {
   "cell_type": "markdown",
   "metadata": {},
   "source": [
    "Now, let us try running the command 'bwa', a commonly used alignment program for DNA sequences."
   ]
  },
  {
   "cell_type": "code",
   "execution_count": 32,
   "metadata": {
    "collapsed": false
   },
   "outputs": [
    {
     "name": "stdout",
     "output_type": "stream",
     "text": [
      "bash: bwa: command not found...\r\n"
     ]
    }
   ],
   "source": [
    "bwa"
   ]
  },
  {
   "cell_type": "markdown",
   "metadata": {},
   "source": [
    "Oops, it looks like the command bwa isn't in the PATH. \n",
    "\n",
    "In this system, bwa was installed in a different directory and it is not accessible yet until its path is included in the environmental variable PATH."
   ]
  },
  {
   "cell_type": "markdown",
   "metadata": {},
   "source": [
    "## Setting the path with environment-modules\n",
    "\n",
    "In many server or HPC systems, programs are installed in different directories and the list of PATHS are kept organized using the environment-modules program.\n",
    "\n",
    "To see a catalog of available programs in the system, we can use the command 'module'"
   ]
  },
  {
   "cell_type": "code",
   "execution_count": 33,
   "metadata": {
    "collapsed": false
   },
   "outputs": [
    {
     "name": "stdout",
     "output_type": "stream",
     "text": [
      "\r\n",
      "------------------------ /usr/share/Modules/modulefiles ------------------------\r\n",
      "bio/abyss          bio/cufflinks      bio/mummer         bio/vcftools\r\n",
      "bio/aihunter       bio/delly          bio/opossum        dot\r\n",
      "bio/altanalyze     bio/diamond        bio/picard         module-git\r\n",
      "bio/amos           bio/fastqvalidator bio/pindel         module-info\r\n",
      "bio/annovar        bio/fastx-toolkit  bio/platypus       modules\r\n",
      "bio/bamtools       bio/flash          bio/prinseq        null\r\n",
      "bio/bcftools       bio/freebayes      bio/rapsearch2     use.own\r\n",
      "bio/bedtools       bio/genometools    bio/samtools       util/bpipe\r\n",
      "bio/blat           bio/hisat2         bio/scanindel      util/nextflow\r\n",
      "bio/bwa            bio/htslib         bio/seqtk\r\n",
      "bio/circos         bio/inchworm       bio/snap\r\n",
      "bio/clustal        bio/mojo           bio/stringtie\r\n"
     ]
    }
   ],
   "source": [
    "module avail"
   ]
  },
  {
   "cell_type": "markdown",
   "metadata": {},
   "source": [
    "We can see that there are several programs available in this system, including bwa.\n",
    "\n",
    "Let us load the module using the command 'module load'"
   ]
  },
  {
   "cell_type": "code",
   "execution_count": 34,
   "metadata": {
    "collapsed": false
   },
   "outputs": [
    {
     "name": "stdout",
     "output_type": "stream",
     "text": []
    }
   ],
   "source": [
    "module load bio/bwa"
   ]
  },
  {
   "cell_type": "code",
   "execution_count": 35,
   "metadata": {
    "collapsed": false
   },
   "outputs": [
    {
     "name": "stdout",
     "output_type": "stream",
     "text": [
      "\r\n",
      "Program: bwa (alignment via Burrows-Wheeler transformation)\r\n",
      "Version: 0.7.12-r1044\r\n",
      "Contact: Heng Li <lh3@sanger.ac.uk>\r\n",
      "\r\n",
      "Usage:   bwa <command> [options]\r\n",
      "\r\n",
      "Command: index         index sequences in the FASTA format\r\n",
      "         mem           BWA-MEM algorithm\r\n",
      "         fastmap       identify super-maximal exact matches\r\n",
      "         pemerge       merge overlapping paired ends (EXPERIMENTAL)\r\n",
      "         aln           gapped/ungapped alignment\r\n",
      "         samse         generate alignment (single ended)\r\n",
      "         sampe         generate alignment (paired ended)\r\n",
      "         bwasw         BWA-SW for long queries\r\n",
      "\r\n",
      "         shm           manage indices in shared memory\r\n",
      "         fa2pac        convert FASTA to PAC format\r\n",
      "         pac2bwt       generate BWT from PAC\r\n",
      "         pac2bwtgen    alternative algorithm for generating BWT\r\n",
      "         bwtupdate     update .bwt to the new format\r\n",
      "         bwt2sa        generate SA from BWT and Occ\r\n",
      "\r\n",
      "Note: To use BWA, you need to first index the genome with `bwa index'.\r\n",
      "      There are three alignment algorithms in BWA: `mem', `bwasw', and\r\n",
      "      `aln/samse/sampe'. If you are not sure which to use, try `bwa mem'\r\n",
      "      first. Please `man ./bwa.1' for the manual.\r\n",
      "\r\n"
     ]
    }
   ],
   "source": [
    "bwa"
   ]
  },
  {
   "cell_type": "markdown",
   "metadata": {},
   "source": [
    "Now we are able to execute the program. This is because the 'module load' command added the location of bwa to PATH.\n",
    "\n",
    "Let's take a look at PATH"
   ]
  },
  {
   "cell_type": "code",
   "execution_count": 36,
   "metadata": {
    "collapsed": false
   },
   "outputs": [
    {
     "name": "stdout",
     "output_type": "stream",
     "text": [
      "/usr/local/bio/bwa:/opt/sge/bin:/opt/sge/bin/lx-amd64:/bin:/sbin:/bin:/usr/sbin:/usr/bin\r\n"
     ]
    }
   ],
   "source": [
    "echo $PATH"
   ]
  },
  {
   "cell_type": "markdown",
   "metadata": {},
   "source": [
    "We see here that the path /usr/local/bio/bwa has been added to the PATH variable.\n",
    "\n",
    "To check which modules have been loaded, we use the command 'module list'"
   ]
  },
  {
   "cell_type": "code",
   "execution_count": 37,
   "metadata": {
    "collapsed": false
   },
   "outputs": [
    {
     "name": "stdout",
     "output_type": "stream",
     "text": [
      "Currently Loaded Modulefiles:\r\n",
      "  1) bio/bwa\r\n"
     ]
    }
   ],
   "source": [
    "module list"
   ]
  },
  {
   "cell_type": "markdown",
   "metadata": {},
   "source": [
    "We can also unload the program but using the command 'module unload'"
   ]
  },
  {
   "cell_type": "code",
   "execution_count": 38,
   "metadata": {
    "collapsed": false
   },
   "outputs": [
    {
     "name": "stdout",
     "output_type": "stream",
     "text": []
    }
   ],
   "source": [
    "module unload bio/bwa"
   ]
  },
  {
   "cell_type": "code",
   "execution_count": 39,
   "metadata": {
    "collapsed": false
   },
   "outputs": [
    {
     "name": "stdout",
     "output_type": "stream",
     "text": [
      "No Modulefiles Currently Loaded.\r\n"
     ]
    }
   ],
   "source": [
    "module list"
   ]
  },
  {
   "cell_type": "markdown",
   "metadata": {},
   "source": [
    "Let's try bwa again"
   ]
  },
  {
   "cell_type": "code",
   "execution_count": 40,
   "metadata": {
    "collapsed": false
   },
   "outputs": [
    {
     "name": "stdout",
     "output_type": "stream",
     "text": [
      "bash: bwa: command not found...\r\n"
     ]
    }
   ],
   "source": [
    "bwa"
   ]
  },
  {
   "cell_type": "code",
   "execution_count": 41,
   "metadata": {
    "collapsed": false
   },
   "outputs": [
    {
     "name": "stdout",
     "output_type": "stream",
     "text": [
      "/opt/sge/bin:/opt/sge/bin/lx-amd64:/bin:/sbin:/bin:/usr/sbin:/usr/bin\r\n"
     ]
    }
   ],
   "source": [
    "echo $PATH"
   ]
  },
  {
   "cell_type": "code",
   "execution_count": null,
   "metadata": {
    "collapsed": true
   },
   "outputs": [],
   "source": []
  }
 ],
 "metadata": {
  "kernelspec": {
   "display_name": "Bash",
   "language": "bash",
   "name": "bash"
  },
  "language_info": {
   "codemirror_mode": "shell",
   "file_extension": ".sh",
   "mimetype": "text/x-sh",
   "name": "bash"
  }
 },
 "nbformat": 4,
 "nbformat_minor": 0
}
